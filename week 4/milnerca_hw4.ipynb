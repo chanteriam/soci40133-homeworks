{
  "cells": [
    {
      "cell_type": "markdown",
      "metadata": {
        "id": "tn3DdGZeWUgQ"
      },
      "source": [
        "# Week 4 - Exploring Semantic Spaces (Word Embeddings)\n",
        "This week, we build on last week's topic modeling techniques by taking a text corpus we have developed, specifying an underlying number of dimensions, and training a model with a neural network auto-encoder (one of Google's word2vec  algorithms) that best describes corpus words in their local linguistic contexts, and exploring their locations in the resulting space to learn about the discursive culture that produced them.\n",
        "\n",
        "This is our third document representation we have learned: First, we used word counts. Second, we used LDA topic models built around term coocurrence in the same document (i.e., a \"bag of words\"). Third, documents here are represented as densely indexed locations in dimensions, so that distances between those documents (and words) contain more information, though they require the full vector of dimension loadings (rather than just a few selected topic loadings) to describe. We will explore these spaces to understand complex, semantic relationships between words, index documents with descriptive words, identify the likelihood that a given document would have been produced by a given vector model, and explore how semantic categories can help us understand the cultures that produced them.\n",
        "\n",
        "Note that most modern natural language processing (NLP) research, at least in computer science, uses word embeddings. This is the foundation of most state-of-the-art models.\n",
        "\n",
        "Also note that the code in this Notebook can take many minutes or even hours to run. This is the case for most NLP research these days, and it's a good opportunity to start thinking about how to manage high-compute workloads, such as running code on small samples to test it, loading datafiles in [chunks](https://stackoverflow.com/a/25962187), or [multiprocessing](https://en.wikipedia.org/wiki/Multiprocessing)."
      ]
    },
    {
      "cell_type": "code",
      "source": [
        "from google.colab import drive\n",
        "drive.mount('/content/drive')"
      ],
      "metadata": {
        "id": "NOLJN6CgWZAN",
        "colab": {
          "base_uri": "https://localhost:8080/"
        },
        "outputId": "c78cc821-88ab-4cbd-cb10-77ae586a3f1f"
      },
      "execution_count": 1,
      "outputs": [
        {
          "output_type": "stream",
          "name": "stdout",
          "text": [
            "Mounted at /content/drive\n"
          ]
        }
      ]
    },
    {
      "cell_type": "markdown",
      "metadata": {
        "id": "dB0R1QvtWUgS"
      },
      "source": [
        "## <font color=\"blue\">*Pitch Your Project*</font>\n",
        "\n",
        "<font color=\"blue\">In the three cells immediately following, describe **WHAT** you are planning to analyze for your final project (i.e., texts, contexts and the social game, world and actors you intend to learn about through your analysis) (<200 words), **WHY** you are going to do it (i.e., why would theory and/or the average person benefit from knowing the results of your investigation) (<200 words), and **HOW** you plan to investigate it (i.e., what are the approaches and operations you plan to perform, in sequence, to yield this insight) (<400 words).</font>\n",
        "\n",
        "### ***What?***\n",
        "For our project, Michael Plunkett and I will analyze congressional and Supreme Court\n",
        "abortion-related legislation. Particularly for the congressional legislation, we will explore\n",
        "all legislation from 1973 until 2024. We sourced this legislation from the congress.gov\n",
        "legislation search, where we filtered for any legislation within this period that could\n",
        "have become bills and included the following keywords in the bill text or summary:\n",
        "'abortion,' 'reproduction,' or 'reproductive health care.' For the SCOTUS abortion\n",
        "legislation, we targeted SCOTUS decisions outlined on supreme.justia.com, which provides a\n",
        "list of abortion-relevant SCOTUS decisions from 1965-2022. Through this analysis, we\n",
        "plan to uncover the ways that the legislative abortion discourse has changed over time and\n",
        "the prominent congressional bills that have occurred throughout subsequent pieces of legislation.\n",
        "We will supplement this analysis with legislation in its political history by taking\n",
        "note of the political affiliations of congress members, SCOTUS justices, and the presidency.\n",
        "\n",
        "Chanteria Milner: [Link](https://github.com/chanteriam)\n",
        "Michael Plunkett: [Link](https://github.com/michplunkett)\\\n",
        "Congressional source: [Link](https://www.congress.gov/advanced-search/legislation?congressGroup%5B%5D=0&congresses%5B%5D=118&congresses%5B%5D=117&congresses%5B%5D=116&congresses%5B%5D=115&congresses%5B%5D=114&congresses%5B%5D=113&congresses%5B%5D=112&congresses%5B%5D=111&congresses%5B%5D=110&congresses%5B%5D=109&congresses%5B%5D=108&congresses%5B%5D=107&congresses%5B%5D=106&congresses%5B%5D=105&congresses%5B%5D=104&congresses%5B%5D=103&congresses%5B%5D=102&congresses%5B%5D=101&congresses%5B%5D=100&congresses%5B%5D=99&congresses%5B%5D=98&congresses%5B%5D=97&congresses%5B%5D=96&congresses%5B%5D=95&congresses%5B%5D=94&congresses%5B%5D=93&legislationNumbers=&restrictionType=field&restrictionFields%5B%5D=allBillTitles&restrictionFields%5B%5D=summary&summaryField=billSummary&enterTerms=%22reproductive+health+care%22%2C+%22reproduction%22%2C+%22abortion%22&legislationTypes%5B%5D=hr&legislationTypes%5B%5D=hjres&legislationTypes%5B%5D=s&legislationTypes%5B%5D=sjres&public=true&private=true&chamber=all&actionTerms=&legislativeActionWordVariants=true&dateOfActionOperator=equal&dateOfActionStartDate=&dateOfActionEndDate=&dateOfActionIsOptions=yesterday&dateOfActionToggle=multi&legislativeAction=Any&sponsorState=One&member=&sponsorTypes%5B%5D=sponsor&sponsorTypeBool=OR&dateOfSponsorshipOperator=equal&dateOfSponsorshipStartDate=&dateOfSponsorshipEndDate=&dateOfSponsorshipIsOptions=yesterday&committeeActivity%5B%5D=0&committeeActivity%5B%5D=3&committeeActivity%5B%5D=11&committeeActivity%5B%5D=12&committeeActivity%5B%5D=4&committeeActivity%5B%5D=2&committeeActivity%5B%5D=5&committeeActivity%5B%5D=9&satellite=null&search=&submitted=Submitted)\n",
        "SCOTUS source: [Link](https://supreme.justia.com/cases-by-topic/abortion-reproductive-rights/)\n",
        "\n",
        "### ***Why?***\n",
        "This analysis, in general, will give us an understanding of how abortion discourse has changed over time, and specifically, what arguments were used in the passing of the 1973 Roe v. Wade decision--and with it, the assertion of the constitutional right to abortion and its eventual reversal in the 2022 Dobbs v. Jackson decision. From this, we will be able to uncover what political mechanisms were at play that enabled this regression in legislation, and how such significant cases went on to influence congressional legislation that followed. The average person will, in general, be able to understand how sensitive practices are discussed in the political sphere and what aspects in particular are targeted for protection or not. Moreover, this analysis will allow individuals who want to write reproductive healthcare legislation to understand what arguments are more likely to work over others within certain political contexts.\n",
        "\n",
        "### ***How?***\n",
        "As stated, our project aims to analyze the evolution of abortion discourse in U.S. legislation, particularly between the landmark Roe v. Wade (1973) and Dobbs v. Jackson (2022) decisions, which established and then rescinded abortion as a constitutional right, respectively. We have assembled a dataset of congressional legislation from 1973 to 2024, alongside a dataset of opinions from 13 pivotal Supreme Court cases. The legislative measures generally either attempt to protect the right to abortion or seek to ban it.\n",
        "\n",
        "Firstly, we will apply a clustering method to categorize the congressional legislation into three groups: pro-abortion, anti-abortion, and unrelated (noise). We will review and discard the unrelated legislation. Subsequently, we will employ structural topic modeling on the two relevant clusters to explore the evolution of arguments for and against abortion over time. Due to the absence of specific dates on the legislation, we will use the congressional session number as a temporal reference.\n",
        "\n",
        "Furthermore, we will perform a qualitative and quantitative analysis to compare convergent and divergent themes between the two models. This will be followed by a comprehensive structural topic modeling of the clustered data.\n",
        "\n",
        "Regarding the Supreme Court cases, we plan to use them as benchmarks to categorize legislative sessions. For example, if a case on abortion was adjudicated in 2010 and another in 2015, we would assess the semantic, tonal, and lexical similarities among all congressional legislation enacted between those years. Our hypothesis posits that the substance of Supreme Court opinions significantly influences abortion-related legislation from the time of their issuance until a subsequent opinion emerges. We will also determine which opinions, aside from Roe and Dobbs, exert the most influence on legislative documents.\n",
        "\n",
        "In a broader analysis, we aim to identify terms that are predominantly used in Supreme Court opinions and legislative texts, discounting procedural terminology prior to the analysis. This will highlight the distinct legal and authoritative contexts within which these discussions occur. Legislators typically seek to persuade their peers, while justices are more inclined to articulate informative opinions. We anticipate that these differing objectives will be reflected in the language used.\n",
        "\n",
        "Overall, this analysis is expected to yield insights into the thematic development of abortion legislation and its interplay with Supreme Court rulings.\n",
        "\n",
        "## <font color=\"Blue\">*Pitch Your Sample*</font>\n",
        "\n",
        "<font color=\"Blue\">In the cell immediately following, describe the rationale behind your proposed sample design for your final project. What is the social game, social work, or social actors you about whom you are seeking to make inferences? What are its virtues with respect to your research questions? What are its limitations? What are alternatives? What would be a reasonable path to \"scale up\" your sample for further analysis (i.e., high-profile publication) beyond this class? (<300 words).\n",
        "\n",
        "### ***Which (words)?***\n",
        "Starting in the early 1970s with the adoption of the Hyde Amendment, the amendment that prevented federal funding of abortions through Medicaid, anti-abortion advocates have attempted to reverse the Roe decision through a multitude of avenues. These efforts eventually culminated in the Dobbs v. Jackson decision in 2022. The elevation of the Dobbs v. Jackson case was not something that happened by random chance but instead was the result of decades of concerted efforts by anti-abortion advocates, think tanks, and political action committees. In our project, we intend to see how the social game of these groups probing for judicial vulnerabilities changed over time and the language that made up those attempts. The actors in this study are primarily the congressional legislators and supreme court justices, whom we will study via their decisions and proposed pieces of legislation, respectively. This analysis will give us a direct look into the terminology used to overturn Roe in its successful and unsuccessful cases.\n",
        "\n",
        "Our analysis in this project will undoubtedly give us some valuable insights, but it will not allow us to create the entire picture. The sources we are using only capture the result of the efforts made by anti-abortion advocates, etc. A more complete design of this analysis would take documents from conservative think tanks like the Heritage Foundation, Family Research Council, Moral Majority, etc. Taking in documents from these organizations and other similarly minded ones would give us insight into the documents upstream from the legislative and decision documents we're currently assessing. To scale this project up for a high-profile journal, we could get documents from those organizations listed and look for similarities between them and the documents we're currently examining to see the complete evolution of the language from its initial planning to attempts at federal implementation."
      ]
    },
    {
      "cell_type": "markdown",
      "metadata": {
        "id": "7XXaQ20_WUgT"
      },
      "source": [
        "## Set Up"
      ]
    },
    {
      "cell_type": "code",
      "source": [
        "%pip install virtualenv"
      ],
      "metadata": {
        "id": "W2fy-h-A4CMc",
        "colab": {
          "base_uri": "https://localhost:8080/"
        },
        "outputId": "f6efd89f-cbfd-4edd-8fa9-86898a37184c"
      },
      "execution_count": 2,
      "outputs": [
        {
          "output_type": "stream",
          "name": "stdout",
          "text": [
            "Collecting virtualenv\n",
            "  Downloading virtualenv-20.25.0-py3-none-any.whl (3.8 MB)\n",
            "\u001b[2K     \u001b[90m━━━━━━━━━━━━━━━━━━━━━━━━━━━━━━━━━━━━━━━━\u001b[0m \u001b[32m3.8/3.8 MB\u001b[0m \u001b[31m14.1 MB/s\u001b[0m eta \u001b[36m0:00:00\u001b[0m\n",
            "\u001b[?25hCollecting distlib<1,>=0.3.7 (from virtualenv)\n",
            "  Downloading distlib-0.3.8-py2.py3-none-any.whl (468 kB)\n",
            "\u001b[2K     \u001b[90m━━━━━━━━━━━━━━━━━━━━━━━━━━━━━━━━━━━━━━━━\u001b[0m \u001b[32m468.9/468.9 kB\u001b[0m \u001b[31m46.4 MB/s\u001b[0m eta \u001b[36m0:00:00\u001b[0m\n",
            "\u001b[?25hRequirement already satisfied: filelock<4,>=3.12.2 in /usr/local/lib/python3.10/dist-packages (from virtualenv) (3.13.1)\n",
            "Requirement already satisfied: platformdirs<5,>=3.9.1 in /usr/local/lib/python3.10/dist-packages (from virtualenv) (4.1.0)\n",
            "Installing collected packages: distlib, virtualenv\n",
            "Successfully installed distlib-0.3.8 virtualenv-20.25.0\n"
          ]
        }
      ]
    },
    {
      "cell_type": "code",
      "source": [
        "!virtualenv venv"
      ],
      "metadata": {
        "id": "RgDPxY3u4HTu",
        "colab": {
          "base_uri": "https://localhost:8080/"
        },
        "outputId": "c0634af9-4f43-4cea-c9e5-ac4c3fe819da"
      },
      "execution_count": 3,
      "outputs": [
        {
          "output_type": "stream",
          "name": "stdout",
          "text": [
            "created virtual environment CPython3.10.12.final.0-64 in 1268ms\n",
            "  creator CPython3Posix(dest=/content/venv, clear=False, no_vcs_ignore=False, global=False)\n",
            "  seeder FromAppData(download=False, pip=bundle, setuptools=bundle, wheel=bundle, via=copy, app_data_dir=/root/.local/share/virtualenv)\n",
            "    added seed packages: pip==23.3.1, setuptools==69.0.2, wheel==0.42.0\n",
            "  activators BashActivator,CShellActivator,FishActivator,NushellActivator,PowerShellActivator,PythonActivator\n"
          ]
        }
      ]
    },
    {
      "cell_type": "code",
      "source": [
        "!source /content/venv/bin/activate"
      ],
      "metadata": {
        "id": "1PJ-k2ce4YZe"
      },
      "execution_count": 4,
      "outputs": []
    },
    {
      "cell_type": "code",
      "execution_count": 5,
      "metadata": {
        "id": "GGVfIrEKWUgT",
        "colab": {
          "base_uri": "https://localhost:8080/"
        },
        "outputId": "ea2ad25f-2cb2-485e-fb2b-b7e0c8a679cb"
      },
      "outputs": [
        {
          "output_type": "stream",
          "name": "stdout",
          "text": [
            "Collecting git+https://github.com/UChicago-Computational-Content-Analysis/lucem_illud.git\n",
            "  Cloning https://github.com/UChicago-Computational-Content-Analysis/lucem_illud.git to /tmp/pip-req-build-e3p26lmg\n",
            "  Running command git clone --filter=blob:none --quiet https://github.com/UChicago-Computational-Content-Analysis/lucem_illud.git /tmp/pip-req-build-e3p26lmg\n",
            "  Resolved https://github.com/UChicago-Computational-Content-Analysis/lucem_illud.git to commit b17a265d3b8253424e5b38872457f7437909a65d\n",
            "  Preparing metadata (setup.py) ... \u001b[?25l\u001b[?25hdone\n",
            "Requirement already satisfied: numpy in /usr/local/lib/python3.10/dist-packages (from lucem-illud==8.0.1) (1.23.5)\n",
            "Requirement already satisfied: requests in /usr/local/lib/python3.10/dist-packages (from lucem-illud==8.0.1) (2.31.0)\n",
            "Requirement already satisfied: pandas in /usr/local/lib/python3.10/dist-packages (from lucem-illud==8.0.1) (1.5.3)\n",
            "Collecting python-docx (from lucem-illud==8.0.1)\n",
            "  Downloading python_docx-1.1.0-py3-none-any.whl (239 kB)\n",
            "\u001b[2K     \u001b[90m━━━━━━━━━━━━━━━━━━━━━━━━━━━━━━━━━━━━━━━━\u001b[0m \u001b[32m239.6/239.6 kB\u001b[0m \u001b[31m2.3 MB/s\u001b[0m eta \u001b[36m0:00:00\u001b[0m\n",
            "\u001b[?25hRequirement already satisfied: pillow in /usr/local/lib/python3.10/dist-packages (from lucem-illud==8.0.1) (9.4.0)\n",
            "Collecting pdfminer2 (from lucem-illud==8.0.1)\n",
            "  Downloading pdfminer2-20151206-py2.py3-none-any.whl (117 kB)\n",
            "\u001b[2K     \u001b[90m━━━━━━━━━━━━━━━━━━━━━━━━━━━━━━━━━━━━━━━━\u001b[0m \u001b[32m117.8/117.8 kB\u001b[0m \u001b[31m14.2 MB/s\u001b[0m eta \u001b[36m0:00:00\u001b[0m\n",
            "\u001b[?25hCollecting GitPython (from lucem-illud==8.0.1)\n",
            "  Downloading GitPython-3.1.41-py3-none-any.whl (196 kB)\n",
            "\u001b[2K     \u001b[90m━━━━━━━━━━━━━━━━━━━━━━━━━━━━━━━━━━━━━━━━\u001b[0m \u001b[32m196.4/196.4 kB\u001b[0m \u001b[31m11.9 MB/s\u001b[0m eta \u001b[36m0:00:00\u001b[0m\n",
            "\u001b[?25hRequirement already satisfied: wordcloud in /usr/local/lib/python3.10/dist-packages (from lucem-illud==8.0.1) (1.9.3)\n",
            "Requirement already satisfied: scipy in /usr/local/lib/python3.10/dist-packages (from lucem-illud==8.0.1) (1.11.4)\n",
            "Requirement already satisfied: seaborn in /usr/local/lib/python3.10/dist-packages (from lucem-illud==8.0.1) (0.13.1)\n",
            "Requirement already satisfied: scikit-learn in /usr/local/lib/python3.10/dist-packages (from lucem-illud==8.0.1) (1.2.2)\n",
            "Requirement already satisfied: nltk in /usr/local/lib/python3.10/dist-packages (from lucem-illud==8.0.1) (3.8.1)\n",
            "Requirement already satisfied: gensim in /usr/local/lib/python3.10/dist-packages (from lucem-illud==8.0.1) (4.3.2)\n",
            "Requirement already satisfied: matplotlib in /usr/local/lib/python3.10/dist-packages (from lucem-illud==8.0.1) (3.7.1)\n",
            "Collecting pyanno3 (from lucem-illud==8.0.1)\n",
            "  Downloading pyanno3-2.0.2.tar.gz (76 kB)\n",
            "\u001b[2K     \u001b[90m━━━━━━━━━━━━━━━━━━━━━━━━━━━━━━━━━━━━━━━━\u001b[0m \u001b[32m76.8/76.8 kB\u001b[0m \u001b[31m8.5 MB/s\u001b[0m eta \u001b[36m0:00:00\u001b[0m\n",
            "\u001b[?25h  Preparing metadata (setup.py) ... \u001b[?25l\u001b[?25hdone\n",
            "Requirement already satisfied: beautifulsoup4 in /usr/local/lib/python3.10/dist-packages (from lucem-illud==8.0.1) (4.11.2)\n",
            "Requirement already satisfied: graphviz in /usr/local/lib/python3.10/dist-packages (from lucem-illud==8.0.1) (0.20.1)\n",
            "Collecting boto3 (from lucem-illud==8.0.1)\n",
            "  Downloading boto3-1.34.32-py3-none-any.whl (139 kB)\n",
            "\u001b[2K     \u001b[90m━━━━━━━━━━━━━━━━━━━━━━━━━━━━━━━━━━━━━━━━\u001b[0m \u001b[32m139.3/139.3 kB\u001b[0m \u001b[31m12.4 MB/s\u001b[0m eta \u001b[36m0:00:00\u001b[0m\n",
            "\u001b[?25hRequirement already satisfied: networkx in /usr/local/lib/python3.10/dist-packages (from lucem-illud==8.0.1) (3.2.1)\n",
            "Collecting pydub (from lucem-illud==8.0.1)\n",
            "  Downloading pydub-0.25.1-py2.py3-none-any.whl (32 kB)\n",
            "Collecting speechrecognition (from lucem-illud==8.0.1)\n",
            "  Downloading SpeechRecognition-3.10.1-py2.py3-none-any.whl (32.8 MB)\n",
            "\u001b[2K     \u001b[90m━━━━━━━━━━━━━━━━━━━━━━━━━━━━━━━━━━━━━━━━\u001b[0m \u001b[32m32.8/32.8 MB\u001b[0m \u001b[31m14.4 MB/s\u001b[0m eta \u001b[36m0:00:00\u001b[0m\n",
            "\u001b[?25hCollecting pysoundfile (from lucem-illud==8.0.1)\n",
            "  Downloading PySoundFile-0.9.0.post1-py2.py3-none-any.whl (24 kB)\n",
            "Requirement already satisfied: scikit-image in /usr/local/lib/python3.10/dist-packages (from lucem-illud==8.0.1) (0.19.3)\n",
            "Requirement already satisfied: IPython in /usr/local/lib/python3.10/dist-packages (from lucem-illud==8.0.1) (7.34.0)\n",
            "Requirement already satisfied: spacy in /usr/local/lib/python3.10/dist-packages (from lucem-illud==8.0.1) (3.6.1)\n",
            "Requirement already satisfied: soupsieve>1.2 in /usr/local/lib/python3.10/dist-packages (from beautifulsoup4->lucem-illud==8.0.1) (2.5)\n",
            "Collecting botocore<1.35.0,>=1.34.32 (from boto3->lucem-illud==8.0.1)\n",
            "  Downloading botocore-1.34.32-py3-none-any.whl (11.9 MB)\n",
            "\u001b[2K     \u001b[90m━━━━━━━━━━━━━━━━━━━━━━━━━━━━━━━━━━━━━━━━\u001b[0m \u001b[32m11.9/11.9 MB\u001b[0m \u001b[31m39.8 MB/s\u001b[0m eta \u001b[36m0:00:00\u001b[0m\n",
            "\u001b[?25hCollecting jmespath<2.0.0,>=0.7.1 (from boto3->lucem-illud==8.0.1)\n",
            "  Downloading jmespath-1.0.1-py3-none-any.whl (20 kB)\n",
            "Collecting s3transfer<0.11.0,>=0.10.0 (from boto3->lucem-illud==8.0.1)\n",
            "  Downloading s3transfer-0.10.0-py3-none-any.whl (82 kB)\n",
            "\u001b[2K     \u001b[90m━━━━━━━━━━━━━━━━━━━━━━━━━━━━━━━━━━━━━━━━\u001b[0m \u001b[32m82.1/82.1 kB\u001b[0m \u001b[31m10.2 MB/s\u001b[0m eta \u001b[36m0:00:00\u001b[0m\n",
            "\u001b[?25hRequirement already satisfied: smart-open>=1.8.1 in /usr/local/lib/python3.10/dist-packages (from gensim->lucem-illud==8.0.1) (6.4.0)\n",
            "Collecting gitdb<5,>=4.0.1 (from GitPython->lucem-illud==8.0.1)\n",
            "  Downloading gitdb-4.0.11-py3-none-any.whl (62 kB)\n",
            "\u001b[2K     \u001b[90m━━━━━━━━━━━━━━━━━━━━━━━━━━━━━━━━━━━━━━━━\u001b[0m \u001b[32m62.7/62.7 kB\u001b[0m \u001b[31m7.5 MB/s\u001b[0m eta \u001b[36m0:00:00\u001b[0m\n",
            "\u001b[?25hRequirement already satisfied: setuptools>=18.5 in /usr/local/lib/python3.10/dist-packages (from IPython->lucem-illud==8.0.1) (67.7.2)\n",
            "Collecting jedi>=0.16 (from IPython->lucem-illud==8.0.1)\n",
            "  Downloading jedi-0.19.1-py2.py3-none-any.whl (1.6 MB)\n",
            "\u001b[2K     \u001b[90m━━━━━━━━━━━━━━━━━━━━━━━━━━━━━━━━━━━━━━━━\u001b[0m \u001b[32m1.6/1.6 MB\u001b[0m \u001b[31m40.2 MB/s\u001b[0m eta \u001b[36m0:00:00\u001b[0m\n",
            "\u001b[?25hRequirement already satisfied: decorator in /usr/local/lib/python3.10/dist-packages (from IPython->lucem-illud==8.0.1) (4.4.2)\n",
            "Requirement already satisfied: pickleshare in /usr/local/lib/python3.10/dist-packages (from IPython->lucem-illud==8.0.1) (0.7.5)\n",
            "Requirement already satisfied: traitlets>=4.2 in /usr/local/lib/python3.10/dist-packages (from IPython->lucem-illud==8.0.1) (5.7.1)\n",
            "Requirement already satisfied: prompt-toolkit!=3.0.0,!=3.0.1,<3.1.0,>=2.0.0 in /usr/local/lib/python3.10/dist-packages (from IPython->lucem-illud==8.0.1) (3.0.43)\n",
            "Requirement already satisfied: pygments in /usr/local/lib/python3.10/dist-packages (from IPython->lucem-illud==8.0.1) (2.16.1)\n",
            "Requirement already satisfied: backcall in /usr/local/lib/python3.10/dist-packages (from IPython->lucem-illud==8.0.1) (0.2.0)\n",
            "Requirement already satisfied: matplotlib-inline in /usr/local/lib/python3.10/dist-packages (from IPython->lucem-illud==8.0.1) (0.1.6)\n",
            "Requirement already satisfied: pexpect>4.3 in /usr/local/lib/python3.10/dist-packages (from IPython->lucem-illud==8.0.1) (4.9.0)\n",
            "Requirement already satisfied: contourpy>=1.0.1 in /usr/local/lib/python3.10/dist-packages (from matplotlib->lucem-illud==8.0.1) (1.2.0)\n",
            "Requirement already satisfied: cycler>=0.10 in /usr/local/lib/python3.10/dist-packages (from matplotlib->lucem-illud==8.0.1) (0.12.1)\n",
            "Requirement already satisfied: fonttools>=4.22.0 in /usr/local/lib/python3.10/dist-packages (from matplotlib->lucem-illud==8.0.1) (4.47.2)\n",
            "Requirement already satisfied: kiwisolver>=1.0.1 in /usr/local/lib/python3.10/dist-packages (from matplotlib->lucem-illud==8.0.1) (1.4.5)\n",
            "Requirement already satisfied: packaging>=20.0 in /usr/local/lib/python3.10/dist-packages (from matplotlib->lucem-illud==8.0.1) (23.2)\n",
            "Requirement already satisfied: pyparsing>=2.3.1 in /usr/local/lib/python3.10/dist-packages (from matplotlib->lucem-illud==8.0.1) (3.1.1)\n",
            "Requirement already satisfied: python-dateutil>=2.7 in /usr/local/lib/python3.10/dist-packages (from matplotlib->lucem-illud==8.0.1) (2.8.2)\n",
            "Requirement already satisfied: click in /usr/local/lib/python3.10/dist-packages (from nltk->lucem-illud==8.0.1) (8.1.7)\n",
            "Requirement already satisfied: joblib in /usr/local/lib/python3.10/dist-packages (from nltk->lucem-illud==8.0.1) (1.3.2)\n",
            "Requirement already satisfied: regex>=2021.8.3 in /usr/local/lib/python3.10/dist-packages (from nltk->lucem-illud==8.0.1) (2023.6.3)\n",
            "Requirement already satisfied: tqdm in /usr/local/lib/python3.10/dist-packages (from nltk->lucem-illud==8.0.1) (4.66.1)\n",
            "Requirement already satisfied: pytz>=2020.1 in /usr/local/lib/python3.10/dist-packages (from pandas->lucem-illud==8.0.1) (2023.3.post1)\n",
            "Requirement already satisfied: six in /usr/local/lib/python3.10/dist-packages (from pdfminer2->lucem-illud==8.0.1) (1.16.0)\n",
            "Collecting traits (from pyanno3->lucem-illud==8.0.1)\n",
            "  Downloading traits-6.4.3-cp310-cp310-manylinux_2_5_x86_64.manylinux1_x86_64.manylinux_2_17_x86_64.manylinux2014_x86_64.whl (5.1 MB)\n",
            "\u001b[2K     \u001b[90m━━━━━━━━━━━━━━━━━━━━━━━━━━━━━━━━━━━━━━━━\u001b[0m \u001b[32m5.1/5.1 MB\u001b[0m \u001b[31m40.3 MB/s\u001b[0m eta \u001b[36m0:00:00\u001b[0m\n",
            "\u001b[?25hRequirement already satisfied: cffi>=0.6 in /usr/local/lib/python3.10/dist-packages (from pysoundfile->lucem-illud==8.0.1) (1.16.0)\n",
            "Requirement already satisfied: lxml>=3.1.0 in /usr/local/lib/python3.10/dist-packages (from python-docx->lucem-illud==8.0.1) (4.9.4)\n",
            "Requirement already satisfied: typing-extensions in /usr/local/lib/python3.10/dist-packages (from python-docx->lucem-illud==8.0.1) (4.5.0)\n",
            "Requirement already satisfied: charset-normalizer<4,>=2 in /usr/local/lib/python3.10/dist-packages (from requests->lucem-illud==8.0.1) (3.3.2)\n",
            "Requirement already satisfied: idna<4,>=2.5 in /usr/local/lib/python3.10/dist-packages (from requests->lucem-illud==8.0.1) (3.6)\n",
            "Requirement already satisfied: urllib3<3,>=1.21.1 in /usr/local/lib/python3.10/dist-packages (from requests->lucem-illud==8.0.1) (2.0.7)\n",
            "Requirement already satisfied: certifi>=2017.4.17 in /usr/local/lib/python3.10/dist-packages (from requests->lucem-illud==8.0.1) (2023.11.17)\n",
            "Requirement already satisfied: imageio>=2.4.1 in /usr/local/lib/python3.10/dist-packages (from scikit-image->lucem-illud==8.0.1) (2.31.6)\n",
            "Requirement already satisfied: tifffile>=2019.7.26 in /usr/local/lib/python3.10/dist-packages (from scikit-image->lucem-illud==8.0.1) (2023.12.9)\n",
            "Requirement already satisfied: PyWavelets>=1.1.1 in /usr/local/lib/python3.10/dist-packages (from scikit-image->lucem-illud==8.0.1) (1.5.0)\n",
            "Requirement already satisfied: threadpoolctl>=2.0.0 in /usr/local/lib/python3.10/dist-packages (from scikit-learn->lucem-illud==8.0.1) (3.2.0)\n",
            "Requirement already satisfied: spacy-legacy<3.1.0,>=3.0.11 in /usr/local/lib/python3.10/dist-packages (from spacy->lucem-illud==8.0.1) (3.0.12)\n",
            "Requirement already satisfied: spacy-loggers<2.0.0,>=1.0.0 in /usr/local/lib/python3.10/dist-packages (from spacy->lucem-illud==8.0.1) (1.0.5)\n",
            "Requirement already satisfied: murmurhash<1.1.0,>=0.28.0 in /usr/local/lib/python3.10/dist-packages (from spacy->lucem-illud==8.0.1) (1.0.10)\n",
            "Requirement already satisfied: cymem<2.1.0,>=2.0.2 in /usr/local/lib/python3.10/dist-packages (from spacy->lucem-illud==8.0.1) (2.0.8)\n",
            "Requirement already satisfied: preshed<3.1.0,>=3.0.2 in /usr/local/lib/python3.10/dist-packages (from spacy->lucem-illud==8.0.1) (3.0.9)\n",
            "Requirement already satisfied: thinc<8.2.0,>=8.1.8 in /usr/local/lib/python3.10/dist-packages (from spacy->lucem-illud==8.0.1) (8.1.12)\n",
            "Requirement already satisfied: wasabi<1.2.0,>=0.9.1 in /usr/local/lib/python3.10/dist-packages (from spacy->lucem-illud==8.0.1) (1.1.2)\n",
            "Requirement already satisfied: srsly<3.0.0,>=2.4.3 in /usr/local/lib/python3.10/dist-packages (from spacy->lucem-illud==8.0.1) (2.4.8)\n",
            "Requirement already satisfied: catalogue<2.1.0,>=2.0.6 in /usr/local/lib/python3.10/dist-packages (from spacy->lucem-illud==8.0.1) (2.0.10)\n",
            "Requirement already satisfied: typer<0.10.0,>=0.3.0 in /usr/local/lib/python3.10/dist-packages (from spacy->lucem-illud==8.0.1) (0.9.0)\n",
            "Requirement already satisfied: pathy>=0.10.0 in /usr/local/lib/python3.10/dist-packages (from spacy->lucem-illud==8.0.1) (0.11.0)\n",
            "Requirement already satisfied: pydantic!=1.8,!=1.8.1,<3.0.0,>=1.7.4 in /usr/local/lib/python3.10/dist-packages (from spacy->lucem-illud==8.0.1) (1.10.14)\n",
            "Requirement already satisfied: jinja2 in /usr/local/lib/python3.10/dist-packages (from spacy->lucem-illud==8.0.1) (3.1.3)\n",
            "Requirement already satisfied: langcodes<4.0.0,>=3.2.0 in /usr/local/lib/python3.10/dist-packages (from spacy->lucem-illud==8.0.1) (3.3.0)\n",
            "Requirement already satisfied: pycparser in /usr/local/lib/python3.10/dist-packages (from cffi>=0.6->pysoundfile->lucem-illud==8.0.1) (2.21)\n",
            "Collecting smmap<6,>=3.0.1 (from gitdb<5,>=4.0.1->GitPython->lucem-illud==8.0.1)\n",
            "  Downloading smmap-5.0.1-py3-none-any.whl (24 kB)\n",
            "Requirement already satisfied: parso<0.9.0,>=0.8.3 in /usr/local/lib/python3.10/dist-packages (from jedi>=0.16->IPython->lucem-illud==8.0.1) (0.8.3)\n",
            "Requirement already satisfied: pathlib-abc==0.1.1 in /usr/local/lib/python3.10/dist-packages (from pathy>=0.10.0->spacy->lucem-illud==8.0.1) (0.1.1)\n",
            "Requirement already satisfied: ptyprocess>=0.5 in /usr/local/lib/python3.10/dist-packages (from pexpect>4.3->IPython->lucem-illud==8.0.1) (0.7.0)\n",
            "Requirement already satisfied: wcwidth in /usr/local/lib/python3.10/dist-packages (from prompt-toolkit!=3.0.0,!=3.0.1,<3.1.0,>=2.0.0->IPython->lucem-illud==8.0.1) (0.2.13)\n",
            "Requirement already satisfied: blis<0.8.0,>=0.7.8 in /usr/local/lib/python3.10/dist-packages (from thinc<8.2.0,>=8.1.8->spacy->lucem-illud==8.0.1) (0.7.11)\n",
            "Requirement already satisfied: confection<1.0.0,>=0.0.1 in /usr/local/lib/python3.10/dist-packages (from thinc<8.2.0,>=8.1.8->spacy->lucem-illud==8.0.1) (0.1.4)\n",
            "Requirement already satisfied: MarkupSafe>=2.0 in /usr/local/lib/python3.10/dist-packages (from jinja2->spacy->lucem-illud==8.0.1) (2.1.4)\n",
            "Building wheels for collected packages: lucem-illud, pyanno3\n",
            "  Building wheel for lucem-illud (setup.py) ... \u001b[?25l\u001b[?25hdone\n",
            "  Created wheel for lucem-illud: filename=lucem_illud-8.0.1-py3-none-any.whl size=34989 sha256=95f9596cf30dd89a1aec47167cf6449182b6254b28ab9f2c7b82d5afd3251c8b\n",
            "  Stored in directory: /tmp/pip-ephem-wheel-cache-khw8ppxv/wheels/4c/84/7b/d89dec34fb910351cf618bf262d1c926f9f68779ef24028427\n",
            "  Building wheel for pyanno3 (setup.py) ... \u001b[?25l\u001b[?25hdone\n",
            "  Created wheel for pyanno3: filename=pyanno3-2.0.2-py3-none-any.whl size=116965 sha256=28f48454196838f39149149a251544d5aa75a8752f9a6d780a523bcdf700347c\n",
            "  Stored in directory: /root/.cache/pip/wheels/ce/0c/9f/21212c187c1edb1647c18e0a24b6b213b3bb7dee5aa94bfd72\n",
            "Successfully built lucem-illud pyanno3\n",
            "Installing collected packages: pydub, traits, smmap, python-docx, pdfminer2, jmespath, jedi, speechrecognition, pysoundfile, pyanno3, gitdb, botocore, s3transfer, GitPython, boto3, lucem-illud\n",
            "Successfully installed GitPython-3.1.41 boto3-1.34.32 botocore-1.34.32 gitdb-4.0.11 jedi-0.19.1 jmespath-1.0.1 lucem-illud-8.0.1 pdfminer2-20151206 pyanno3-2.0.2 pydub-0.25.1 pysoundfile-0.9.0.post1 python-docx-1.1.0 s3transfer-0.10.0 smmap-5.0.1 speechrecognition-3.10.1 traits-6.4.3\n",
            "Collecting fasttext\n",
            "  Downloading fasttext-0.9.2.tar.gz (68 kB)\n",
            "\u001b[2K     \u001b[90m━━━━━━━━━━━━━━━━━━━━━━━━━━━━━━━━━━━━━━━━\u001b[0m \u001b[32m68.8/68.8 kB\u001b[0m \u001b[31m1.1 MB/s\u001b[0m eta \u001b[36m0:00:00\u001b[0m\n",
            "\u001b[?25h  Preparing metadata (setup.py) ... \u001b[?25l\u001b[?25hdone\n",
            "Collecting pybind11>=2.2 (from fasttext)\n",
            "  Using cached pybind11-2.11.1-py3-none-any.whl (227 kB)\n",
            "Requirement already satisfied: setuptools>=0.7.0 in /usr/local/lib/python3.10/dist-packages (from fasttext) (67.7.2)\n",
            "Requirement already satisfied: numpy in /usr/local/lib/python3.10/dist-packages (from fasttext) (1.23.5)\n",
            "Building wheels for collected packages: fasttext\n",
            "  Building wheel for fasttext (setup.py) ... \u001b[?25l\u001b[?25hdone\n",
            "  Created wheel for fasttext: filename=fasttext-0.9.2-cp310-cp310-linux_x86_64.whl size=4199773 sha256=be28c897a42945e2653b840637644cef7055958f973d5777768abaa444fabd97\n",
            "  Stored in directory: /root/.cache/pip/wheels/a5/13/75/f811c84a8ab36eedbaef977a6a58a98990e8e0f1967f98f394\n",
            "Successfully built fasttext\n",
            "Installing collected packages: pybind11, fasttext\n",
            "Successfully installed fasttext-0.9.2 pybind11-2.11.1\n",
            "Requirement already satisfied: cython in /usr/local/lib/python3.10/dist-packages (3.0.8)\n",
            "Collecting ksvd\n",
            "  Downloading ksvd-0.0.3-py3-none-any.whl (3.0 kB)\n",
            "Requirement already satisfied: numpy in /usr/local/lib/python3.10/dist-packages (from ksvd) (1.23.5)\n",
            "Requirement already satisfied: scikit-learn in /usr/local/lib/python3.10/dist-packages (from ksvd) (1.2.2)\n",
            "Requirement already satisfied: scipy>=1.3.2 in /usr/local/lib/python3.10/dist-packages (from scikit-learn->ksvd) (1.11.4)\n",
            "Requirement already satisfied: joblib>=1.1.1 in /usr/local/lib/python3.10/dist-packages (from scikit-learn->ksvd) (1.3.2)\n",
            "Requirement already satisfied: threadpoolctl>=2.0.0 in /usr/local/lib/python3.10/dist-packages (from scikit-learn->ksvd) (3.2.0)\n",
            "Installing collected packages: ksvd\n",
            "Successfully installed ksvd-0.0.3\n"
          ]
        }
      ],
      "source": [
        "# Installations\n",
        "%pip install -U git+https://github.com/UChicago-Computational-Content-Analysis/lucem_illud.git\n",
        "%pip install fasttext\n",
        "%pip install cython\n",
        "%pip install ksvd"
      ]
    },
    {
      "cell_type": "code",
      "execution_count": 6,
      "metadata": {
        "id": "cUbfGucZWUgV"
      },
      "outputs": [],
      "source": [
        "# data\n",
        "import numpy as np\n",
        "import pandas as pd\n",
        "\n",
        "# data visualization\n",
        "import matplotlib.pyplot as plt\n",
        "import seaborn\n",
        "from IPython.display import Image\n",
        "%matplotlib inline\n",
        "\n",
        "# sklearn\n",
        "import sklearn.metrics.pairwise\n",
        "import sklearn.manifold\n",
        "import sklearn.decomposition\n",
        "from sklearn.metrics.pairwise import cosine_similarity\n",
        "\n",
        "# gensim\n",
        "import gensim\n",
        "from gensim.models.doc2vec import TaggedDocument\n",
        "from gensim.models import KeyedVectors, Word2Vec\n",
        "from gensim import corpora, models, similarities\n",
        "from gensim.test.utils import datapath\n",
        "\n",
        "# models\n",
        "import fasttext\n",
        "from ksvd import ApproximateKSVD\n",
        "from tqdm import tqdm\n",
        "tqdm.pandas()\n",
        "\n",
        "# misc\n",
        "import lucem_illud\n",
        "import re, string, cython, requests, nltk, copy, pickle, math\n",
        "from random import seed, sample\n",
        "import os\n",
        "import os.path\n",
        "import ast"
      ]
    },
    {
      "cell_type": "markdown",
      "metadata": {
        "id": "VUuhjNwKWUgV"
      },
      "source": [
        "## Helper Functions"
      ]
    },
    {
      "cell_type": "code",
      "execution_count": 7,
      "metadata": {
        "id": "VZayoSxLWUgV"
      },
      "outputs": [],
      "source": [
        "# From the homework notebook\n",
        "def normalize(vector):\n",
        "    normalized_vector = vector / np.linalg.norm(vector)\n",
        "    return normalized_vector\n",
        "\n",
        "def dimension(model, positives, negatives):\n",
        "    diff = sum([normalize(model.wv[x]) for x in positives]) - sum([normalize(model.wv[y]) for y in negatives])\n",
        "    return diff"
      ]
    },
    {
      "cell_type": "code",
      "source": [
        "# Plotting\n",
        "def Coloring(Series):\n",
        "    x = Series.values\n",
        "    y = x-x.min()\n",
        "    z = y/y.max()\n",
        "    c = list(plt.cm.rainbow(z))\n",
        "    return c\n",
        "\n",
        "def PlotDimension(ax,df, dim):\n",
        "    ax.set_frame_on(False)\n",
        "    ax.set_title(dim, fontsize = 20)\n",
        "    colors = Coloring(df[dim])\n",
        "    for i, word in enumerate(df.index):\n",
        "        ax.annotate(word, (0, df[dim][i]), color = colors[i], alpha = 0.6, fontsize = 12)\n",
        "    MaxY = df[dim].max()\n",
        "    MinY = df[dim].min()\n",
        "    plt.ylim(MinY,MaxY)\n",
        "    plt.yticks(())\n",
        "    plt.xticks(())"
      ],
      "metadata": {
        "id": "PlbcoWkQGz0K"
      },
      "execution_count": 8,
      "outputs": []
    },
    {
      "cell_type": "code",
      "execution_count": 9,
      "metadata": {
        "id": "OH1U0f9rWUgV"
      },
      "outputs": [],
      "source": [
        "def calc_syn0norm(model):\n",
        "    \"\"\"since syn0norm is now depricated\"\"\"\n",
        "    return (model.wv.syn0 / np.sqrt((model.wv.syn0 ** 2).sum(-1))[..., np.newaxis]).astype(np.float32)"
      ]
    },
    {
      "cell_type": "code",
      "execution_count": 37,
      "metadata": {
        "id": "OcPPv10yWUgV"
      },
      "outputs": [],
      "source": [
        "def smart_procrustes_align_gensim(base_embed, other_embed, words=None):\n",
        "    base_embed = copy.copy(base_embed)\n",
        "    other_embed = copy.copy(other_embed)\n",
        "    # make sure vocabulary and indices are aligned\n",
        "    in_base_embed, in_other_embed = intersection_align_gensim(base_embed, other_embed, words=words)\n",
        "\n",
        "    # get the embedding matrices\n",
        "    # base_vecs = calc_syn0norm(in_base_embed)\n",
        "    # other_vecs = calc_syn0norm(in_other_embed)\n",
        "    base_vecs= [in_base_embed.wv.get_vector(w,norm=True) for w in set(in_base_embed.wv.index_to_key)]\n",
        "    other_vecs= [in_other_embed.wv.get_vector(w,norm=True) for w in set(in_other_embed.wv.index_to_key)]\n",
        "\n",
        "    # just a matrix dot product with numpy\n",
        "    m = np.array(other_vecs).T.dot(np.array(base_vecs))\n",
        "    # SVD method from numpy\n",
        "    u, _, v = np.linalg.svd(m)\n",
        "    # another matrix operation\n",
        "    ortho = u.dot(v)\n",
        "    # Replace original array with modified one\n",
        "    # i.e. multiplying the embedding matrix (syn0norm)by \"ortho\"\n",
        "    other_embed.wv.vectors =(np.array(other_vecs)).dot(ortho)\n",
        "    return other_embed"
      ]
    },
    {
      "cell_type": "code",
      "execution_count": 35,
      "metadata": {
        "id": "v4-V2YGfWUgW"
      },
      "outputs": [],
      "source": [
        "def intersection_align_gensim(m1,m2, words=None):\n",
        "    \"\"\"\n",
        "    Intersect two gensim word2vec models, m1 and m2.\n",
        "    Only the shared vocabulary between them is kept.\n",
        "    If 'words' is set (as list or set), then the vocabulary is intersected with this list as well.\n",
        "    Indices are re-organized from 0..N in order of descending frequency (=sum of counts from both m1 and m2).\n",
        "    These indices correspond to the new syn0 and syn0norm objects in both gensim models:\n",
        "        -- so that Row 0 of m1.syn0 will be for the same word as Row 0 of m2.syn0\n",
        "        -- you can find the index of any word on the .index2word list: model.index2word.index(word) => 2\n",
        "    The .vocab dictionary is also updated for each model, preserving the count but updating the index.\n",
        "    \"\"\"\n",
        "\n",
        "    # Get the vocab for each model\n",
        "    vocab_m1 = set(m1.wv.index_to_key)\n",
        "    vocab_m2 = set(m2.wv.index_to_key)\n",
        "\n",
        "    # Find the common vocabulary\n",
        "    common_vocab = vocab_m1&vocab_m2\n",
        "    if words: common_vocab&=set(words)\n",
        "\n",
        "    # If no alignment necessary because vocab is identical...\n",
        "    if not vocab_m1-common_vocab and not vocab_m2-common_vocab:\n",
        "        return (m1,m2)\n",
        "\n",
        "    # Otherwise sort by frequency (summed for both)\n",
        "    common_vocab = list(common_vocab)\n",
        "    common_vocab.sort(key=lambda w: m1.wv.get_vecattr(w, \"count\")  + m2.wv.get_vecattr(w, \"count\") ,reverse=True)\n",
        "\n",
        "    # Then for each model...\n",
        "    for m in [m1,m2]:\n",
        "        # Replace old syn0norm array with new one (with common vocab)\n",
        "        new_arr = [m.wv.get_vector(w,norm=True) for w in common_vocab]\n",
        "\n",
        "        # Replace old vocab dictionary with new one (with common vocab)\n",
        "        # and old index2word with new one\n",
        "        m.index2word = common_vocab\n",
        "        # old_vocab = m.wv.index_to_key\n",
        "        new_vocab = []\n",
        "        k2i={}\n",
        "        for new_index,word in enumerate(common_vocab):\n",
        "            new_vocab.append(word)\n",
        "            k2i[word]=new_index\n",
        "        m.wv.index_to_key=new_vocab\n",
        "        m.wv.key_to_index=k2i\n",
        "        m.wv.vectors=np.array(new_arr)\n",
        "\n",
        "    return (m1,m2)"
      ]
    },
    {
      "cell_type": "code",
      "execution_count": 64,
      "metadata": {
        "id": "dpdWyeUfWUgW"
      },
      "outputs": [],
      "source": [
        "def compareModels(df, category, text_column_name='normalized_sents', sort=True):\n",
        "    \"\"\"Prepare embeddings and align them.\"\"\"\n",
        "    # Generate raw embeddings\n",
        "    embeddings_raw = rawModels(df, category, text_column_name, sort)\n",
        "    cats = sorted(set(df[category]))\n",
        "\n",
        "    # Align embeddings\n",
        "    embeddings_aligned = {}\n",
        "    base_cat = cats[0]  # Use the first category as the base for alignment\n",
        "    for cat in cats:\n",
        "        if cat == base_cat:\n",
        "            embeddings_aligned[cat] = embeddings_raw[cat]\n",
        "        else:\n",
        "            # Align current category's embedding to the base category's embedding\n",
        "            embeddings_aligned[cat] = smart_procrustes_align_gensim(embeddings_raw[base_cat], embeddings_raw[cat])\n",
        "    return embeddings_raw, embeddings_aligned\n"
      ]
    },
    {
      "cell_type": "code",
      "execution_count": 65,
      "metadata": {
        "id": "OpziT15WWUgW"
      },
      "outputs": [],
      "source": [
        "def rawModels(df, category, text_column_name='normalized_sents', sort = True):\n",
        "    embeddings_raw = {}\n",
        "    cats = sorted(set(df[category]))\n",
        "    for cat in cats:\n",
        "        #This can take a while\n",
        "        print(\"Embedding {}\".format(cat), end = '\\r')\n",
        "        subsetDF = df[df[category] == cat]\n",
        "        #You might want to change the W2V parameters\n",
        "        embeddings_raw[cat] = gensim.models.word2vec.Word2Vec(subsetDF[text_column_name].sum())\n",
        "    return embeddings_raw"
      ]
    },
    {
      "cell_type": "code",
      "execution_count": 75,
      "metadata": {
        "id": "Y8zs_Vn-WUgW"
      },
      "outputs": [],
      "source": [
        "def getDivergenceDF(word, embeddingsDict):\n",
        "    # \"\"\"Calculate pairwise divergence for a specific word across different embeddings.\"\"\"\n",
        "    cats = sorted(embeddingsDict.keys())  # Sorted categories, e.g., congress numbers\n",
        "    # Initialize a square DataFrame with zeros\n",
        "    df = pd.DataFrame(np.zeros((len(cats), len(cats))), index=cats, columns=cats)\n",
        "\n",
        "    for i, cat_outer in enumerate(cats):\n",
        "        for j, cat_inner in enumerate(cats):\n",
        "            if i == j:\n",
        "                # Divergence with itself should be 0\n",
        "                df.iloc[i, j] = 0\n",
        "            else:\n",
        "                # Calculate cosine similarity for different congress embeddings\n",
        "                vector_outer = embeddingsDict[cat_outer].wv[word]\n",
        "                vector_inner = embeddingsDict[cat_inner].wv[word]\n",
        "                similarity = sklearn.metrics.pairwise.cosine_similarity(\n",
        "                    np.expand_dims(vector_outer, axis=0),\n",
        "                    np.expand_dims(vector_inner, axis=0))[0, 0]\n",
        "                divergence = np.abs(1 - similarity)\n",
        "                df.iloc[i, j] = divergence\n",
        "\n",
        "    return df"
      ]
    },
    {
      "cell_type": "code",
      "source": [
        "def verify_embeddings(embeddingsDict, word):\n",
        "    \"\"\"Check if any embedding vector for 'word' is invalid or significantly different.\"\"\"\n",
        "    for cat, model in embeddingsDict.items():\n",
        "        if word not in model.wv:\n",
        "            print(f\"Warning: '{word}' not found in embeddings for category '{cat}'.\")\n",
        "        else:\n",
        "            vector = model.wv[word]\n",
        "            if np.all(vector == 0):\n",
        "                print(f\"Warning: Embedding vector for '{word}' in category '{cat}' is all zeros.\")"
      ],
      "metadata": {
        "id": "5KBSc1XuTj4T"
      },
      "execution_count": 77,
      "outputs": []
    },
    {
      "cell_type": "code",
      "execution_count": 110,
      "metadata": {
        "id": "xTxncD-mWUgW"
      },
      "outputs": [],
      "source": [
        "def findDivergence(word, embeddingsDict):\n",
        "    cats = sorted(set(embeddingsDict.keys()))\n",
        "\n",
        "    dists = []\n",
        "    # Assuming cats[0] is the category you want to compare others against\n",
        "    base_embed = embeddingsDict[cats[0]]\n",
        "    for cat in cats[1:]:  # Skip the first category since it's the base\n",
        "        try:\n",
        "            dists.append(1 - sklearn.metrics.pairwise.cosine_similarity(\n",
        "                np.expand_dims(base_embed.wv[word], axis=0),\n",
        "                np.expand_dims(embeddingsDict[cat].wv[word], axis=0)\n",
        "            )[0,0])\n",
        "        except:\n",
        "            # This except block silently ignores errors, consider logging or handling them.\n",
        "            pass\n",
        "    return np.mean(dists)"
      ]
    },
    {
      "cell_type": "code",
      "execution_count": 111,
      "metadata": {
        "id": "fqgSkJmFWUgX"
      },
      "outputs": [],
      "source": [
        "def findMostDivergent(embeddingsDict, orig_key):\n",
        "    # Directly access the Word2Vec model for the original key\n",
        "    original_words = embeddingsDict[orig_key].wv.index_to_key\n",
        "    for embed_key, embed in embeddingsDict.items():\n",
        "        original_words = set(original_words).intersection(set(embed.wv.index_to_key))\n",
        "    words = set(original_words)\n",
        "    print(\"Found {} words to compare\".format(len(words)))\n",
        "    return sorted([(w, findDivergence(w, embeddingsDict)) for w in words], key=lambda x: x[1], reverse=True)"
      ]
    },
    {
      "cell_type": "code",
      "execution_count": 17,
      "metadata": {
        "id": "TU9r1CqEWUgX"
      },
      "outputs": [],
      "source": [
        "def file_to_embeddings(address, kind):\n",
        "    rawEmbeddings = {}\n",
        "    for file in os.listdir(address):\n",
        "        if \"embedding_\"+kind in file:\n",
        "            e, kind_, kind_type = file.split(\"_\")\n",
        "            kind_type = eval(kind_type)\n",
        "            rawEmbeddings[kind_type] = Word2Vec.load(file)\n",
        "    return rawEmbeddings"
      ]
    },
    {
      "cell_type": "code",
      "execution_count": 18,
      "metadata": {
        "id": "oBFXm0kEWUgX"
      },
      "outputs": [],
      "source": [
        "# get random indices\n",
        "def random_indices(df_len, num_indices):\n",
        "    \"\"\"\n",
        "    Generate a list of random indices.\n",
        "\n",
        "    returns: list of random indices\n",
        "    \"\"\"\n",
        "    random_indices = np.random.choice(df_len, num_indices, replace=False)\n",
        "    random_indices = list(random_indices)\n",
        "    random_indices.sort()\n",
        "\n",
        "    return random_indices"
      ]
    },
    {
      "cell_type": "markdown",
      "metadata": {
        "id": "kjOFH1UIWUgX"
      },
      "source": [
        "## Data Loading"
      ]
    },
    {
      "cell_type": "code",
      "source": [
        "outpath = '/content/drive/MyDrive/Colab Notebooks/soci40133-homeworks/data/'"
      ],
      "metadata": {
        "id": "ZfKLZrvXXok4"
      },
      "execution_count": 19,
      "outputs": []
    },
    {
      "cell_type": "code",
      "execution_count": 20,
      "metadata": {
        "id": "ctjrFwt9WUgX",
        "colab": {
          "base_uri": "https://localhost:8080/",
          "height": 641
        },
        "outputId": "6f4a563b-d1d7-4968-c011-e724814c4740"
      },
      "outputs": [
        {
          "output_type": "execute_result",
          "data": {
            "text/plain": [
              "   congress_num legislation number  \\\n",
              "0           118          H.R. 2907   \n",
              "1           118            S. 1297   \n",
              "2           118          H.R. 4901   \n",
              "3           118            S. 2544   \n",
              "4           118          H.R. 4147   \n",
              "5           118            S. 2024   \n",
              "6           118          H.R. 1723   \n",
              "7           118             S. 929   \n",
              "8           118            H.R. 73   \n",
              "9           118             H.R. 7   \n",
              "\n",
              "                                               title  \\\n",
              "0   Let Doctors Provide Reproductive Health Care Act   \n",
              "1   Let Doctors Provide Reproductive Health Care Act   \n",
              "2         Reproductive Health Care Accessibility Act   \n",
              "3         Reproductive Health Care Accessibility Act   \n",
              "4      Reproductive Health Care Training Act of 2023   \n",
              "5      Reproductive Health Care Training Act of 2023   \n",
              "6     Abortion is Health Care Everywhere Act of 2023   \n",
              "7     Abortion is Health Care Everywhere Act of 2023   \n",
              "8                     No Pro-Abortion Task Force Act   \n",
              "9  No Taxpayer Funding for Abortion and Abortion ...   \n",
              "\n",
              "                                        cleaned_text  \\\n",
              "0  Congressional Bills 118th Congress From the U....   \n",
              "1  Congressional Bills 118th Congress From the U....   \n",
              "2  Congressional Bills 118th Congress From the U....   \n",
              "3  Congressional Bills 118th Congress From the U....   \n",
              "4  Congressional Bills 118th Congress From the U....   \n",
              "5  Congressional Bills 118th Congress From the U....   \n",
              "6  Congressional Bills 118th Congress From the U....   \n",
              "7  Congressional Bills 118th Congress From the U....   \n",
              "8  Congressional Bills 118th Congress From the U....   \n",
              "9  Congressional Bills 118th Congress From the U....   \n",
              "\n",
              "                                     tokenized_sents  \\\n",
              "0  [['Congressional', 'Bills', '118th', 'Congress...   \n",
              "1  [['Congressional', 'Bills', '118th', 'Congress...   \n",
              "2  [['Congressional', 'Bills', '118th', 'Congress...   \n",
              "3  [['Congressional', 'Bills', '118th', 'Congress...   \n",
              "4  [['Congressional', 'Bills', '118th', 'Congress...   \n",
              "5  [['Congressional', 'Bills', '118th', 'Congress...   \n",
              "6  [['Congressional', 'Bills', '118th', 'Congress...   \n",
              "7  [['Congressional', 'Bills', '118th', 'Congress...   \n",
              "8  [['Congressional', 'Bills', '118th', 'Congress...   \n",
              "9  [['Congressional', 'Bills', '118th', 'Congress...   \n",
              "\n",
              "                                    normalized_sents  \n",
              "0  [['congressional', 'bills', 'congress', 'u.s',...  \n",
              "1  [['congressional', 'bills', 'congress', 'u.s',...  \n",
              "2  [['congressional', 'bills', 'congress', 'u.s',...  \n",
              "3  [['congressional', 'bills', 'congress', 'u.s',...  \n",
              "4  [['congressional', 'bills', 'congress', 'u.s',...  \n",
              "5  [['congressional', 'bills', 'congress', 'u.s',...  \n",
              "6  [['congressional', 'bills', 'congress', 'u.s',...  \n",
              "7  [['congressional', 'bills', 'congress', 'u.s',...  \n",
              "8  [['congressional', 'bills', 'congress', 'u.s',...  \n",
              "9  [['congressional', 'bills', 'congress', 'u.s',...  "
            ],
            "text/html": [
              "\n",
              "  <div id=\"df-5937ac5d-51dc-416b-9713-1aced18803a4\" class=\"colab-df-container\">\n",
              "    <div>\n",
              "<style scoped>\n",
              "    .dataframe tbody tr th:only-of-type {\n",
              "        vertical-align: middle;\n",
              "    }\n",
              "\n",
              "    .dataframe tbody tr th {\n",
              "        vertical-align: top;\n",
              "    }\n",
              "\n",
              "    .dataframe thead th {\n",
              "        text-align: right;\n",
              "    }\n",
              "</style>\n",
              "<table border=\"1\" class=\"dataframe\">\n",
              "  <thead>\n",
              "    <tr style=\"text-align: right;\">\n",
              "      <th></th>\n",
              "      <th>congress_num</th>\n",
              "      <th>legislation number</th>\n",
              "      <th>title</th>\n",
              "      <th>cleaned_text</th>\n",
              "      <th>tokenized_sents</th>\n",
              "      <th>normalized_sents</th>\n",
              "    </tr>\n",
              "  </thead>\n",
              "  <tbody>\n",
              "    <tr>\n",
              "      <th>0</th>\n",
              "      <td>118</td>\n",
              "      <td>H.R. 2907</td>\n",
              "      <td>Let Doctors Provide Reproductive Health Care Act</td>\n",
              "      <td>Congressional Bills 118th Congress From the U....</td>\n",
              "      <td>[['Congressional', 'Bills', '118th', 'Congress...</td>\n",
              "      <td>[['congressional', 'bills', 'congress', 'u.s',...</td>\n",
              "    </tr>\n",
              "    <tr>\n",
              "      <th>1</th>\n",
              "      <td>118</td>\n",
              "      <td>S. 1297</td>\n",
              "      <td>Let Doctors Provide Reproductive Health Care Act</td>\n",
              "      <td>Congressional Bills 118th Congress From the U....</td>\n",
              "      <td>[['Congressional', 'Bills', '118th', 'Congress...</td>\n",
              "      <td>[['congressional', 'bills', 'congress', 'u.s',...</td>\n",
              "    </tr>\n",
              "    <tr>\n",
              "      <th>2</th>\n",
              "      <td>118</td>\n",
              "      <td>H.R. 4901</td>\n",
              "      <td>Reproductive Health Care Accessibility Act</td>\n",
              "      <td>Congressional Bills 118th Congress From the U....</td>\n",
              "      <td>[['Congressional', 'Bills', '118th', 'Congress...</td>\n",
              "      <td>[['congressional', 'bills', 'congress', 'u.s',...</td>\n",
              "    </tr>\n",
              "    <tr>\n",
              "      <th>3</th>\n",
              "      <td>118</td>\n",
              "      <td>S. 2544</td>\n",
              "      <td>Reproductive Health Care Accessibility Act</td>\n",
              "      <td>Congressional Bills 118th Congress From the U....</td>\n",
              "      <td>[['Congressional', 'Bills', '118th', 'Congress...</td>\n",
              "      <td>[['congressional', 'bills', 'congress', 'u.s',...</td>\n",
              "    </tr>\n",
              "    <tr>\n",
              "      <th>4</th>\n",
              "      <td>118</td>\n",
              "      <td>H.R. 4147</td>\n",
              "      <td>Reproductive Health Care Training Act of 2023</td>\n",
              "      <td>Congressional Bills 118th Congress From the U....</td>\n",
              "      <td>[['Congressional', 'Bills', '118th', 'Congress...</td>\n",
              "      <td>[['congressional', 'bills', 'congress', 'u.s',...</td>\n",
              "    </tr>\n",
              "    <tr>\n",
              "      <th>5</th>\n",
              "      <td>118</td>\n",
              "      <td>S. 2024</td>\n",
              "      <td>Reproductive Health Care Training Act of 2023</td>\n",
              "      <td>Congressional Bills 118th Congress From the U....</td>\n",
              "      <td>[['Congressional', 'Bills', '118th', 'Congress...</td>\n",
              "      <td>[['congressional', 'bills', 'congress', 'u.s',...</td>\n",
              "    </tr>\n",
              "    <tr>\n",
              "      <th>6</th>\n",
              "      <td>118</td>\n",
              "      <td>H.R. 1723</td>\n",
              "      <td>Abortion is Health Care Everywhere Act of 2023</td>\n",
              "      <td>Congressional Bills 118th Congress From the U....</td>\n",
              "      <td>[['Congressional', 'Bills', '118th', 'Congress...</td>\n",
              "      <td>[['congressional', 'bills', 'congress', 'u.s',...</td>\n",
              "    </tr>\n",
              "    <tr>\n",
              "      <th>7</th>\n",
              "      <td>118</td>\n",
              "      <td>S. 929</td>\n",
              "      <td>Abortion is Health Care Everywhere Act of 2023</td>\n",
              "      <td>Congressional Bills 118th Congress From the U....</td>\n",
              "      <td>[['Congressional', 'Bills', '118th', 'Congress...</td>\n",
              "      <td>[['congressional', 'bills', 'congress', 'u.s',...</td>\n",
              "    </tr>\n",
              "    <tr>\n",
              "      <th>8</th>\n",
              "      <td>118</td>\n",
              "      <td>H.R. 73</td>\n",
              "      <td>No Pro-Abortion Task Force Act</td>\n",
              "      <td>Congressional Bills 118th Congress From the U....</td>\n",
              "      <td>[['Congressional', 'Bills', '118th', 'Congress...</td>\n",
              "      <td>[['congressional', 'bills', 'congress', 'u.s',...</td>\n",
              "    </tr>\n",
              "    <tr>\n",
              "      <th>9</th>\n",
              "      <td>118</td>\n",
              "      <td>H.R. 7</td>\n",
              "      <td>No Taxpayer Funding for Abortion and Abortion ...</td>\n",
              "      <td>Congressional Bills 118th Congress From the U....</td>\n",
              "      <td>[['Congressional', 'Bills', '118th', 'Congress...</td>\n",
              "      <td>[['congressional', 'bills', 'congress', 'u.s',...</td>\n",
              "    </tr>\n",
              "  </tbody>\n",
              "</table>\n",
              "</div>\n",
              "    <div class=\"colab-df-buttons\">\n",
              "\n",
              "  <div class=\"colab-df-container\">\n",
              "    <button class=\"colab-df-convert\" onclick=\"convertToInteractive('df-5937ac5d-51dc-416b-9713-1aced18803a4')\"\n",
              "            title=\"Convert this dataframe to an interactive table.\"\n",
              "            style=\"display:none;\">\n",
              "\n",
              "  <svg xmlns=\"http://www.w3.org/2000/svg\" height=\"24px\" viewBox=\"0 -960 960 960\">\n",
              "    <path d=\"M120-120v-720h720v720H120Zm60-500h600v-160H180v160Zm220 220h160v-160H400v160Zm0 220h160v-160H400v160ZM180-400h160v-160H180v160Zm440 0h160v-160H620v160ZM180-180h160v-160H180v160Zm440 0h160v-160H620v160Z\"/>\n",
              "  </svg>\n",
              "    </button>\n",
              "\n",
              "  <style>\n",
              "    .colab-df-container {\n",
              "      display:flex;\n",
              "      gap: 12px;\n",
              "    }\n",
              "\n",
              "    .colab-df-convert {\n",
              "      background-color: #E8F0FE;\n",
              "      border: none;\n",
              "      border-radius: 50%;\n",
              "      cursor: pointer;\n",
              "      display: none;\n",
              "      fill: #1967D2;\n",
              "      height: 32px;\n",
              "      padding: 0 0 0 0;\n",
              "      width: 32px;\n",
              "    }\n",
              "\n",
              "    .colab-df-convert:hover {\n",
              "      background-color: #E2EBFA;\n",
              "      box-shadow: 0px 1px 2px rgba(60, 64, 67, 0.3), 0px 1px 3px 1px rgba(60, 64, 67, 0.15);\n",
              "      fill: #174EA6;\n",
              "    }\n",
              "\n",
              "    .colab-df-buttons div {\n",
              "      margin-bottom: 4px;\n",
              "    }\n",
              "\n",
              "    [theme=dark] .colab-df-convert {\n",
              "      background-color: #3B4455;\n",
              "      fill: #D2E3FC;\n",
              "    }\n",
              "\n",
              "    [theme=dark] .colab-df-convert:hover {\n",
              "      background-color: #434B5C;\n",
              "      box-shadow: 0px 1px 3px 1px rgba(0, 0, 0, 0.15);\n",
              "      filter: drop-shadow(0px 1px 2px rgba(0, 0, 0, 0.3));\n",
              "      fill: #FFFFFF;\n",
              "    }\n",
              "  </style>\n",
              "\n",
              "    <script>\n",
              "      const buttonEl =\n",
              "        document.querySelector('#df-5937ac5d-51dc-416b-9713-1aced18803a4 button.colab-df-convert');\n",
              "      buttonEl.style.display =\n",
              "        google.colab.kernel.accessAllowed ? 'block' : 'none';\n",
              "\n",
              "      async function convertToInteractive(key) {\n",
              "        const element = document.querySelector('#df-5937ac5d-51dc-416b-9713-1aced18803a4');\n",
              "        const dataTable =\n",
              "          await google.colab.kernel.invokeFunction('convertToInteractive',\n",
              "                                                    [key], {});\n",
              "        if (!dataTable) return;\n",
              "\n",
              "        const docLinkHtml = 'Like what you see? Visit the ' +\n",
              "          '<a target=\"_blank\" href=https://colab.research.google.com/notebooks/data_table.ipynb>data table notebook</a>'\n",
              "          + ' to learn more about interactive tables.';\n",
              "        element.innerHTML = '';\n",
              "        dataTable['output_type'] = 'display_data';\n",
              "        await google.colab.output.renderOutput(dataTable, element);\n",
              "        const docLink = document.createElement('div');\n",
              "        docLink.innerHTML = docLinkHtml;\n",
              "        element.appendChild(docLink);\n",
              "      }\n",
              "    </script>\n",
              "  </div>\n",
              "\n",
              "\n",
              "<div id=\"df-1e8c2aff-9a17-44da-8048-e7050615c9cb\">\n",
              "  <button class=\"colab-df-quickchart\" onclick=\"quickchart('df-1e8c2aff-9a17-44da-8048-e7050615c9cb')\"\n",
              "            title=\"Suggest charts\"\n",
              "            style=\"display:none;\">\n",
              "\n",
              "<svg xmlns=\"http://www.w3.org/2000/svg\" height=\"24px\"viewBox=\"0 0 24 24\"\n",
              "     width=\"24px\">\n",
              "    <g>\n",
              "        <path d=\"M19 3H5c-1.1 0-2 .9-2 2v14c0 1.1.9 2 2 2h14c1.1 0 2-.9 2-2V5c0-1.1-.9-2-2-2zM9 17H7v-7h2v7zm4 0h-2V7h2v10zm4 0h-2v-4h2v4z\"/>\n",
              "    </g>\n",
              "</svg>\n",
              "  </button>\n",
              "\n",
              "<style>\n",
              "  .colab-df-quickchart {\n",
              "      --bg-color: #E8F0FE;\n",
              "      --fill-color: #1967D2;\n",
              "      --hover-bg-color: #E2EBFA;\n",
              "      --hover-fill-color: #174EA6;\n",
              "      --disabled-fill-color: #AAA;\n",
              "      --disabled-bg-color: #DDD;\n",
              "  }\n",
              "\n",
              "  [theme=dark] .colab-df-quickchart {\n",
              "      --bg-color: #3B4455;\n",
              "      --fill-color: #D2E3FC;\n",
              "      --hover-bg-color: #434B5C;\n",
              "      --hover-fill-color: #FFFFFF;\n",
              "      --disabled-bg-color: #3B4455;\n",
              "      --disabled-fill-color: #666;\n",
              "  }\n",
              "\n",
              "  .colab-df-quickchart {\n",
              "    background-color: var(--bg-color);\n",
              "    border: none;\n",
              "    border-radius: 50%;\n",
              "    cursor: pointer;\n",
              "    display: none;\n",
              "    fill: var(--fill-color);\n",
              "    height: 32px;\n",
              "    padding: 0;\n",
              "    width: 32px;\n",
              "  }\n",
              "\n",
              "  .colab-df-quickchart:hover {\n",
              "    background-color: var(--hover-bg-color);\n",
              "    box-shadow: 0 1px 2px rgba(60, 64, 67, 0.3), 0 1px 3px 1px rgba(60, 64, 67, 0.15);\n",
              "    fill: var(--button-hover-fill-color);\n",
              "  }\n",
              "\n",
              "  .colab-df-quickchart-complete:disabled,\n",
              "  .colab-df-quickchart-complete:disabled:hover {\n",
              "    background-color: var(--disabled-bg-color);\n",
              "    fill: var(--disabled-fill-color);\n",
              "    box-shadow: none;\n",
              "  }\n",
              "\n",
              "  .colab-df-spinner {\n",
              "    border: 2px solid var(--fill-color);\n",
              "    border-color: transparent;\n",
              "    border-bottom-color: var(--fill-color);\n",
              "    animation:\n",
              "      spin 1s steps(1) infinite;\n",
              "  }\n",
              "\n",
              "  @keyframes spin {\n",
              "    0% {\n",
              "      border-color: transparent;\n",
              "      border-bottom-color: var(--fill-color);\n",
              "      border-left-color: var(--fill-color);\n",
              "    }\n",
              "    20% {\n",
              "      border-color: transparent;\n",
              "      border-left-color: var(--fill-color);\n",
              "      border-top-color: var(--fill-color);\n",
              "    }\n",
              "    30% {\n",
              "      border-color: transparent;\n",
              "      border-left-color: var(--fill-color);\n",
              "      border-top-color: var(--fill-color);\n",
              "      border-right-color: var(--fill-color);\n",
              "    }\n",
              "    40% {\n",
              "      border-color: transparent;\n",
              "      border-right-color: var(--fill-color);\n",
              "      border-top-color: var(--fill-color);\n",
              "    }\n",
              "    60% {\n",
              "      border-color: transparent;\n",
              "      border-right-color: var(--fill-color);\n",
              "    }\n",
              "    80% {\n",
              "      border-color: transparent;\n",
              "      border-right-color: var(--fill-color);\n",
              "      border-bottom-color: var(--fill-color);\n",
              "    }\n",
              "    90% {\n",
              "      border-color: transparent;\n",
              "      border-bottom-color: var(--fill-color);\n",
              "    }\n",
              "  }\n",
              "</style>\n",
              "\n",
              "  <script>\n",
              "    async function quickchart(key) {\n",
              "      const quickchartButtonEl =\n",
              "        document.querySelector('#' + key + ' button');\n",
              "      quickchartButtonEl.disabled = true;  // To prevent multiple clicks.\n",
              "      quickchartButtonEl.classList.add('colab-df-spinner');\n",
              "      try {\n",
              "        const charts = await google.colab.kernel.invokeFunction(\n",
              "            'suggestCharts', [key], {});\n",
              "      } catch (error) {\n",
              "        console.error('Error during call to suggestCharts:', error);\n",
              "      }\n",
              "      quickchartButtonEl.classList.remove('colab-df-spinner');\n",
              "      quickchartButtonEl.classList.add('colab-df-quickchart-complete');\n",
              "    }\n",
              "    (() => {\n",
              "      let quickchartButtonEl =\n",
              "        document.querySelector('#df-1e8c2aff-9a17-44da-8048-e7050615c9cb button');\n",
              "      quickchartButtonEl.style.display =\n",
              "        google.colab.kernel.accessAllowed ? 'block' : 'none';\n",
              "    })();\n",
              "  </script>\n",
              "</div>\n",
              "    </div>\n",
              "  </div>\n"
            ]
          },
          "metadata": {},
          "execution_count": 20
        }
      ],
      "source": [
        "# loading congressional data\n",
        "congress_fp = '/content/drive/MyDrive/Colab Notebooks/soci40133-homeworks/data/congress_legislation_tokenized_sents.csv'\n",
        "congress_df = pd.read_csv(congress_fp)\n",
        "congress_df = congress_df.iloc[:, 1:]\n",
        "congress_df.head(10)"
      ]
    },
    {
      "cell_type": "markdown",
      "metadata": {
        "id": "ekTfR-8TWUgX"
      },
      "source": [
        "### Tokenization"
      ]
    },
    {
      "cell_type": "markdown",
      "source": [
        "#### Congressional Legislation"
      ],
      "metadata": {
        "id": "dGE0xpL0Knx3"
      }
    },
    {
      "cell_type": "code",
      "execution_count": 21,
      "metadata": {
        "id": "hhJFpGncWUgX"
      },
      "outputs": [],
      "source": [
        "# tokenize and normalize sentences -\n",
        "# congress_df['tokenized_sents'] = congress_df['cleaned_text'].progress_apply(lambda x: [lucem_illud.word_tokenize(s, MAX_LEN=5000000) for s in lucem_illud.sent_tokenize(x)])"
      ]
    },
    {
      "cell_type": "code",
      "source": [
        "# convert string representations of lists into actual lists\n",
        "congress_df['tokenized_sents'] = congress_df['tokenized_sents'].apply(lambda x: ast.literal_eval(x))\n",
        "congress_df['normalized_sents'] = congress_df['normalized_sents'].apply(lambda x: ast.literal_eval(x))"
      ],
      "metadata": {
        "id": "3-AC0Ez6fmC9"
      },
      "execution_count": 22,
      "outputs": []
    },
    {
      "cell_type": "code",
      "execution_count": null,
      "metadata": {
        "id": "S_sZShKqWUgY"
      },
      "outputs": [],
      "source": [
        "# congress_df['normalized_sents'] = congress_df['tokenized_sents'].apply(lambda x: [lucem_illud.normalizeTokens(s, lemma=False) for s in x])"
      ]
    },
    {
      "cell_type": "markdown",
      "metadata": {
        "id": "AQiQaENhWUgY"
      },
      "source": [
        "## <font color=\"blue\">*Exercise 1*</font>\n",
        "\n",
        "<font color=\"blue\">Construct cells immediately below this that embed documents related to your final project using at least two different specification of `word2vec` and/or `fasttext`, and visualize them each with two separate visualization layout specifications (e.g., TSNE, PCA). Then interrogate critical word vectors within your corpus in terms of the most similar words, analogies, and other additions and subtractions that reveal the structure of similarity and difference within your semantic space. What does this pattern reveal about the semantic organization of words in your corpora? Which estimation and visualization specification generate the most insight and appear the most robustly supported and why?\n",
        "\n",
        "<font color=\"blue\">***Stretch***: Explore different vector calculations beyond addition and subtraction, such as multiplication, division or some other function. What does this exploration reveal about the semantic structure of your corpus?"
      ]
    },
    {
      "cell_type": "markdown",
      "metadata": {
        "id": "Sh81OQnrWUgY"
      },
      "source": [
        "### Word2Vec: CBOW"
      ]
    },
    {
      "cell_type": "markdown",
      "source": [
        "#### Create model"
      ],
      "metadata": {
        "id": "bZ0BmN9ifcuS"
      }
    },
    {
      "cell_type": "code",
      "execution_count": null,
      "metadata": {
        "id": "2vLrsGZwWUgY"
      },
      "outputs": [],
      "source": [
        "# congress_w2v = gensim.models.word2vec.Word2Vec(congress_df['normalized_sents'].sum(), sg=0)\n",
        "congress_w2v = gensim.models.word2vec.Word2Vec.load(outpath + 'congress_w2v')"
      ]
    },
    {
      "cell_type": "code",
      "source": [
        "print('\"abortion\" vector: ', congress_w2v.wv['abortion'][:10])\n",
        "print('word at index 10: ', congress_w2v.wv.index_to_key[10])"
      ],
      "metadata": {
        "colab": {
          "base_uri": "https://localhost:8080/"
        },
        "id": "i7gcZm8KYOQD",
        "outputId": "d974661f-4001-439c-8b28-f8579a4a3269"
      },
      "execution_count": null,
      "outputs": [
        {
          "output_type": "stream",
          "name": "stdout",
          "text": [
            "\"abortion\" vector:  [-5.612072    0.3267288   1.0573627  -1.8947524   0.45254493 -1.1673063\n",
            " -4.5181017   2.3494272   4.0621276  -2.0734484 ]\n",
            "word at index 10:  united\n"
          ]
        }
      ]
    },
    {
      "cell_type": "markdown",
      "metadata": {
        "id": "oA0MAgtKWUgY"
      },
      "source": [
        "#### Similarity analysis"
      ]
    },
    {
      "cell_type": "code",
      "execution_count": null,
      "metadata": {
        "colab": {
          "base_uri": "https://localhost:8080/"
        },
        "id": "PE7BEkQeWUgY",
        "outputId": "eafa977d-bdd5-41fe-8946-9721bfdb348c"
      },
      "outputs": [
        {
          "output_type": "execute_result",
          "data": {
            "text/plain": [
              "[('abortions', 0.7421492338180542),\n",
              " ('sterilization', 0.5161693692207336),\n",
              " ('induced', 0.513643205165863),\n",
              " ('counsels', 0.5081219673156738),\n",
              " ('mother', 0.5071813464164734),\n",
              " ('mifepristone', 0.4809534251689911),\n",
              " ('banned', 0.4789317548274994),\n",
              " ('overt', 0.475414901971817),\n",
              " ('ask', 0.46699029207229614),\n",
              " ('heartbeat', 0.4632500112056732)]"
            ]
          },
          "metadata": {},
          "execution_count": 24
        }
      ],
      "source": [
        "# determine words most similar to abortion\n",
        "congress_w2v.wv.most_similar('abortion')"
      ]
    },
    {
      "cell_type": "code",
      "execution_count": null,
      "metadata": {
        "colab": {
          "base_uri": "https://localhost:8080/"
        },
        "id": "hcEw8-kOWUgY",
        "outputId": "77eac902-30b4-4de8-90a7-76e016d89c2d"
      },
      "outputs": [
        {
          "output_type": "execute_result",
          "data": {
            "text/plain": [
              "[('safeguards', 0.6213516592979431),\n",
              " ('confidentiality', 0.5741297006607056),\n",
              " ('retaliation', 0.5735570788383484),\n",
              " ('disclosure', 0.5724079608917236),\n",
              " ('protects', 0.5692076086997986),\n",
              " ('liberties', 0.5652321577072144),\n",
              " ('whistleblowers', 0.561862051486969),\n",
              " ('objectivity', 0.549883246421814),\n",
              " ('protections', 0.5464515089988708),\n",
              " ('safeguard', 0.5351738333702087)]"
            ]
          },
          "metadata": {},
          "execution_count": 25
        }
      ],
      "source": [
        "# determine words most similar to privacy\n",
        "congress_w2v.wv.most_similar('privacy')"
      ]
    },
    {
      "cell_type": "code",
      "execution_count": null,
      "metadata": {
        "colab": {
          "base_uri": "https://localhost:8080/"
        },
        "id": "OdCvAf5cWUgZ",
        "outputId": "39f00e9e-217a-4e97-f37d-f1ef9607db82"
      },
      "outputs": [
        {
          "output_type": "execute_result",
          "data": {
            "text/plain": [
              "[('preserve', 0.6159853339195251),\n",
              " ('protects', 0.5988128185272217),\n",
              " ('safeguard', 0.5983730554580688),\n",
              " ('protecting', 0.5832788348197937),\n",
              " ('precautions', 0.5482953190803528),\n",
              " ('prevent', 0.5470497012138367),\n",
              " ('desirable', 0.5434120297431946),\n",
              " ('avoid', 0.5338342189788818),\n",
              " ('perpetuity', 0.5301917195320129),\n",
              " ('save', 0.5149190425872803)]"
            ]
          },
          "metadata": {},
          "execution_count": 26
        }
      ],
      "source": [
        "# determine words most similar to protect\n",
        "congress_w2v.wv.most_similar('protect')\n"
      ]
    },
    {
      "cell_type": "code",
      "execution_count": null,
      "metadata": {
        "colab": {
          "base_uri": "https://localhost:8080/"
        },
        "id": "UvzAoj21WUgZ",
        "outputId": "cef5653c-2c5f-4589-fcf2-83e34c1803b8"
      },
      "outputs": [
        {
          "output_type": "execute_result",
          "data": {
            "text/plain": [
              "[('mother', 0.7352379560470581),\n",
              " ('kills', 0.7236305475234985),\n",
              " ('detectable', 0.699462890625),\n",
              " ('overt', 0.6773601770401001),\n",
              " ('vaginally', 0.6765885353088379),\n",
              " ('heartbeat', 0.6730718612670898),\n",
              " ('infanticide', 0.6699287295341492),\n",
              " ('fetal', 0.6695061922073364),\n",
              " ('purposeful', 0.6525930166244507),\n",
              " ('spontaneous', 0.6525812149047852)]"
            ]
          },
          "metadata": {},
          "execution_count": 27
        }
      ],
      "source": [
        "# determine words most similar to protect\n",
        "congress_w2v.wv.most_similar('fetus')"
      ]
    },
    {
      "cell_type": "code",
      "execution_count": null,
      "metadata": {
        "colab": {
          "base_uri": "https://localhost:8080/"
        },
        "id": "jVO3D23mWUgZ",
        "outputId": "ee464246-0980-4c6b-a216-256a4dd95115"
      },
      "outputs": [
        {
          "output_type": "execute_result",
          "data": {
            "text/plain": [
              "[('infant', 0.6874135732650757),\n",
              " ('clothing', 0.6389772295951843),\n",
              " ('diapers', 0.6380654573440552),\n",
              " ('perinatal', 0.6360554695129395),\n",
              " ('maternity', 0.6056177616119385),\n",
              " ('male', 0.578442394733429),\n",
              " ('whites', 0.5753489136695862),\n",
              " ('prenatal', 0.5669273734092712),\n",
              " ('otc', 0.5657860040664673),\n",
              " ('infants', 0.5636196136474609)]"
            ]
          },
          "metadata": {},
          "execution_count": 28
        }
      ],
      "source": [
        "# determine words most similar to protect\n",
        "congress_w2v.wv.most_similar('baby')"
      ]
    },
    {
      "cell_type": "code",
      "execution_count": null,
      "metadata": {
        "id": "0pjhvxMbWUgZ",
        "outputId": "082b0996-0463-4447-abd2-9b49feb56cb6",
        "colab": {
          "base_uri": "https://localhost:8080/"
        }
      },
      "outputs": [
        {
          "output_type": "execute_result",
          "data": {
            "text/plain": [
              "[('depends', 0.6091548204421997),\n",
              " ('heartbeat', 0.6060656905174255),\n",
              " ('bans', 0.5997994542121887),\n",
              " ('harmful', 0.5975643992424011),\n",
              " ('perception', 0.5965363383293152),\n",
              " ('predominately', 0.5941205620765686),\n",
              " ('cortex', 0.5852290391921997),\n",
              " ('rests', 0.5788933634757996),\n",
              " ('react', 0.5775757431983948),\n",
              " ('bias', 0.5721566677093506)]"
            ]
          },
          "metadata": {},
          "execution_count": 29
        }
      ],
      "source": [
        "# determine words most similar to protect\n",
        "congress_w2v.wv.most_similar('viability')"
      ]
    },
    {
      "cell_type": "code",
      "execution_count": null,
      "metadata": {
        "id": "rHlZZQUyWUgZ",
        "outputId": "1cd9e553-519d-432b-ee81-9f83b4864a05",
        "colab": {
          "base_uri": "https://localhost:8080/"
        }
      },
      "outputs": [
        {
          "output_type": "execute_result",
          "data": {
            "text/plain": [
              "[('helps', 0.6756335496902466),\n",
              " ('paraprofessionals', 0.5968397259712219),\n",
              " ('postsecondary', 0.5871632695198059),\n",
              " ('abstinence', 0.5833180546760559),\n",
              " ('stem', 0.5776340961456299),\n",
              " ('counselling', 0.5730010867118835),\n",
              " ('breastfeeding', 0.5703728795051575),\n",
              " ('orientation', 0.5667834281921387),\n",
              " ('adulthood', 0.564831554889679),\n",
              " ('decisionmaking', 0.5629422068595886)]"
            ]
          },
          "metadata": {},
          "execution_count": 30
        }
      ],
      "source": [
        "# determine words most similar to protect\n",
        "congress_w2v.wv.most_similar('sexuality')"
      ]
    },
    {
      "cell_type": "code",
      "execution_count": null,
      "metadata": {
        "id": "mzTRobVNWUgZ",
        "outputId": "ffca4622-c717-42ce-e117-3e9fa91665e4",
        "colab": {
          "base_uri": "https://localhost:8080/"
        }
      },
      "outputs": [
        {
          "output_type": "execute_result",
          "data": {
            "text/plain": [
              "[('infertility', 0.7181500196456909),\n",
              " ('postpartum', 0.6691842079162598),\n",
              " ('childbirth', 0.6659271717071533),\n",
              " ('screenings', 0.6615939140319824),\n",
              " ('infections', 0.6360496282577515),\n",
              " ('prenatal', 0.6351349949836731),\n",
              " ('childbearing', 0.6343631744384766),\n",
              " ('males', 0.6280860304832458),\n",
              " ('interventions', 0.6203569769859314),\n",
              " ('modern', 0.6197288036346436)]"
            ]
          },
          "metadata": {},
          "execution_count": 31
        }
      ],
      "source": [
        "# determine words most similar to protect\n",
        "congress_w2v.wv.most_similar('contraception')"
      ]
    },
    {
      "cell_type": "code",
      "execution_count": null,
      "metadata": {
        "id": "TOnQein6WUga",
        "outputId": "5ac8a513-ddea-4029-cd1c-3f5758646e9e",
        "colab": {
          "base_uri": "https://localhost:8080/",
          "height": 35
        }
      },
      "outputs": [
        {
          "output_type": "execute_result",
          "data": {
            "text/plain": [
              "'health'"
            ],
            "application/vnd.google.colaboratory.intrinsic+json": {
              "type": "string"
            }
          },
          "metadata": {},
          "execution_count": 32
        }
      ],
      "source": [
        "# find words most disimilar to\n",
        "congress_w2v.wv.doesnt_match(['abortion', 'health', 'right', 'choice'])"
      ]
    },
    {
      "cell_type": "code",
      "execution_count": null,
      "metadata": {
        "colab": {
          "base_uri": "https://localhost:8080/"
        },
        "id": "7nKgyR0KWUga",
        "outputId": "fa0f58ed-970a-44fb-ab95-4a26e0636ea5"
      },
      "outputs": [
        {
          "output_type": "execute_result",
          "data": {
            "text/plain": [
              "[('situation', 0.47203150391578674),\n",
              " ('reconstitution', 0.4673141539096832),\n",
              " ('halt', 0.45384863018989563),\n",
              " ('bleeding', 0.45343896746635437),\n",
              " ('ebola', 0.4478793442249298),\n",
              " ('innocent', 0.44371679425239563),\n",
              " ('confrontation', 0.4426037073135376),\n",
              " ('imminent', 0.44107818603515625),\n",
              " ('manmade', 0.4400501847267151),\n",
              " ('spreading', 0.43812209367752075)]"
            ]
          },
          "metadata": {},
          "execution_count": 33
        }
      ],
      "source": [
        "# use semantic equations to find words most analogous to [INSERT ANALOGY HERE]\n",
        "# equation: X + Y - Z = ___ (woman is to abortion as man is to ___)\n",
        "congress_w2v.wv.most_similar(positive=['woman', 'man'], negative = ['abortion'])\n",
        "\n"
      ]
    },
    {
      "cell_type": "code",
      "source": [
        "# saving the model\n",
        "congress_w2v.save(outpath + 'congress_w2v')"
      ],
      "metadata": {
        "id": "maMbpfyocHye"
      },
      "execution_count": null,
      "outputs": []
    },
    {
      "cell_type": "markdown",
      "metadata": {
        "id": "khuWs2OAWUga"
      },
      "source": [
        "#### Visualization"
      ]
    },
    {
      "cell_type": "code",
      "execution_count": null,
      "metadata": {
        "id": "noMlG_xNWUgb"
      },
      "outputs": [],
      "source": [
        "# select a random list of words\n",
        "num_words = 50\n",
        "indices = random_indices(len(congress_w2v.wv.index_to_key), num_words)\n",
        "target_words = congress_w2v.wv.index_to_key[:num_words]"
      ]
    },
    {
      "cell_type": "code",
      "source": [
        "# grab the vector representation of the words\n",
        "words_sub_matrix = []\n",
        "for word in target_words:\n",
        "    words_sub_matrix.append(congress_w2v.wv[word])\n",
        "words_sub_matrix = np.array(words_sub_matrix)\n",
        "words_sub_matrix"
      ],
      "metadata": {
        "colab": {
          "base_uri": "https://localhost:8080/"
        },
        "id": "zNTU7Kx_cT4O",
        "outputId": "ded7d0a5-40a3-4ec0-c650-49de833b8f3e"
      },
      "execution_count": null,
      "outputs": [
        {
          "output_type": "execute_result",
          "data": {
            "text/plain": [
              "array([[ 1.1388346 , -1.1721624 ,  1.7461935 , ..., -0.41372803,\n",
              "         0.6833053 , -2.194777  ],\n",
              "       [ 0.23770423, -1.5508502 ,  0.57159996, ...,  0.1626349 ,\n",
              "         0.26618767,  0.22478934],\n",
              "       [ 0.69627666, -0.59026873, -0.94444793, ...,  2.5725956 ,\n",
              "         0.0770115 , -2.881043  ],\n",
              "       ...,\n",
              "       [ 0.01309244, -1.9653504 , -1.5769451 , ..., -0.5667724 ,\n",
              "         1.4251993 , -6.06684   ],\n",
              "       [-0.47486094,  1.0499866 ,  3.726806  , ...,  2.2157938 ,\n",
              "        -1.5631832 ,  0.13062732],\n",
              "       [ 5.850592  , -3.8639956 , -1.5480423 , ...,  2.5014067 ,\n",
              "        -3.2338407 , -5.3928795 ]], dtype=float32)"
            ]
          },
          "metadata": {},
          "execution_count": 36
        }
      ]
    },
    {
      "cell_type": "code",
      "source": [
        "# dimensionality reduction\n",
        "pca_words = sklearn.decomposition.PCA(n_components = 50).fit(words_sub_matrix)\n",
        "reduced_PCA_data = pca_words.transform(words_sub_matrix)\n",
        "#T-SNE is theoretically better, but you should experiment\n",
        "tsne_words = sklearn.manifold.TSNE(n_components = 2).fit_transform(reduced_PCA_data)"
      ],
      "metadata": {
        "id": "tmvkKisvcUW7"
      },
      "execution_count": null,
      "outputs": []
    },
    {
      "cell_type": "markdown",
      "source": [
        "##### TNSE"
      ],
      "metadata": {
        "id": "mVAO1taCfty-"
      }
    },
    {
      "cell_type": "code",
      "source": [
        "# plot\n",
        "fig = plt.figure(figsize = (10,6))\n",
        "ax = fig.add_subplot(111)\n",
        "ax.set_frame_on(False)\n",
        "plt.scatter(tsne_words[:, 0], tsne_words[:, 1], alpha = 0) #Making the points invisible\n",
        "for i, word in enumerate(target_words):\n",
        "    ax.annotate(word, (tsne_words[:, 0][i],tsne_words[:, 1][i]), size =  20 * (num_words - i) / num_words)\n",
        "plt.xticks(())\n",
        "plt.yticks(())\n",
        "plt.show()"
      ],
      "metadata": {
        "colab": {
          "base_uri": "https://localhost:8080/",
          "height": 499
        },
        "id": "ovCKIu5ocUZh",
        "outputId": "fb0c9ceb-de36-47e4-d5af-475fa704f314"
      },
      "execution_count": null,
      "outputs": [
        {
          "output_type": "display_data",
          "data": {
            "text/plain": [
              "<Figure size 1000x600 with 1 Axes>"
            ],
            "image/png": "[encoded data removed]"
          },
          "metadata": {}
        }
      ]
    },
    {
      "cell_type": "markdown",
      "source": [
        "##### PCA"
      ],
      "metadata": {
        "id": "3qUikBYffuwb"
      }
    },
    {
      "cell_type": "code",
      "source": [
        "fig = plt.figure(figsize = (10,6))\n",
        "ax = fig.add_subplot(111)\n",
        "ax.set_frame_on(False)\n",
        "plt.scatter(reduced_PCA_data[:, 0], reduced_PCA_data[:, 1], alpha = 0) #Making the points invisible\n",
        "for i, word in enumerate(target_words):\n",
        "    ax.annotate(word, (reduced_PCA_data[:, 0][i],reduced_PCA_data[:, 1][i]), size =  20 * (num_words - i) / num_words)\n",
        "plt.xticks(())\n",
        "plt.yticks(())\n",
        "plt.show()"
      ],
      "metadata": {
        "colab": {
          "base_uri": "https://localhost:8080/",
          "height": 499
        },
        "id": "kM725VfVcUb4",
        "outputId": "1c40f8d7-76b3-4db2-b6f0-08b61512ba14"
      },
      "execution_count": null,
      "outputs": [
        {
          "output_type": "display_data",
          "data": {
            "text/plain": [
              "<Figure size 1000x600 with 1 Axes>"
            ],
            "image/png": "[encoded data removed]"
          },
          "metadata": {}
        }
      ]
    },
    {
      "cell_type": "markdown",
      "source": [
        "### Word2Vec: Skip-grams"
      ],
      "metadata": {
        "id": "n1T_YQAVg_cv"
      }
    },
    {
      "cell_type": "markdown",
      "source": [
        "#### Create model"
      ],
      "metadata": {
        "id": "nXhgduXk8PaZ"
      }
    },
    {
      "cell_type": "code",
      "source": [
        "congress_w2v_sg = gensim.models.word2vec.Word2Vec(congress_df['normalized_sents'].sum(), sg=1)"
      ],
      "metadata": {
        "id": "-3nH8ry01AMv"
      },
      "execution_count": null,
      "outputs": []
    },
    {
      "cell_type": "code",
      "source": [
        "print('\"abortion\" vector: ', congress_w2v_sg.wv['abortion'][:10])\n",
        "print('word at index 10: ', congress_w2v_sg.wv.index_to_key[10])"
      ],
      "metadata": {
        "colab": {
          "base_uri": "https://localhost:8080/"
        },
        "id": "Ejbg6pXQ8jFP",
        "outputId": "a998d777-cbcf-4c13-a9b5-c13cce70d581"
      },
      "execution_count": null,
      "outputs": [
        {
          "output_type": "stream",
          "name": "stdout",
          "text": [
            "\"abortion\" vector:  [-0.53932637  0.17423826  0.31645152 -0.23082948  0.3020377   0.39267945\n",
            " -0.3516492  -0.44962457  0.6443824  -0.10963786]\n",
            "word at index 10:  united\n"
          ]
        }
      ]
    },
    {
      "cell_type": "code",
      "source": [
        "# saving the model\n",
        "congress_w2v_sg.save(outpath + 'congress_w2v_sg')"
      ],
      "metadata": {
        "id": "OyFrB6rTKKp3"
      },
      "execution_count": null,
      "outputs": []
    },
    {
      "cell_type": "markdown",
      "source": [
        "#### Similarity analysis"
      ],
      "metadata": {
        "id": "Kwag2fKo8SHy"
      }
    },
    {
      "cell_type": "code",
      "source": [
        "# determine words most similar to abortion\n",
        "congress_w2v_sg.wv.most_similar('abortion')"
      ],
      "metadata": {
        "id": "lyIrEoXL1AO8",
        "colab": {
          "base_uri": "https://localhost:8080/"
        },
        "outputId": "2a476409-9490-4b4b-ca1a-7331ed0c5d42"
      },
      "execution_count": null,
      "outputs": [
        {
          "output_type": "execute_result",
          "data": {
            "text/plain": [
              "[('abortions', 0.688012957572937),\n",
              " ('shame', 0.6427781581878662),\n",
              " ('sterilization', 0.6292738914489746),\n",
              " ('mother', 0.6243932843208313),\n",
              " ('dismemberment', 0.6082074046134949),\n",
              " ('gynecologic', 0.6006467342376709),\n",
              " ('woman', 0.591775119304657),\n",
              " ('stigmatize', 0.5888438820838928),\n",
              " ('disfavored', 0.5863617062568665),\n",
              " ('induced', 0.5828893780708313)]"
            ]
          },
          "metadata": {},
          "execution_count": 43
        }
      ]
    },
    {
      "cell_type": "code",
      "source": [
        "# determine words most similar to privacy\n",
        "congress_w2v_sg.wv.most_similar('privacy')"
      ],
      "metadata": {
        "colab": {
          "base_uri": "https://localhost:8080/"
        },
        "id": "D8YDsDnR8lUf",
        "outputId": "da07880e-0ef1-494d-e78f-87a02fd38e78"
      },
      "execution_count": null,
      "outputs": [
        {
          "output_type": "execute_result",
          "data": {
            "text/plain": [
              "[('liberties', 0.7063617706298828),\n",
              " ('trusteeships', 0.560242235660553),\n",
              " ('embarrass', 0.5574496984481812),\n",
              " ('intrusions', 0.5539625287055969),\n",
              " ('protect', 0.552689790725708),\n",
              " ('protects', 0.5472456216812134),\n",
              " ('rights', 0.5454851984977722),\n",
              " ('outweighs', 0.5431666374206543),\n",
              " ('procedural', 0.5405829548835754),\n",
              " ('552a', 0.5381172299385071)]"
            ]
          },
          "metadata": {},
          "execution_count": 44
        }
      ]
    },
    {
      "cell_type": "code",
      "source": [
        "# determine words most similar to protect\n",
        "congress_w2v_sg.wv.most_similar('protect')"
      ],
      "metadata": {
        "colab": {
          "base_uri": "https://localhost:8080/"
        },
        "id": "nILDXQnF8lbB",
        "outputId": "f7ad8137-5c56-4df8-fad2-6cde2bae9e08"
      },
      "execution_count": null,
      "outputs": [
        {
          "output_type": "execute_result",
          "data": {
            "text/plain": [
              "[('wholesomeness', 0.6591777801513672),\n",
              " ('thriving', 0.6202951669692993),\n",
              " ('enactments', 0.6086571216583252),\n",
              " ('jeopardize', 0.6043893098831177),\n",
              " ('preserve', 0.5930131673812866),\n",
              " ('protects', 0.5927300453186035),\n",
              " ('enjoyment', 0.5926752686500549),\n",
              " ('inadequacy', 0.5843029618263245),\n",
              " ('unnecessarily', 0.5823054909706116),\n",
              " ('anonymity', 0.5821221470832825)]"
            ]
          },
          "metadata": {},
          "execution_count": 45
        }
      ]
    },
    {
      "cell_type": "code",
      "source": [
        "# determine words most similar to protect\n",
        "congress_w2v_sg.wv.most_similar('fetus')"
      ],
      "metadata": {
        "colab": {
          "base_uri": "https://localhost:8080/"
        },
        "id": "2gZla-ae8lhh",
        "outputId": "a8b29112-aebb-44cb-cc93-16be3571ecfa"
      },
      "execution_count": null,
      "outputs": [
        {
          "output_type": "execute_result",
          "data": {
            "text/plain": [
              "[('vaginally', 0.7140504121780396),\n",
              " ('mother', 0.6866829991340637),\n",
              " ('stillbirth', 0.6513848304748535),\n",
              " ('detectable', 0.6506545543670654),\n",
              " ('conception', 0.6488375067710876),\n",
              " ('cremated', 0.6477338671684265),\n",
              " ('embryonic', 0.6425838470458984),\n",
              " ('emerges', 0.6257671117782593),\n",
              " ('womb', 0.6188725233078003),\n",
              " ('purposeful', 0.6103702187538147)]"
            ]
          },
          "metadata": {},
          "execution_count": 46
        }
      ]
    },
    {
      "cell_type": "code",
      "source": [
        "# determine words most similar to protect\n",
        "congress_w2v_sg.wv.most_similar('baby')"
      ],
      "metadata": {
        "colab": {
          "base_uri": "https://localhost:8080/"
        },
        "id": "u0lOsA3p8lmb",
        "outputId": "9abd65a0-b47a-4269-977c-f17762b700c8"
      },
      "execution_count": null,
      "outputs": [
        {
          "output_type": "execute_result",
          "data": {
            "text/plain": [
              "[('diapers', 0.8069594502449036),\n",
              " ('bedding', 0.7042264938354492),\n",
              " ('bedside', 0.64555823802948),\n",
              " ('perinatal', 0.628898561000824),\n",
              " ('unwed', 0.6275528073310852),\n",
              " ('dressing', 0.6211807131767273),\n",
              " ('aborted', 0.6168179512023926),\n",
              " ('toileting', 0.6103485822677612),\n",
              " ('spontaneously', 0.6032295823097229),\n",
              " ('bathing', 0.5926228761672974)]"
            ]
          },
          "metadata": {},
          "execution_count": 47
        }
      ]
    },
    {
      "cell_type": "code",
      "source": [
        "# determine words most similar to protect\n",
        "congress_w2v_sg.wv.most_similar('viability')"
      ],
      "metadata": {
        "colab": {
          "base_uri": "https://localhost:8080/"
        },
        "id": "L3b3hmAN8lsd",
        "outputId": "575eb4e1-d71d-431b-b2ee-3d75a88d1dbf"
      },
      "execution_count": null,
      "outputs": [
        {
          "output_type": "execute_result",
          "data": {
            "text/plain": [
              "[('probability', 0.5915480256080627),\n",
              " ('endangers', 0.586832582950592),\n",
              " ('obstacle', 0.5640485882759094),\n",
              " ('indispensable', 0.5617852807044983),\n",
              " ('preserve', 0.5431272387504578),\n",
              " ('vitality', 0.5283582806587219),\n",
              " ('avert', 0.5219923853874207),\n",
              " ('feeling', 0.5111409425735474),\n",
              " ('hamper', 0.5099279880523682),\n",
              " ('recapitalize', 0.5093336701393127)]"
            ]
          },
          "metadata": {},
          "execution_count": 48
        }
      ]
    },
    {
      "cell_type": "code",
      "source": [
        "# determine words most similar to protect\n",
        "congress_w2v_sg.wv.most_similar('sexuality')"
      ],
      "metadata": {
        "colab": {
          "base_uri": "https://localhost:8080/"
        },
        "id": "uyCVUgba8lyK",
        "outputId": "13b1ffcb-9466-42fd-d3dc-49f68e78681a"
      },
      "execution_count": null,
      "outputs": [
        {
          "output_type": "execute_result",
          "data": {
            "text/plain": [
              "[('helps', 0.7433207035064697),\n",
              " ('interpersonal', 0.7318593263626099),\n",
              " ('societal', 0.7220229506492615),\n",
              " ('friendships', 0.7151455879211426),\n",
              " ('prosperous', 0.709357738494873),\n",
              " ('multigenerational', 0.7055386304855347),\n",
              " ('attitudes', 0.7050474286079407),\n",
              " ('romantic', 0.6994750499725342),\n",
              " ('gifted', 0.6989432573318481),\n",
              " ('esteem', 0.6987380385398865)]"
            ]
          },
          "metadata": {},
          "execution_count": 49
        }
      ]
    },
    {
      "cell_type": "code",
      "source": [
        "# determine words most similar to protect\n",
        "congress_w2v_sg.wv.most_similar('contraception')"
      ],
      "metadata": {
        "colab": {
          "base_uri": "https://localhost:8080/"
        },
        "id": "3VxoH34f8l3X",
        "outputId": "ae9c020b-e5d4-4b6d-d16e-54e6ba04e604"
      },
      "execution_count": null,
      "outputs": [
        {
          "output_type": "execute_result",
          "data": {
            "text/plain": [
              "[('infertility', 0.6632456183433533),\n",
              " ('stis', 0.6152341961860657),\n",
              " ('stigmatizing', 0.6078155040740967),\n",
              " ('diagnosing', 0.6060353517532349),\n",
              " ('wander', 0.599025547504425),\n",
              " ('stds', 0.598320722579956),\n",
              " ('breast', 0.5977168679237366),\n",
              " ('hpv', 0.5970675945281982),\n",
              " ('contraceptive', 0.5953567624092102),\n",
              " ('screenings', 0.5943633913993835)]"
            ]
          },
          "metadata": {},
          "execution_count": 50
        }
      ]
    },
    {
      "cell_type": "code",
      "source": [
        "congress_w2v_sg.wv.most_similar(positive=['woman', 'man'], negative = ['abortion'])"
      ],
      "metadata": {
        "colab": {
          "base_uri": "https://localhost:8080/"
        },
        "id": "TFL1het_8mAR",
        "outputId": "7341cdcb-e52e-4c5e-b56f-1009daf218e0"
      },
      "execution_count": null,
      "outputs": [
        {
          "output_type": "execute_result",
          "data": {
            "text/plain": [
              "[('protects', 0.4721358120441437),\n",
              " ('dangerously', 0.465878427028656),\n",
              " ('disasters', 0.4598131775856018),\n",
              " ('obstacle', 0.45759284496307373),\n",
              " ('entailing', 0.4568987488746643),\n",
              " ('irreversible', 0.4484129548072815),\n",
              " ('lasted', 0.4370420277118683),\n",
              " ('dearer', 0.4369395971298218),\n",
              " ('immobilized', 0.4349352717399597),\n",
              " ('epidemics', 0.4327009618282318)]"
            ]
          },
          "metadata": {},
          "execution_count": 51
        }
      ]
    },
    {
      "cell_type": "markdown",
      "source": [
        "#### Visualization"
      ],
      "metadata": {
        "id": "i1JtAkB88WiY"
      }
    },
    {
      "cell_type": "code",
      "source": [
        "# select a random list of words\n",
        "num_words = 50\n",
        "indices = random_indices(len(congress_w2v_sg.wv.index_to_key), num_words)\n",
        "target_words = congress_w2v_sg.wv.index_to_key[:num_words]"
      ],
      "metadata": {
        "id": "PuIpQgTZ8VNe"
      },
      "execution_count": null,
      "outputs": []
    },
    {
      "cell_type": "code",
      "source": [
        "# grab the vector representation of the words\n",
        "words_sub_matrix = []\n",
        "for word in target_words:\n",
        "    words_sub_matrix.append(congress_w2v_sg.wv[word])\n",
        "words_sub_matrix = np.array(words_sub_matrix)\n",
        "words_sub_matrix"
      ],
      "metadata": {
        "colab": {
          "base_uri": "https://localhost:8080/"
        },
        "id": "XVtrt6IgKQ1a",
        "outputId": "b192c598-bb6f-484d-bab9-4ec6068bf9f5"
      },
      "execution_count": null,
      "outputs": [
        {
          "output_type": "execute_result",
          "data": {
            "text/plain": [
              "array([[-0.13008487,  0.1596912 , -0.1839475 , ..., -0.30289873,\n",
              "        -0.11976207,  0.15393102],\n",
              "       [ 0.1485658 , -0.22372526, -0.04842062, ...,  0.02680548,\n",
              "        -0.03023891, -0.07719986],\n",
              "       [ 0.04897926, -0.01257137, -0.10158359, ..., -0.08962552,\n",
              "         0.1604937 , -0.2759309 ],\n",
              "       ...,\n",
              "       [-0.43578354,  0.08638599, -0.6280611 , ..., -0.3871141 ,\n",
              "         0.19956301, -0.59020966],\n",
              "       [ 0.00501214, -0.14593211, -0.18606724, ...,  0.10868122,\n",
              "         0.23735586, -0.03120824],\n",
              "       [ 0.05029562, -0.5606099 , -0.5592546 , ..., -0.27103567,\n",
              "        -0.25539064, -0.4635074 ]], dtype=float32)"
            ]
          },
          "metadata": {},
          "execution_count": 53
        }
      ]
    },
    {
      "cell_type": "code",
      "source": [
        "# dimensionality reduction\n",
        "pca_words = sklearn.decomposition.PCA(n_components = 50).fit(words_sub_matrix)\n",
        "reduced_PCA_data = pca_words.transform(words_sub_matrix)\n",
        "#T-SNE is theoretically better, but you should experiment\n",
        "tsne_words = sklearn.manifold.TSNE(n_components = 2).fit_transform(reduced_PCA_data)"
      ],
      "metadata": {
        "id": "WBhhpdLFKTG_"
      },
      "execution_count": null,
      "outputs": []
    },
    {
      "cell_type": "markdown",
      "source": [
        "##### TNSE"
      ],
      "metadata": {
        "id": "IaEp-Xmb8ZGL"
      }
    },
    {
      "cell_type": "code",
      "source": [
        "# plot\n",
        "fig = plt.figure(figsize = (10,6))\n",
        "ax = fig.add_subplot(111)\n",
        "ax.set_frame_on(False)\n",
        "plt.scatter(tsne_words[:, 0], tsne_words[:, 1], alpha = 0) #Making the points invisible\n",
        "for i, word in enumerate(target_words):\n",
        "    ax.annotate(word, (tsne_words[:, 0][i],tsne_words[:, 1][i]), size =  20 * (num_words - i) / num_words)\n",
        "plt.xticks(())\n",
        "plt.yticks(())\n",
        "plt.show()"
      ],
      "metadata": {
        "colab": {
          "base_uri": "https://localhost:8080/",
          "height": 499
        },
        "id": "ujwQy_c5KalW",
        "outputId": "578647e1-4d47-423b-ebac-f5149606ebca"
      },
      "execution_count": null,
      "outputs": [
        {
          "output_type": "display_data",
          "data": {
            "text/plain": [
              "<Figure size 1000x600 with 1 Axes>"
            ],
            "image/png": "[encoded data removed]"
          },
          "metadata": {}
        }
      ]
    },
    {
      "cell_type": "markdown",
      "source": [
        "##### PCA"
      ],
      "metadata": {
        "id": "BFxUjRTA8bBF"
      }
    },
    {
      "cell_type": "code",
      "source": [
        "fig = plt.figure(figsize = (10,6))\n",
        "ax = fig.add_subplot(111)\n",
        "ax.set_frame_on(False)\n",
        "plt.scatter(reduced_PCA_data[:, 0], reduced_PCA_data[:, 1], alpha = 0) #Making the points invisible\n",
        "for i, word in enumerate(target_words):\n",
        "    ax.annotate(word, (reduced_PCA_data[:, 0][i],reduced_PCA_data[:, 1][i]), size =  20 * (num_words - i) / num_words)\n",
        "plt.xticks(())\n",
        "plt.yticks(())\n",
        "plt.show()"
      ],
      "metadata": {
        "colab": {
          "base_uri": "https://localhost:8080/",
          "height": 499
        },
        "id": "hMHXpoPJKaB8",
        "outputId": "7d5cdf2a-04fd-48bd-8b08-c4d2dd2172e2"
      },
      "execution_count": null,
      "outputs": [
        {
          "output_type": "display_data",
          "data": {
            "text/plain": [
              "<Figure size 1000x600 with 1 Axes>"
            ],
            "image/png": "[encoded data removed]"
          },
          "metadata": {}
        }
      ]
    },
    {
      "cell_type": "markdown",
      "source": [
        "### Reflection\n",
        "\n",
        "- according to the CBOW Word2Vec, abortion and sterilization share contexts, which gives insight into some of the ways abortion has been used harmfully (against the person's will), which gives credence to anti-abortion arguments.\n",
        "\n",
        "- in the skip-gram version of word to vector, the word closest to abortion is \"shame,\" showing the rampant stigmatization of the practice.\n",
        "\n",
        "- similarly, words similar to 'privacy', such as 'disclosure' and 'confidentiality' give credence to the medically sensitive nature of abortion and arguments to protect the procedure between willing patients and their doctors.\n",
        "\n",
        "- in the skip-gram word2vec, STIs, STDs, and HPV are all associated with contraception, which could either indicate a negative association between the two (i.e., the pill doesn't protect against these diseases) or a positive association (condoms protect against these diseases).\n",
        "\n",
        "- CBOW visualizations didn't give a lot of insight into the context of my corpus, but that could be due to the chosen words (the first 50 rather than a specific vocabulary)\n",
        "\n",
        "- both versions of word2vec provide interesting insights into how the words in my corpora are organized."
      ],
      "metadata": {
        "id": "Mkn1EFii8c_6"
      }
    },
    {
      "cell_type": "markdown",
      "metadata": {
        "id": "sRcYVk5wWUgb"
      },
      "source": [
        "### <font color=\"blue\">*Exercise 2*</font>\n",
        "\n",
        "<font color=\"blue\">Construct cells immediately below this that embed documents related to your final project using `doc2vec`, and explore the relationship between different documents and the word vectors you analyzed in the last exercise. Consider the most similar words to critical documents, analogies (doc _x_ + word _y_), and other additions and subtractions that reveal the structure of similarity and difference within your semantic space. What does this pattern reveal about the documentary organization of your semantic space?"
      ]
    },
    {
      "cell_type": "markdown",
      "source": [
        "#### Build Doc2Vec Model"
      ],
      "metadata": {
        "id": "hxL0oza7TvSu"
      }
    },
    {
      "cell_type": "code",
      "source": [
        "congress_df_normwords = pd.read_csv(outpath + 'congress_legislation_tokenized.csv')"
      ],
      "metadata": {
        "id": "Dm32MbXfUSuq"
      },
      "execution_count": null,
      "outputs": []
    },
    {
      "cell_type": "code",
      "source": [
        "congress_df_normwords['tokenized_text'] = congress_df_normwords['tokenized_text'].apply(lambda x: ast.literal_eval(x))\n",
        "congress_df_normwords['normalized_tokens'] = congress_df_normwords['normalized_tokens'].apply(lambda x: ast.literal_eval(x))\n",
        "congress_df_normwords['reduced_tokens'] = congress_df_normwords['reduced_tokens'].apply(lambda x: ast.literal_eval(x))"
      ],
      "metadata": {
        "id": "ystpqaRKfl2q"
      },
      "execution_count": null,
      "outputs": []
    },
    {
      "cell_type": "code",
      "source": [
        "congress_df_normwords = congress_df_normwords.loc[:, ['congress_num', 'legislation number', 'title', 'cleaned_summary', 'cleaned_text', 'tokenized_text', 'normalized_tokens', 'reduced_tokens']]\n",
        "congress_df_normwords.head()"
      ],
      "metadata": {
        "colab": {
          "base_uri": "https://localhost:8080/",
          "height": 345
        },
        "id": "4iq7R-vrUwIK",
        "outputId": "db804aa0-b142-4c46-c7e2-e9ab6030d424"
      },
      "execution_count": null,
      "outputs": [
        {
          "output_type": "execute_result",
          "data": {
            "text/plain": [
              "   congress_num legislation number  \\\n",
              "0           118          H.R. 2907   \n",
              "1           118            S. 1297   \n",
              "2           118          H.R. 4901   \n",
              "3           118            S. 2544   \n",
              "4           118          H.R. 4147   \n",
              "\n",
              "                                              title  \\\n",
              "0  Let Doctors Provide Reproductive Health Care Act   \n",
              "1  Let Doctors Provide Reproductive Health Care Act   \n",
              "2        Reproductive Health Care Accessibility Act   \n",
              "3        Reproductive Health Care Accessibility Act   \n",
              "4     Reproductive Health Care Training Act of 2023   \n",
              "\n",
              "                                     cleaned_summary  \\\n",
              "0  Let Doctors Provide Reproductive Health Care A...   \n",
              "1  Let Doctors Provide Reproductive Health Care A...   \n",
              "2  Reproductive Health Care Accessibility Act Thi...   \n",
              "3  Reproductive Health Care Accessibility Act Thi...   \n",
              "4                                                NaN   \n",
              "\n",
              "                                        cleaned_text  \\\n",
              "0  Congressional Bills 118th Congress From the U....   \n",
              "1  Congressional Bills 118th Congress From the U....   \n",
              "2  Congressional Bills 118th Congress From the U....   \n",
              "3  Congressional Bills 118th Congress From the U....   \n",
              "4  Congressional Bills 118th Congress From the U....   \n",
              "\n",
              "                                      tokenized_text  \\\n",
              "0  [unit, Health, this, reproductive, competent, ...   \n",
              "1  [unit, Health, this, reproductive, competent, ...   \n",
              "2  [Health, this, best, date, reproductive, compe...   \n",
              "3  [Health, this, best, date, reproductive, compe...   \n",
              "4  [Health, this, clinicians, reproductive, medic...   \n",
              "\n",
              "                                   normalized_tokens  \\\n",
              "0  [unit, competent, reproductive, energy, medica...   \n",
              "1  [unit, competent, reproductive, medically, con...   \n",
              "2  [best, date, reproductive, competent, florida,...   \n",
              "3  [best, date, reproductive, competent, energy, ...   \n",
              "4  [fletcher, end, participants, clinicians, trai...   \n",
              "\n",
              "                                      reduced_tokens  \n",
              "0  [unit, reproductive, energy, contract, ensure,...  \n",
              "1  [unit, reproductive, contract, ensure, facilit...  \n",
              "2  [reproductive, energy, contract, progress, ens...  \n",
              "3  [reproductive, energy, contract, progress, ens...  \n",
              "4  [participants, reproductive, energy, amounts, ...  "
            ],
            "text/html": [
              "\n",
              "  <div id=\"df-5e267f02-1965-4c74-905e-042dc00d26a0\" class=\"colab-df-container\">\n",
              "    <div>\n",
              "<style scoped>\n",
              "    .dataframe tbody tr th:only-of-type {\n",
              "        vertical-align: middle;\n",
              "    }\n",
              "\n",
              "    .dataframe tbody tr th {\n",
              "        vertical-align: top;\n",
              "    }\n",
              "\n",
              "    .dataframe thead th {\n",
              "        text-align: right;\n",
              "    }\n",
              "</style>\n",
              "<table border=\"1\" class=\"dataframe\">\n",
              "  <thead>\n",
              "    <tr style=\"text-align: right;\">\n",
              "      <th></th>\n",
              "      <th>congress_num</th>\n",
              "      <th>legislation number</th>\n",
              "      <th>title</th>\n",
              "      <th>cleaned_summary</th>\n",
              "      <th>cleaned_text</th>\n",
              "      <th>tokenized_text</th>\n",
              "      <th>normalized_tokens</th>\n",
              "      <th>reduced_tokens</th>\n",
              "    </tr>\n",
              "  </thead>\n",
              "  <tbody>\n",
              "    <tr>\n",
              "      <th>0</th>\n",
              "      <td>118</td>\n",
              "      <td>H.R. 2907</td>\n",
              "      <td>Let Doctors Provide Reproductive Health Care Act</td>\n",
              "      <td>Let Doctors Provide Reproductive Health Care A...</td>\n",
              "      <td>Congressional Bills 118th Congress From the U....</td>\n",
              "      <td>[unit, Health, this, reproductive, competent, ...</td>\n",
              "      <td>[unit, competent, reproductive, energy, medica...</td>\n",
              "      <td>[unit, reproductive, energy, contract, ensure,...</td>\n",
              "    </tr>\n",
              "    <tr>\n",
              "      <th>1</th>\n",
              "      <td>118</td>\n",
              "      <td>S. 1297</td>\n",
              "      <td>Let Doctors Provide Reproductive Health Care Act</td>\n",
              "      <td>Let Doctors Provide Reproductive Health Care A...</td>\n",
              "      <td>Congressional Bills 118th Congress From the U....</td>\n",
              "      <td>[unit, Health, this, reproductive, competent, ...</td>\n",
              "      <td>[unit, competent, reproductive, medically, con...</td>\n",
              "      <td>[unit, reproductive, contract, ensure, facilit...</td>\n",
              "    </tr>\n",
              "    <tr>\n",
              "      <th>2</th>\n",
              "      <td>118</td>\n",
              "      <td>H.R. 4901</td>\n",
              "      <td>Reproductive Health Care Accessibility Act</td>\n",
              "      <td>Reproductive Health Care Accessibility Act Thi...</td>\n",
              "      <td>Congressional Bills 118th Congress From the U....</td>\n",
              "      <td>[Health, this, best, date, reproductive, compe...</td>\n",
              "      <td>[best, date, reproductive, competent, florida,...</td>\n",
              "      <td>[reproductive, energy, contract, progress, ens...</td>\n",
              "    </tr>\n",
              "    <tr>\n",
              "      <th>3</th>\n",
              "      <td>118</td>\n",
              "      <td>S. 2544</td>\n",
              "      <td>Reproductive Health Care Accessibility Act</td>\n",
              "      <td>Reproductive Health Care Accessibility Act Thi...</td>\n",
              "      <td>Congressional Bills 118th Congress From the U....</td>\n",
              "      <td>[Health, this, best, date, reproductive, compe...</td>\n",
              "      <td>[best, date, reproductive, competent, energy, ...</td>\n",
              "      <td>[reproductive, energy, contract, progress, ens...</td>\n",
              "    </tr>\n",
              "    <tr>\n",
              "      <th>4</th>\n",
              "      <td>118</td>\n",
              "      <td>H.R. 4147</td>\n",
              "      <td>Reproductive Health Care Training Act of 2023</td>\n",
              "      <td>NaN</td>\n",
              "      <td>Congressional Bills 118th Congress From the U....</td>\n",
              "      <td>[Health, this, clinicians, reproductive, medic...</td>\n",
              "      <td>[fletcher, end, participants, clinicians, trai...</td>\n",
              "      <td>[participants, reproductive, energy, amounts, ...</td>\n",
              "    </tr>\n",
              "  </tbody>\n",
              "</table>\n",
              "</div>\n",
              "    <div class=\"colab-df-buttons\">\n",
              "\n",
              "  <div class=\"colab-df-container\">\n",
              "    <button class=\"colab-df-convert\" onclick=\"convertToInteractive('df-5e267f02-1965-4c74-905e-042dc00d26a0')\"\n",
              "            title=\"Convert this dataframe to an interactive table.\"\n",
              "            style=\"display:none;\">\n",
              "\n",
              "  <svg xmlns=\"http://www.w3.org/2000/svg\" height=\"24px\" viewBox=\"0 -960 960 960\">\n",
              "    <path d=\"M120-120v-720h720v720H120Zm60-500h600v-160H180v160Zm220 220h160v-160H400v160Zm0 220h160v-160H400v160ZM180-400h160v-160H180v160Zm440 0h160v-160H620v160ZM180-180h160v-160H180v160Zm440 0h160v-160H620v160Z\"/>\n",
              "  </svg>\n",
              "    </button>\n",
              "\n",
              "  <style>\n",
              "    .colab-df-container {\n",
              "      display:flex;\n",
              "      gap: 12px;\n",
              "    }\n",
              "\n",
              "    .colab-df-convert {\n",
              "      background-color: #E8F0FE;\n",
              "      border: none;\n",
              "      border-radius: 50%;\n",
              "      cursor: pointer;\n",
              "      display: none;\n",
              "      fill: #1967D2;\n",
              "      height: 32px;\n",
              "      padding: 0 0 0 0;\n",
              "      width: 32px;\n",
              "    }\n",
              "\n",
              "    .colab-df-convert:hover {\n",
              "      background-color: #E2EBFA;\n",
              "      box-shadow: 0px 1px 2px rgba(60, 64, 67, 0.3), 0px 1px 3px 1px rgba(60, 64, 67, 0.15);\n",
              "      fill: #174EA6;\n",
              "    }\n",
              "\n",
              "    .colab-df-buttons div {\n",
              "      margin-bottom: 4px;\n",
              "    }\n",
              "\n",
              "    [theme=dark] .colab-df-convert {\n",
              "      background-color: #3B4455;\n",
              "      fill: #D2E3FC;\n",
              "    }\n",
              "\n",
              "    [theme=dark] .colab-df-convert:hover {\n",
              "      background-color: #434B5C;\n",
              "      box-shadow: 0px 1px 3px 1px rgba(0, 0, 0, 0.15);\n",
              "      filter: drop-shadow(0px 1px 2px rgba(0, 0, 0, 0.3));\n",
              "      fill: #FFFFFF;\n",
              "    }\n",
              "  </style>\n",
              "\n",
              "    <script>\n",
              "      const buttonEl =\n",
              "        document.querySelector('#df-5e267f02-1965-4c74-905e-042dc00d26a0 button.colab-df-convert');\n",
              "      buttonEl.style.display =\n",
              "        google.colab.kernel.accessAllowed ? 'block' : 'none';\n",
              "\n",
              "      async function convertToInteractive(key) {\n",
              "        const element = document.querySelector('#df-5e267f02-1965-4c74-905e-042dc00d26a0');\n",
              "        const dataTable =\n",
              "          await google.colab.kernel.invokeFunction('convertToInteractive',\n",
              "                                                    [key], {});\n",
              "        if (!dataTable) return;\n",
              "\n",
              "        const docLinkHtml = 'Like what you see? Visit the ' +\n",
              "          '<a target=\"_blank\" href=https://colab.research.google.com/notebooks/data_table.ipynb>data table notebook</a>'\n",
              "          + ' to learn more about interactive tables.';\n",
              "        element.innerHTML = '';\n",
              "        dataTable['output_type'] = 'display_data';\n",
              "        await google.colab.output.renderOutput(dataTable, element);\n",
              "        const docLink = document.createElement('div');\n",
              "        docLink.innerHTML = docLinkHtml;\n",
              "        element.appendChild(docLink);\n",
              "      }\n",
              "    </script>\n",
              "  </div>\n",
              "\n",
              "\n",
              "<div id=\"df-1b591b07-cd8f-4088-94b1-00fe7eacf7e4\">\n",
              "  <button class=\"colab-df-quickchart\" onclick=\"quickchart('df-1b591b07-cd8f-4088-94b1-00fe7eacf7e4')\"\n",
              "            title=\"Suggest charts\"\n",
              "            style=\"display:none;\">\n",
              "\n",
              "<svg xmlns=\"http://www.w3.org/2000/svg\" height=\"24px\"viewBox=\"0 0 24 24\"\n",
              "     width=\"24px\">\n",
              "    <g>\n",
              "        <path d=\"M19 3H5c-1.1 0-2 .9-2 2v14c0 1.1.9 2 2 2h14c1.1 0 2-.9 2-2V5c0-1.1-.9-2-2-2zM9 17H7v-7h2v7zm4 0h-2V7h2v10zm4 0h-2v-4h2v4z\"/>\n",
              "    </g>\n",
              "</svg>\n",
              "  </button>\n",
              "\n",
              "<style>\n",
              "  .colab-df-quickchart {\n",
              "      --bg-color: #E8F0FE;\n",
              "      --fill-color: #1967D2;\n",
              "      --hover-bg-color: #E2EBFA;\n",
              "      --hover-fill-color: #174EA6;\n",
              "      --disabled-fill-color: #AAA;\n",
              "      --disabled-bg-color: #DDD;\n",
              "  }\n",
              "\n",
              "  [theme=dark] .colab-df-quickchart {\n",
              "      --bg-color: #3B4455;\n",
              "      --fill-color: #D2E3FC;\n",
              "      --hover-bg-color: #434B5C;\n",
              "      --hover-fill-color: #FFFFFF;\n",
              "      --disabled-bg-color: #3B4455;\n",
              "      --disabled-fill-color: #666;\n",
              "  }\n",
              "\n",
              "  .colab-df-quickchart {\n",
              "    background-color: var(--bg-color);\n",
              "    border: none;\n",
              "    border-radius: 50%;\n",
              "    cursor: pointer;\n",
              "    display: none;\n",
              "    fill: var(--fill-color);\n",
              "    height: 32px;\n",
              "    padding: 0;\n",
              "    width: 32px;\n",
              "  }\n",
              "\n",
              "  .colab-df-quickchart:hover {\n",
              "    background-color: var(--hover-bg-color);\n",
              "    box-shadow: 0 1px 2px rgba(60, 64, 67, 0.3), 0 1px 3px 1px rgba(60, 64, 67, 0.15);\n",
              "    fill: var(--button-hover-fill-color);\n",
              "  }\n",
              "\n",
              "  .colab-df-quickchart-complete:disabled,\n",
              "  .colab-df-quickchart-complete:disabled:hover {\n",
              "    background-color: var(--disabled-bg-color);\n",
              "    fill: var(--disabled-fill-color);\n",
              "    box-shadow: none;\n",
              "  }\n",
              "\n",
              "  .colab-df-spinner {\n",
              "    border: 2px solid var(--fill-color);\n",
              "    border-color: transparent;\n",
              "    border-bottom-color: var(--fill-color);\n",
              "    animation:\n",
              "      spin 1s steps(1) infinite;\n",
              "  }\n",
              "\n",
              "  @keyframes spin {\n",
              "    0% {\n",
              "      border-color: transparent;\n",
              "      border-bottom-color: var(--fill-color);\n",
              "      border-left-color: var(--fill-color);\n",
              "    }\n",
              "    20% {\n",
              "      border-color: transparent;\n",
              "      border-left-color: var(--fill-color);\n",
              "      border-top-color: var(--fill-color);\n",
              "    }\n",
              "    30% {\n",
              "      border-color: transparent;\n",
              "      border-left-color: var(--fill-color);\n",
              "      border-top-color: var(--fill-color);\n",
              "      border-right-color: var(--fill-color);\n",
              "    }\n",
              "    40% {\n",
              "      border-color: transparent;\n",
              "      border-right-color: var(--fill-color);\n",
              "      border-top-color: var(--fill-color);\n",
              "    }\n",
              "    60% {\n",
              "      border-color: transparent;\n",
              "      border-right-color: var(--fill-color);\n",
              "    }\n",
              "    80% {\n",
              "      border-color: transparent;\n",
              "      border-right-color: var(--fill-color);\n",
              "      border-bottom-color: var(--fill-color);\n",
              "    }\n",
              "    90% {\n",
              "      border-color: transparent;\n",
              "      border-bottom-color: var(--fill-color);\n",
              "    }\n",
              "  }\n",
              "</style>\n",
              "\n",
              "  <script>\n",
              "    async function quickchart(key) {\n",
              "      const quickchartButtonEl =\n",
              "        document.querySelector('#' + key + ' button');\n",
              "      quickchartButtonEl.disabled = true;  // To prevent multiple clicks.\n",
              "      quickchartButtonEl.classList.add('colab-df-spinner');\n",
              "      try {\n",
              "        const charts = await google.colab.kernel.invokeFunction(\n",
              "            'suggestCharts', [key], {});\n",
              "      } catch (error) {\n",
              "        console.error('Error during call to suggestCharts:', error);\n",
              "      }\n",
              "      quickchartButtonEl.classList.remove('colab-df-spinner');\n",
              "      quickchartButtonEl.classList.add('colab-df-quickchart-complete');\n",
              "    }\n",
              "    (() => {\n",
              "      let quickchartButtonEl =\n",
              "        document.querySelector('#df-1b591b07-cd8f-4088-94b1-00fe7eacf7e4 button');\n",
              "      quickchartButtonEl.style.display =\n",
              "        google.colab.kernel.accessAllowed ? 'block' : 'none';\n",
              "    })();\n",
              "  </script>\n",
              "</div>\n",
              "    </div>\n",
              "  </div>\n"
            ]
          },
          "metadata": {},
          "execution_count": 23
        }
      ]
    },
    {
      "cell_type": "code",
      "source": [
        "taggedDocs = []\n",
        "for index, row in congress_df_normwords.iterrows():\n",
        "    #Just doing a simple keyword assignment\n",
        "    docKeywords = [row['legislation number'], row['title']]\n",
        "    taggedDocs.append(gensim.models.doc2vec.TaggedDocument(words = row['normalized_tokens'], tags = docKeywords))\n",
        "congress_df_normwords['tagged_legislation'] = taggedDocs"
      ],
      "metadata": {
        "id": "u2vkBwx7UFHU"
      },
      "execution_count": null,
      "outputs": []
    },
    {
      "cell_type": "code",
      "execution_count": null,
      "metadata": {
        "id": "hwYcrtQ5WUgb",
        "colab": {
          "base_uri": "https://localhost:8080/",
          "height": 397
        },
        "outputId": "33312894-b751-4151-e9cb-914ed05fe9b9"
      },
      "outputs": [
        {
          "output_type": "execute_result",
          "data": {
            "text/plain": [
              "   congress_num legislation number  \\\n",
              "0           118          H.R. 2907   \n",
              "1           118            S. 1297   \n",
              "2           118          H.R. 4901   \n",
              "3           118            S. 2544   \n",
              "4           118          H.R. 4147   \n",
              "\n",
              "                                              title  \\\n",
              "0  Let Doctors Provide Reproductive Health Care Act   \n",
              "1  Let Doctors Provide Reproductive Health Care Act   \n",
              "2        Reproductive Health Care Accessibility Act   \n",
              "3        Reproductive Health Care Accessibility Act   \n",
              "4     Reproductive Health Care Training Act of 2023   \n",
              "\n",
              "                                     cleaned_summary  \\\n",
              "0  Let Doctors Provide Reproductive Health Care A...   \n",
              "1  Let Doctors Provide Reproductive Health Care A...   \n",
              "2  Reproductive Health Care Accessibility Act Thi...   \n",
              "3  Reproductive Health Care Accessibility Act Thi...   \n",
              "4                                                NaN   \n",
              "\n",
              "                                        cleaned_text  \\\n",
              "0  Congressional Bills 118th Congress From the U....   \n",
              "1  Congressional Bills 118th Congress From the U....   \n",
              "2  Congressional Bills 118th Congress From the U....   \n",
              "3  Congressional Bills 118th Congress From the U....   \n",
              "4  Congressional Bills 118th Congress From the U....   \n",
              "\n",
              "                                      tokenized_text  \\\n",
              "0  [unit, Health, this, reproductive, competent, ...   \n",
              "1  [unit, Health, this, reproductive, competent, ...   \n",
              "2  [Health, this, best, date, reproductive, compe...   \n",
              "3  [Health, this, best, date, reproductive, compe...   \n",
              "4  [Health, this, clinicians, reproductive, medic...   \n",
              "\n",
              "                                   normalized_tokens  \\\n",
              "0  [unit, competent, reproductive, energy, medica...   \n",
              "1  [unit, competent, reproductive, medically, con...   \n",
              "2  [best, date, reproductive, competent, florida,...   \n",
              "3  [best, date, reproductive, competent, energy, ...   \n",
              "4  [fletcher, end, participants, clinicians, trai...   \n",
              "\n",
              "                                      reduced_tokens  \\\n",
              "0  [unit, reproductive, energy, contract, ensure,...   \n",
              "1  [unit, reproductive, contract, ensure, facilit...   \n",
              "2  [reproductive, energy, contract, progress, ens...   \n",
              "3  [reproductive, energy, contract, progress, ens...   \n",
              "4  [participants, reproductive, energy, amounts, ...   \n",
              "\n",
              "                                  tagged_legislation  \n",
              "0  ([unit, competent, reproductive, energy, medic...  \n",
              "1  ([unit, competent, reproductive, medically, co...  \n",
              "2  ([best, date, reproductive, competent, florida...  \n",
              "3  ([best, date, reproductive, competent, energy,...  \n",
              "4  ([fletcher, end, participants, clinicians, tra...  "
            ],
            "text/html": [
              "\n",
              "  <div id=\"df-9c09912b-39a1-4d7f-9d47-c424f11d4c05\" class=\"colab-df-container\">\n",
              "    <div>\n",
              "<style scoped>\n",
              "    .dataframe tbody tr th:only-of-type {\n",
              "        vertical-align: middle;\n",
              "    }\n",
              "\n",
              "    .dataframe tbody tr th {\n",
              "        vertical-align: top;\n",
              "    }\n",
              "\n",
              "    .dataframe thead th {\n",
              "        text-align: right;\n",
              "    }\n",
              "</style>\n",
              "<table border=\"1\" class=\"dataframe\">\n",
              "  <thead>\n",
              "    <tr style=\"text-align: right;\">\n",
              "      <th></th>\n",
              "      <th>congress_num</th>\n",
              "      <th>legislation number</th>\n",
              "      <th>title</th>\n",
              "      <th>cleaned_summary</th>\n",
              "      <th>cleaned_text</th>\n",
              "      <th>tokenized_text</th>\n",
              "      <th>normalized_tokens</th>\n",
              "      <th>reduced_tokens</th>\n",
              "      <th>tagged_legislation</th>\n",
              "    </tr>\n",
              "  </thead>\n",
              "  <tbody>\n",
              "    <tr>\n",
              "      <th>0</th>\n",
              "      <td>118</td>\n",
              "      <td>H.R. 2907</td>\n",
              "      <td>Let Doctors Provide Reproductive Health Care Act</td>\n",
              "      <td>Let Doctors Provide Reproductive Health Care A...</td>\n",
              "      <td>Congressional Bills 118th Congress From the U....</td>\n",
              "      <td>[unit, Health, this, reproductive, competent, ...</td>\n",
              "      <td>[unit, competent, reproductive, energy, medica...</td>\n",
              "      <td>[unit, reproductive, energy, contract, ensure,...</td>\n",
              "      <td>([unit, competent, reproductive, energy, medic...</td>\n",
              "    </tr>\n",
              "    <tr>\n",
              "      <th>1</th>\n",
              "      <td>118</td>\n",
              "      <td>S. 1297</td>\n",
              "      <td>Let Doctors Provide Reproductive Health Care Act</td>\n",
              "      <td>Let Doctors Provide Reproductive Health Care A...</td>\n",
              "      <td>Congressional Bills 118th Congress From the U....</td>\n",
              "      <td>[unit, Health, this, reproductive, competent, ...</td>\n",
              "      <td>[unit, competent, reproductive, medically, con...</td>\n",
              "      <td>[unit, reproductive, contract, ensure, facilit...</td>\n",
              "      <td>([unit, competent, reproductive, medically, co...</td>\n",
              "    </tr>\n",
              "    <tr>\n",
              "      <th>2</th>\n",
              "      <td>118</td>\n",
              "      <td>H.R. 4901</td>\n",
              "      <td>Reproductive Health Care Accessibility Act</td>\n",
              "      <td>Reproductive Health Care Accessibility Act Thi...</td>\n",
              "      <td>Congressional Bills 118th Congress From the U....</td>\n",
              "      <td>[Health, this, best, date, reproductive, compe...</td>\n",
              "      <td>[best, date, reproductive, competent, florida,...</td>\n",
              "      <td>[reproductive, energy, contract, progress, ens...</td>\n",
              "      <td>([best, date, reproductive, competent, florida...</td>\n",
              "    </tr>\n",
              "    <tr>\n",
              "      <th>3</th>\n",
              "      <td>118</td>\n",
              "      <td>S. 2544</td>\n",
              "      <td>Reproductive Health Care Accessibility Act</td>\n",
              "      <td>Reproductive Health Care Accessibility Act Thi...</td>\n",
              "      <td>Congressional Bills 118th Congress From the U....</td>\n",
              "      <td>[Health, this, best, date, reproductive, compe...</td>\n",
              "      <td>[best, date, reproductive, competent, energy, ...</td>\n",
              "      <td>[reproductive, energy, contract, progress, ens...</td>\n",
              "      <td>([best, date, reproductive, competent, energy,...</td>\n",
              "    </tr>\n",
              "    <tr>\n",
              "      <th>4</th>\n",
              "      <td>118</td>\n",
              "      <td>H.R. 4147</td>\n",
              "      <td>Reproductive Health Care Training Act of 2023</td>\n",
              "      <td>NaN</td>\n",
              "      <td>Congressional Bills 118th Congress From the U....</td>\n",
              "      <td>[Health, this, clinicians, reproductive, medic...</td>\n",
              "      <td>[fletcher, end, participants, clinicians, trai...</td>\n",
              "      <td>[participants, reproductive, energy, amounts, ...</td>\n",
              "      <td>([fletcher, end, participants, clinicians, tra...</td>\n",
              "    </tr>\n",
              "  </tbody>\n",
              "</table>\n",
              "</div>\n",
              "    <div class=\"colab-df-buttons\">\n",
              "\n",
              "  <div class=\"colab-df-container\">\n",
              "    <button class=\"colab-df-convert\" onclick=\"convertToInteractive('df-9c09912b-39a1-4d7f-9d47-c424f11d4c05')\"\n",
              "            title=\"Convert this dataframe to an interactive table.\"\n",
              "            style=\"display:none;\">\n",
              "\n",
              "  <svg xmlns=\"http://www.w3.org/2000/svg\" height=\"24px\" viewBox=\"0 -960 960 960\">\n",
              "    <path d=\"M120-120v-720h720v720H120Zm60-500h600v-160H180v160Zm220 220h160v-160H400v160Zm0 220h160v-160H400v160ZM180-400h160v-160H180v160Zm440 0h160v-160H620v160ZM180-180h160v-160H180v160Zm440 0h160v-160H620v160Z\"/>\n",
              "  </svg>\n",
              "    </button>\n",
              "\n",
              "  <style>\n",
              "    .colab-df-container {\n",
              "      display:flex;\n",
              "      gap: 12px;\n",
              "    }\n",
              "\n",
              "    .colab-df-convert {\n",
              "      background-color: #E8F0FE;\n",
              "      border: none;\n",
              "      border-radius: 50%;\n",
              "      cursor: pointer;\n",
              "      display: none;\n",
              "      fill: #1967D2;\n",
              "      height: 32px;\n",
              "      padding: 0 0 0 0;\n",
              "      width: 32px;\n",
              "    }\n",
              "\n",
              "    .colab-df-convert:hover {\n",
              "      background-color: #E2EBFA;\n",
              "      box-shadow: 0px 1px 2px rgba(60, 64, 67, 0.3), 0px 1px 3px 1px rgba(60, 64, 67, 0.15);\n",
              "      fill: #174EA6;\n",
              "    }\n",
              "\n",
              "    .colab-df-buttons div {\n",
              "      margin-bottom: 4px;\n",
              "    }\n",
              "\n",
              "    [theme=dark] .colab-df-convert {\n",
              "      background-color: #3B4455;\n",
              "      fill: #D2E3FC;\n",
              "    }\n",
              "\n",
              "    [theme=dark] .colab-df-convert:hover {\n",
              "      background-color: #434B5C;\n",
              "      box-shadow: 0px 1px 3px 1px rgba(0, 0, 0, 0.15);\n",
              "      filter: drop-shadow(0px 1px 2px rgba(0, 0, 0, 0.3));\n",
              "      fill: #FFFFFF;\n",
              "    }\n",
              "  </style>\n",
              "\n",
              "    <script>\n",
              "      const buttonEl =\n",
              "        document.querySelector('#df-9c09912b-39a1-4d7f-9d47-c424f11d4c05 button.colab-df-convert');\n",
              "      buttonEl.style.display =\n",
              "        google.colab.kernel.accessAllowed ? 'block' : 'none';\n",
              "\n",
              "      async function convertToInteractive(key) {\n",
              "        const element = document.querySelector('#df-9c09912b-39a1-4d7f-9d47-c424f11d4c05');\n",
              "        const dataTable =\n",
              "          await google.colab.kernel.invokeFunction('convertToInteractive',\n",
              "                                                    [key], {});\n",
              "        if (!dataTable) return;\n",
              "\n",
              "        const docLinkHtml = 'Like what you see? Visit the ' +\n",
              "          '<a target=\"_blank\" href=https://colab.research.google.com/notebooks/data_table.ipynb>data table notebook</a>'\n",
              "          + ' to learn more about interactive tables.';\n",
              "        element.innerHTML = '';\n",
              "        dataTable['output_type'] = 'display_data';\n",
              "        await google.colab.output.renderOutput(dataTable, element);\n",
              "        const docLink = document.createElement('div');\n",
              "        docLink.innerHTML = docLinkHtml;\n",
              "        element.appendChild(docLink);\n",
              "      }\n",
              "    </script>\n",
              "  </div>\n",
              "\n",
              "\n",
              "<div id=\"df-51433a2d-be04-4916-9d84-fb453b999d68\">\n",
              "  <button class=\"colab-df-quickchart\" onclick=\"quickchart('df-51433a2d-be04-4916-9d84-fb453b999d68')\"\n",
              "            title=\"Suggest charts\"\n",
              "            style=\"display:none;\">\n",
              "\n",
              "<svg xmlns=\"http://www.w3.org/2000/svg\" height=\"24px\"viewBox=\"0 0 24 24\"\n",
              "     width=\"24px\">\n",
              "    <g>\n",
              "        <path d=\"M19 3H5c-1.1 0-2 .9-2 2v14c0 1.1.9 2 2 2h14c1.1 0 2-.9 2-2V5c0-1.1-.9-2-2-2zM9 17H7v-7h2v7zm4 0h-2V7h2v10zm4 0h-2v-4h2v4z\"/>\n",
              "    </g>\n",
              "</svg>\n",
              "  </button>\n",
              "\n",
              "<style>\n",
              "  .colab-df-quickchart {\n",
              "      --bg-color: #E8F0FE;\n",
              "      --fill-color: #1967D2;\n",
              "      --hover-bg-color: #E2EBFA;\n",
              "      --hover-fill-color: #174EA6;\n",
              "      --disabled-fill-color: #AAA;\n",
              "      --disabled-bg-color: #DDD;\n",
              "  }\n",
              "\n",
              "  [theme=dark] .colab-df-quickchart {\n",
              "      --bg-color: #3B4455;\n",
              "      --fill-color: #D2E3FC;\n",
              "      --hover-bg-color: #434B5C;\n",
              "      --hover-fill-color: #FFFFFF;\n",
              "      --disabled-bg-color: #3B4455;\n",
              "      --disabled-fill-color: #666;\n",
              "  }\n",
              "\n",
              "  .colab-df-quickchart {\n",
              "    background-color: var(--bg-color);\n",
              "    border: none;\n",
              "    border-radius: 50%;\n",
              "    cursor: pointer;\n",
              "    display: none;\n",
              "    fill: var(--fill-color);\n",
              "    height: 32px;\n",
              "    padding: 0;\n",
              "    width: 32px;\n",
              "  }\n",
              "\n",
              "  .colab-df-quickchart:hover {\n",
              "    background-color: var(--hover-bg-color);\n",
              "    box-shadow: 0 1px 2px rgba(60, 64, 67, 0.3), 0 1px 3px 1px rgba(60, 64, 67, 0.15);\n",
              "    fill: var(--button-hover-fill-color);\n",
              "  }\n",
              "\n",
              "  .colab-df-quickchart-complete:disabled,\n",
              "  .colab-df-quickchart-complete:disabled:hover {\n",
              "    background-color: var(--disabled-bg-color);\n",
              "    fill: var(--disabled-fill-color);\n",
              "    box-shadow: none;\n",
              "  }\n",
              "\n",
              "  .colab-df-spinner {\n",
              "    border: 2px solid var(--fill-color);\n",
              "    border-color: transparent;\n",
              "    border-bottom-color: var(--fill-color);\n",
              "    animation:\n",
              "      spin 1s steps(1) infinite;\n",
              "  }\n",
              "\n",
              "  @keyframes spin {\n",
              "    0% {\n",
              "      border-color: transparent;\n",
              "      border-bottom-color: var(--fill-color);\n",
              "      border-left-color: var(--fill-color);\n",
              "    }\n",
              "    20% {\n",
              "      border-color: transparent;\n",
              "      border-left-color: var(--fill-color);\n",
              "      border-top-color: var(--fill-color);\n",
              "    }\n",
              "    30% {\n",
              "      border-color: transparent;\n",
              "      border-left-color: var(--fill-color);\n",
              "      border-top-color: var(--fill-color);\n",
              "      border-right-color: var(--fill-color);\n",
              "    }\n",
              "    40% {\n",
              "      border-color: transparent;\n",
              "      border-right-color: var(--fill-color);\n",
              "      border-top-color: var(--fill-color);\n",
              "    }\n",
              "    60% {\n",
              "      border-color: transparent;\n",
              "      border-right-color: var(--fill-color);\n",
              "    }\n",
              "    80% {\n",
              "      border-color: transparent;\n",
              "      border-right-color: var(--fill-color);\n",
              "      border-bottom-color: var(--fill-color);\n",
              "    }\n",
              "    90% {\n",
              "      border-color: transparent;\n",
              "      border-bottom-color: var(--fill-color);\n",
              "    }\n",
              "  }\n",
              "</style>\n",
              "\n",
              "  <script>\n",
              "    async function quickchart(key) {\n",
              "      const quickchartButtonEl =\n",
              "        document.querySelector('#' + key + ' button');\n",
              "      quickchartButtonEl.disabled = true;  // To prevent multiple clicks.\n",
              "      quickchartButtonEl.classList.add('colab-df-spinner');\n",
              "      try {\n",
              "        const charts = await google.colab.kernel.invokeFunction(\n",
              "            'suggestCharts', [key], {});\n",
              "      } catch (error) {\n",
              "        console.error('Error during call to suggestCharts:', error);\n",
              "      }\n",
              "      quickchartButtonEl.classList.remove('colab-df-spinner');\n",
              "      quickchartButtonEl.classList.add('colab-df-quickchart-complete');\n",
              "    }\n",
              "    (() => {\n",
              "      let quickchartButtonEl =\n",
              "        document.querySelector('#df-51433a2d-be04-4916-9d84-fb453b999d68 button');\n",
              "      quickchartButtonEl.style.display =\n",
              "        google.colab.kernel.accessAllowed ? 'block' : 'none';\n",
              "    })();\n",
              "  </script>\n",
              "</div>\n",
              "    </div>\n",
              "  </div>\n"
            ]
          },
          "metadata": {},
          "execution_count": 25
        }
      ],
      "source": [
        "congress_df_normwords.head()"
      ]
    },
    {
      "cell_type": "code",
      "source": [
        "congress_d2v = gensim.models.doc2vec.Doc2Vec(documents=congress_df_normwords['tagged_legislation'], vector_size = 100) #Limiting to 100 dimensions\n"
      ],
      "metadata": {
        "colab": {
          "base_uri": "https://localhost:8080/"
        },
        "id": "zxM38ngoVTWT",
        "outputId": "16206b68-6848-45b9-a84d-76b6a7a22d28"
      },
      "execution_count": null,
      "outputs": [
        {
          "output_type": "stream",
          "name": "stderr",
          "text": [
            "WARNING:gensim.models.doc2vec:More unique tags (1976) than documents (1243).\n"
          ]
        }
      ]
    },
    {
      "cell_type": "code",
      "execution_count": null,
      "metadata": {
        "id": "Avt1KRuBWUgb"
      },
      "outputs": [],
      "source": [
        "# saving the model\n",
        "congress_d2v.save(outpath + 'congress_d2v')"
      ]
    },
    {
      "cell_type": "code",
      "source": [
        "congress_d2v['abortion']"
      ],
      "metadata": {
        "colab": {
          "base_uri": "https://localhost:8080/"
        },
        "id": "0BMaBMIlWI8T",
        "outputId": "af103791-7f5a-4ac4-80d5-700fd6d76cdc"
      },
      "execution_count": null,
      "outputs": [
        {
          "output_type": "execute_result",
          "data": {
            "text/plain": [
              "array([ 0.99860096, -2.7324398 , -0.1321119 ,  0.5201029 , -2.5772808 ,\n",
              "        1.3585103 ,  3.903234  ,  1.654012  , -1.8413334 ,  1.7397096 ,\n",
              "       -3.2858033 , -1.3349166 ,  1.3958555 , -2.284003  , -4.315499  ,\n",
              "       -2.0288868 ,  0.32105774, -0.16333304,  3.2776902 ,  0.7074284 ,\n",
              "        3.6602235 , -0.10207532,  1.3794762 ,  0.85239816,  1.5460728 ,\n",
              "        2.4259105 , -0.19496666, -3.027692  , -1.2650753 , -3.05091   ,\n",
              "        1.8542193 ,  1.2249154 ,  1.1234301 , -0.28966463,  3.1452096 ,\n",
              "        0.31923944, -1.0489624 ,  1.2084194 , -2.6627753 ,  2.0661304 ,\n",
              "        1.0205382 ,  0.15435131, -1.9698079 , -1.6796819 ,  0.79009986,\n",
              "       -0.90277135,  2.6218095 , -0.90437496,  2.4182272 ,  0.7309201 ,\n",
              "       -1.6709584 ,  0.10510089,  2.8136978 ,  0.45912042,  0.39846468,\n",
              "        0.7109754 ,  0.13195828, -1.7133394 , -3.7264535 ,  3.8301878 ,\n",
              "        1.37836   ,  3.6472163 ,  0.71503854,  0.9493763 , -3.6805556 ,\n",
              "        0.5672015 ,  2.3769689 ,  3.4549303 , -1.4297609 ,  2.4599402 ,\n",
              "       -0.4121192 , -0.8542454 ,  3.351823  , -0.5542669 ,  0.98450595,\n",
              "        0.72053105,  1.4486188 , -0.8200998 , -1.7457876 ,  2.1131368 ,\n",
              "       -3.7751858 , -0.6754711 , -0.65268254,  1.5141804 , -2.9884377 ,\n",
              "        0.9581692 , -2.801263  ,  0.12252254,  1.9667615 ,  2.5887415 ,\n",
              "        0.1148026 ,  1.0340711 , -0.95522016,  1.2332903 ,  1.641796  ,\n",
              "       -0.02448803,  0.6859729 , -1.221081  , -0.20642993, -0.06986213],\n",
              "      dtype=float32)"
            ]
          },
          "metadata": {},
          "execution_count": 28
        }
      ]
    },
    {
      "cell_type": "markdown",
      "source": [
        "#### Examining word vectors"
      ],
      "metadata": {
        "id": "UQ2fTth_V1cH"
      }
    },
    {
      "cell_type": "code",
      "execution_count": null,
      "metadata": {
        "id": "S9qkg6A0WUgb",
        "colab": {
          "base_uri": "https://localhost:8080/"
        },
        "outputId": "3493bd69-3666-45e6-e688-3f71f3e26f40"
      },
      "outputs": [
        {
          "output_type": "execute_result",
          "data": {
            "text/plain": [
              "[('H.R. 435', 0.846847414970398),\n",
              " ('H.R. 611', 0.8272448182106018),\n",
              " ('Global Sexual and Reproductive Health Act of 2010', 0.811440646648407),\n",
              " ('H.R. 5121', 0.8113349676132202),\n",
              " ('S. 701', 0.8077537417411804)]"
            ]
          },
          "metadata": {},
          "execution_count": 29
        }
      ],
      "source": [
        "# find the top documents related to reproductive\n",
        "congress_d2v.docvecs.most_similar([ congress_d2v['reproductive'] ], topn=5 )"
      ]
    },
    {
      "cell_type": "code",
      "execution_count": null,
      "metadata": {
        "id": "Y9Uq1mRnWUgb",
        "colab": {
          "base_uri": "https://localhost:8080/"
        },
        "outputId": "4f99934a-f74e-466c-ed66-10e78ad46863"
      },
      "outputs": [
        {
          "output_type": "execute_result",
          "data": {
            "text/plain": [
              "52                 Women’s Health Protection Act of 2023\n",
              "67         Protecting Life on College Campus Act of 2023\n",
              "284           Child Interstate Abortion Notification Act\n",
              "674    Global Sexual and Reproductive Health Act of 2010\n",
              "Name: title, dtype: object"
            ]
          },
          "metadata": {},
          "execution_count": 30
        }
      ],
      "source": [
        "congress_df_normwords.loc[congress_df_normwords.loc[:, 'legislation number'].isin(['H.R. 435', 'H.R. 611', 'H.R. 5121', 'S. 701']), 'title']"
      ]
    },
    {
      "cell_type": "code",
      "source": [
        "# find the top documents related to infanticide\n",
        "congress_d2v.docvecs.most_similar([ congress_d2v['infanticide'] ], topn=5 )"
      ],
      "metadata": {
        "colab": {
          "base_uri": "https://localhost:8080/"
        },
        "id": "RjRSorXAjR5m",
        "outputId": "93288a47-e3e9-455e-8ae1-44206d1a0f61"
      },
      "execution_count": null,
      "outputs": [
        {
          "output_type": "execute_result",
          "data": {
            "text/plain": [
              "[('S. 105', 0.653548538684845),\n",
              " ('S. 133', 0.6486306190490723),\n",
              " ('No Taxpayer Funding for Abortion and Abortion Insurance Full Disclosure Act of 2023',\n",
              "  0.6206489205360413),\n",
              " ('S. 1673', 0.616359293460846),\n",
              " ('S. 906', 0.6131302714347839)]"
            ]
          },
          "metadata": {},
          "execution_count": 33
        }
      ]
    },
    {
      "cell_type": "code",
      "source": [
        "list(congress_df_normwords.loc[congress_df_normwords.loc[:, 'legislation number'].isin(['S. 105', 'S. 133', 'S. 1673', 'S. 906']), 'title'])"
      ],
      "metadata": {
        "colab": {
          "base_uri": "https://localhost:8080/"
        },
        "id": "yKW7y_1sjUXj",
        "outputId": "514fec10-a11c-49a3-ef7c-f34d2aab7d5e"
      },
      "execution_count": null,
      "outputs": [
        {
          "output_type": "execute_result",
          "data": {
            "text/plain": [
              "['Title X Abortion Provider Prohibition Act',\n",
              " 'Intelligence Authorization Act for Fiscal Year 2017',\n",
              " 'No Taxpayer Funding for Abortion Act',\n",
              " 'Unborn Victims of Violence Act of 1999']"
            ]
          },
          "metadata": {},
          "execution_count": 35
        }
      ]
    },
    {
      "cell_type": "code",
      "source": [
        "# find the top documents related to infanticide\n",
        "congress_d2v.docvecs.most_similar([ congress_d2v['autonomy'] ], topn=5 )"
      ],
      "metadata": {
        "colab": {
          "base_uri": "https://localhost:8080/"
        },
        "id": "AThWnj1Rjtxo",
        "outputId": "2d3d9466-10dd-4d2f-d96f-7578c9a59f46"
      },
      "execution_count": null,
      "outputs": [
        {
          "output_type": "execute_result",
          "data": {
            "text/plain": [
              "[('S. 105', 0.834003210067749),\n",
              " ('H.R. 4796', 0.8179441094398499),\n",
              " ('H.R. 3610', 0.7972944378852844),\n",
              " ('Parental Notification and Intervention Act of 2017', 0.7943722009658813),\n",
              " ('H.R. 3900', 0.7926015853881836)]"
            ]
          },
          "metadata": {},
          "execution_count": 38
        }
      ]
    },
    {
      "cell_type": "code",
      "source": [
        "list(congress_df_normwords.loc[congress_df_normwords.loc[:, 'legislation number'].isin(['S. 105', 'H.R. 4796', 'H.R. 3610', 'H.R. 3900']), 'title'])"
      ],
      "metadata": {
        "colab": {
          "base_uri": "https://localhost:8080/"
        },
        "id": "2b-f_l20jwgJ",
        "outputId": "80c4e69f-828d-42dc-eb8a-d0a7c5ed2b62"
      },
      "execution_count": null,
      "outputs": [
        {
          "output_type": "execute_result",
          "data": {
            "text/plain": [
              "['Reproductive Health Patient Navigator Act of 2023',\n",
              " 'Parental Notification and Intervention Act of 2021',\n",
              " 'Title X Abortion Provider Prohibition Act',\n",
              " 'Omnibus Consolidated Appropriations Act, 1997']"
            ]
          },
          "metadata": {},
          "execution_count": 39
        }
      ]
    },
    {
      "cell_type": "code",
      "source": [
        "# finding words closest to 'No Taxpayer Funding for Abortion and Abortion Insurance Full Disclosure Act of 2023'\n",
        "congress_d2v.wv.most_similar( [ congress_d2v.docvecs['No Taxpayer Funding for Abortion and Abortion Insurance Full Disclosure Act of 2023'] ], topn=10)"
      ],
      "metadata": {
        "colab": {
          "base_uri": "https://localhost:8080/"
        },
        "id": "8IR7gmJgkQt0",
        "outputId": "73e54bf1-f2fe-42b2-8d83-cdcb7faff7b4"
      },
      "execution_count": null,
      "outputs": [
        {
          "output_type": "execute_result",
          "data": {
            "text/plain": [
              "[('renacci', 0.8017705082893372),\n",
              " ('boustany', 0.779619038105011),\n",
              " ('violate', 0.7696955800056458),\n",
              " ('homo', 0.7584220170974731),\n",
              " ('fischbach', 0.7575352191925049),\n",
              " ('discrimination', 0.7560210227966309),\n",
              " ('intentional', 0.7503612637519836),\n",
              " ('incidence', 0.7466430068016052),\n",
              " ('punitive', 0.7465892434120178),\n",
              " ('spouses', 0.7459473013877869)]"
            ]
          },
          "metadata": {},
          "execution_count": 42
        }
      ]
    },
    {
      "cell_type": "code",
      "source": [
        "# finding words closests to 'S. 906' - 'Unborn Victims of Violence Act of 1999'\n",
        "congress_d2v.wv.most_similar( [ congress_d2v.docvecs['S. 906'] ], topn=10)"
      ],
      "metadata": {
        "colab": {
          "base_uri": "https://localhost:8080/"
        },
        "id": "lOHUH8JDkrHb",
        "outputId": "1512e10d-9ab5-4111-e1a7-aa581bc0b15b"
      },
      "execution_count": null,
      "outputs": [
        {
          "output_type": "execute_result",
          "data": {
            "text/plain": [
              "[('rip', 0.8907967209815979),\n",
              " ('renacci', 0.8850952982902527),\n",
              " ('endometrial', 0.8603261113166809),\n",
              " ('southerland', 0.8594567775726318),\n",
              " ('bentsen', 0.8559130430221558),\n",
              " ('anesthetics', 0.8374515771865845),\n",
              " ('application', 0.8365612030029297),\n",
              " ('finds', 0.8345703482627869),\n",
              " ('lacey', 0.8317352533340454),\n",
              " ('johnson', 0.830310583114624)]"
            ]
          },
          "metadata": {},
          "execution_count": 43
        }
      ]
    },
    {
      "cell_type": "code",
      "source": [
        "# looking for legislations that combine privacy, abortion, choice, and freedom\n",
        "congress_d2v.docvecs.most_similar([ congress_d2v['defend']+congress_d2v['choice']+congress_d2v['woman']], topn=5 )"
      ],
      "metadata": {
        "colab": {
          "base_uri": "https://localhost:8080/"
        },
        "id": "nWidbD03k4Oy",
        "outputId": "3743d083-6787-4dfc-9ece-710b9b2249e5"
      },
      "execution_count": null,
      "outputs": [
        {
          "output_type": "execute_result",
          "data": {
            "text/plain": [
              "[('Parental Notification and Intervention Act of 2017', 0.9224056005477905),\n",
              " ('H.R. 2956', 0.9214112758636475),\n",
              " ('Pregnant Women Health and Safety Act of 2020', 0.9096590876579285),\n",
              " ('S. 4541', 0.9064081907272339),\n",
              " ('China Trade Relations Act of 2022', 0.9049842953681946)]"
            ]
          },
          "metadata": {},
          "execution_count": 52
        }
      ]
    },
    {
      "cell_type": "code",
      "source": [
        "list(congress_df_normwords.loc[congress_df_normwords.loc[:, 'legislation number'].isin(['H.R. 2956', 'S. 4541',]), 'title'])"
      ],
      "metadata": {
        "colab": {
          "base_uri": "https://localhost:8080/"
        },
        "id": "aLIJD4RClCnU",
        "outputId": "25847550-66f5-4274-be43-6edf4c6c03f2"
      },
      "execution_count": null,
      "outputs": [
        {
          "output_type": "execute_result",
          "data": {
            "text/plain": [
              "['Standing with Moms Act',\n",
              " 'Parental Notification and Intervention Act of 2017',\n",
              " 'Crime Prevention Act of 1995',\n",
              " 'Cancer Registries Amendment Act']"
            ]
          },
          "metadata": {},
          "execution_count": 53
        }
      ]
    },
    {
      "cell_type": "markdown",
      "source": [
        "### Visualization"
      ],
      "metadata": {
        "id": "nyMKl_4bmDIG"
      }
    },
    {
      "cell_type": "code",
      "source": [
        "rand_indices = random_indices(len(congress_df_normwords), 10)"
      ],
      "metadata": {
        "id": "0x4JI71kmYnE"
      },
      "execution_count": null,
      "outputs": []
    },
    {
      "cell_type": "code",
      "source": [
        "congress_df_normwords.loc[rand_indices, ['title', 'legislation number']]"
      ],
      "metadata": {
        "colab": {
          "base_uri": "https://localhost:8080/",
          "height": 363
        },
        "id": "b7370RvqnQl0",
        "outputId": "450387e5-32f6-4bf4-9fde-5d693bd331a5"
      },
      "execution_count": null,
      "outputs": [
        {
          "output_type": "execute_result",
          "data": {
            "text/plain": [
              "                                                 title legislation number\n",
              "18          Child Interstate Abortion Notification Act           H.R. 792\n",
              "154  No Taxpayer Funds for Illegal Alien Abortions Act          H.R. 9575\n",
              "314                          Woman’s Right To Know Act            S. 3388\n",
              "414              Consolidated Appropriations Act, 2017           H.R. 244\n",
              "427  Equal Access to Abortion Coverage in Health In...          H.R. 2972\n",
              "557  District of Columbia Pain-Capable Unborn Child...             S. 886\n",
              "584  Commerce, Justice, Science, and Related Agenci...            S. 2437\n",
              "610                    Ultrasound Informed Consent Act          H.R. 3805\n",
              "827                                Informed Choice Act             S. 340\n",
              "828                                Informed Choice Act           H.R. 195"
            ],
            "text/html": [
              "\n",
              "  <div id=\"df-c549a1b8-4c5e-4f05-896f-e52a1026aadc\" class=\"colab-df-container\">\n",
              "    <div>\n",
              "<style scoped>\n",
              "    .dataframe tbody tr th:only-of-type {\n",
              "        vertical-align: middle;\n",
              "    }\n",
              "\n",
              "    .dataframe tbody tr th {\n",
              "        vertical-align: top;\n",
              "    }\n",
              "\n",
              "    .dataframe thead th {\n",
              "        text-align: right;\n",
              "    }\n",
              "</style>\n",
              "<table border=\"1\" class=\"dataframe\">\n",
              "  <thead>\n",
              "    <tr style=\"text-align: right;\">\n",
              "      <th></th>\n",
              "      <th>title</th>\n",
              "      <th>legislation number</th>\n",
              "    </tr>\n",
              "  </thead>\n",
              "  <tbody>\n",
              "    <tr>\n",
              "      <th>18</th>\n",
              "      <td>Child Interstate Abortion Notification Act</td>\n",
              "      <td>H.R. 792</td>\n",
              "    </tr>\n",
              "    <tr>\n",
              "      <th>154</th>\n",
              "      <td>No Taxpayer Funds for Illegal Alien Abortions Act</td>\n",
              "      <td>H.R. 9575</td>\n",
              "    </tr>\n",
              "    <tr>\n",
              "      <th>314</th>\n",
              "      <td>Woman’s Right To Know Act</td>\n",
              "      <td>S. 3388</td>\n",
              "    </tr>\n",
              "    <tr>\n",
              "      <th>414</th>\n",
              "      <td>Consolidated Appropriations Act, 2017</td>\n",
              "      <td>H.R. 244</td>\n",
              "    </tr>\n",
              "    <tr>\n",
              "      <th>427</th>\n",
              "      <td>Equal Access to Abortion Coverage in Health In...</td>\n",
              "      <td>H.R. 2972</td>\n",
              "    </tr>\n",
              "    <tr>\n",
              "      <th>557</th>\n",
              "      <td>District of Columbia Pain-Capable Unborn Child...</td>\n",
              "      <td>S. 886</td>\n",
              "    </tr>\n",
              "    <tr>\n",
              "      <th>584</th>\n",
              "      <td>Commerce, Justice, Science, and Related Agenci...</td>\n",
              "      <td>S. 2437</td>\n",
              "    </tr>\n",
              "    <tr>\n",
              "      <th>610</th>\n",
              "      <td>Ultrasound Informed Consent Act</td>\n",
              "      <td>H.R. 3805</td>\n",
              "    </tr>\n",
              "    <tr>\n",
              "      <th>827</th>\n",
              "      <td>Informed Choice Act</td>\n",
              "      <td>S. 340</td>\n",
              "    </tr>\n",
              "    <tr>\n",
              "      <th>828</th>\n",
              "      <td>Informed Choice Act</td>\n",
              "      <td>H.R. 195</td>\n",
              "    </tr>\n",
              "  </tbody>\n",
              "</table>\n",
              "</div>\n",
              "    <div class=\"colab-df-buttons\">\n",
              "\n",
              "  <div class=\"colab-df-container\">\n",
              "    <button class=\"colab-df-convert\" onclick=\"convertToInteractive('df-c549a1b8-4c5e-4f05-896f-e52a1026aadc')\"\n",
              "            title=\"Convert this dataframe to an interactive table.\"\n",
              "            style=\"display:none;\">\n",
              "\n",
              "  <svg xmlns=\"http://www.w3.org/2000/svg\" height=\"24px\" viewBox=\"0 -960 960 960\">\n",
              "    <path d=\"M120-120v-720h720v720H120Zm60-500h600v-160H180v160Zm220 220h160v-160H400v160Zm0 220h160v-160H400v160ZM180-400h160v-160H180v160Zm440 0h160v-160H620v160ZM180-180h160v-160H180v160Zm440 0h160v-160H620v160Z\"/>\n",
              "  </svg>\n",
              "    </button>\n",
              "\n",
              "  <style>\n",
              "    .colab-df-container {\n",
              "      display:flex;\n",
              "      gap: 12px;\n",
              "    }\n",
              "\n",
              "    .colab-df-convert {\n",
              "      background-color: #E8F0FE;\n",
              "      border: none;\n",
              "      border-radius: 50%;\n",
              "      cursor: pointer;\n",
              "      display: none;\n",
              "      fill: #1967D2;\n",
              "      height: 32px;\n",
              "      padding: 0 0 0 0;\n",
              "      width: 32px;\n",
              "    }\n",
              "\n",
              "    .colab-df-convert:hover {\n",
              "      background-color: #E2EBFA;\n",
              "      box-shadow: 0px 1px 2px rgba(60, 64, 67, 0.3), 0px 1px 3px 1px rgba(60, 64, 67, 0.15);\n",
              "      fill: #174EA6;\n",
              "    }\n",
              "\n",
              "    .colab-df-buttons div {\n",
              "      margin-bottom: 4px;\n",
              "    }\n",
              "\n",
              "    [theme=dark] .colab-df-convert {\n",
              "      background-color: #3B4455;\n",
              "      fill: #D2E3FC;\n",
              "    }\n",
              "\n",
              "    [theme=dark] .colab-df-convert:hover {\n",
              "      background-color: #434B5C;\n",
              "      box-shadow: 0px 1px 3px 1px rgba(0, 0, 0, 0.15);\n",
              "      filter: drop-shadow(0px 1px 2px rgba(0, 0, 0, 0.3));\n",
              "      fill: #FFFFFF;\n",
              "    }\n",
              "  </style>\n",
              "\n",
              "    <script>\n",
              "      const buttonEl =\n",
              "        document.querySelector('#df-c549a1b8-4c5e-4f05-896f-e52a1026aadc button.colab-df-convert');\n",
              "      buttonEl.style.display =\n",
              "        google.colab.kernel.accessAllowed ? 'block' : 'none';\n",
              "\n",
              "      async function convertToInteractive(key) {\n",
              "        const element = document.querySelector('#df-c549a1b8-4c5e-4f05-896f-e52a1026aadc');\n",
              "        const dataTable =\n",
              "          await google.colab.kernel.invokeFunction('convertToInteractive',\n",
              "                                                    [key], {});\n",
              "        if (!dataTable) return;\n",
              "\n",
              "        const docLinkHtml = 'Like what you see? Visit the ' +\n",
              "          '<a target=\"_blank\" href=https://colab.research.google.com/notebooks/data_table.ipynb>data table notebook</a>'\n",
              "          + ' to learn more about interactive tables.';\n",
              "        element.innerHTML = '';\n",
              "        dataTable['output_type'] = 'display_data';\n",
              "        await google.colab.output.renderOutput(dataTable, element);\n",
              "        const docLink = document.createElement('div');\n",
              "        docLink.innerHTML = docLinkHtml;\n",
              "        element.appendChild(docLink);\n",
              "      }\n",
              "    </script>\n",
              "  </div>\n",
              "\n",
              "\n",
              "<div id=\"df-3f8dbee7-f890-4cfd-be34-5ab52f8f856a\">\n",
              "  <button class=\"colab-df-quickchart\" onclick=\"quickchart('df-3f8dbee7-f890-4cfd-be34-5ab52f8f856a')\"\n",
              "            title=\"Suggest charts\"\n",
              "            style=\"display:none;\">\n",
              "\n",
              "<svg xmlns=\"http://www.w3.org/2000/svg\" height=\"24px\"viewBox=\"0 0 24 24\"\n",
              "     width=\"24px\">\n",
              "    <g>\n",
              "        <path d=\"M19 3H5c-1.1 0-2 .9-2 2v14c0 1.1.9 2 2 2h14c1.1 0 2-.9 2-2V5c0-1.1-.9-2-2-2zM9 17H7v-7h2v7zm4 0h-2V7h2v10zm4 0h-2v-4h2v4z\"/>\n",
              "    </g>\n",
              "</svg>\n",
              "  </button>\n",
              "\n",
              "<style>\n",
              "  .colab-df-quickchart {\n",
              "      --bg-color: #E8F0FE;\n",
              "      --fill-color: #1967D2;\n",
              "      --hover-bg-color: #E2EBFA;\n",
              "      --hover-fill-color: #174EA6;\n",
              "      --disabled-fill-color: #AAA;\n",
              "      --disabled-bg-color: #DDD;\n",
              "  }\n",
              "\n",
              "  [theme=dark] .colab-df-quickchart {\n",
              "      --bg-color: #3B4455;\n",
              "      --fill-color: #D2E3FC;\n",
              "      --hover-bg-color: #434B5C;\n",
              "      --hover-fill-color: #FFFFFF;\n",
              "      --disabled-bg-color: #3B4455;\n",
              "      --disabled-fill-color: #666;\n",
              "  }\n",
              "\n",
              "  .colab-df-quickchart {\n",
              "    background-color: var(--bg-color);\n",
              "    border: none;\n",
              "    border-radius: 50%;\n",
              "    cursor: pointer;\n",
              "    display: none;\n",
              "    fill: var(--fill-color);\n",
              "    height: 32px;\n",
              "    padding: 0;\n",
              "    width: 32px;\n",
              "  }\n",
              "\n",
              "  .colab-df-quickchart:hover {\n",
              "    background-color: var(--hover-bg-color);\n",
              "    box-shadow: 0 1px 2px rgba(60, 64, 67, 0.3), 0 1px 3px 1px rgba(60, 64, 67, 0.15);\n",
              "    fill: var(--button-hover-fill-color);\n",
              "  }\n",
              "\n",
              "  .colab-df-quickchart-complete:disabled,\n",
              "  .colab-df-quickchart-complete:disabled:hover {\n",
              "    background-color: var(--disabled-bg-color);\n",
              "    fill: var(--disabled-fill-color);\n",
              "    box-shadow: none;\n",
              "  }\n",
              "\n",
              "  .colab-df-spinner {\n",
              "    border: 2px solid var(--fill-color);\n",
              "    border-color: transparent;\n",
              "    border-bottom-color: var(--fill-color);\n",
              "    animation:\n",
              "      spin 1s steps(1) infinite;\n",
              "  }\n",
              "\n",
              "  @keyframes spin {\n",
              "    0% {\n",
              "      border-color: transparent;\n",
              "      border-bottom-color: var(--fill-color);\n",
              "      border-left-color: var(--fill-color);\n",
              "    }\n",
              "    20% {\n",
              "      border-color: transparent;\n",
              "      border-left-color: var(--fill-color);\n",
              "      border-top-color: var(--fill-color);\n",
              "    }\n",
              "    30% {\n",
              "      border-color: transparent;\n",
              "      border-left-color: var(--fill-color);\n",
              "      border-top-color: var(--fill-color);\n",
              "      border-right-color: var(--fill-color);\n",
              "    }\n",
              "    40% {\n",
              "      border-color: transparent;\n",
              "      border-right-color: var(--fill-color);\n",
              "      border-top-color: var(--fill-color);\n",
              "    }\n",
              "    60% {\n",
              "      border-color: transparent;\n",
              "      border-right-color: var(--fill-color);\n",
              "    }\n",
              "    80% {\n",
              "      border-color: transparent;\n",
              "      border-right-color: var(--fill-color);\n",
              "      border-bottom-color: var(--fill-color);\n",
              "    }\n",
              "    90% {\n",
              "      border-color: transparent;\n",
              "      border-bottom-color: var(--fill-color);\n",
              "    }\n",
              "  }\n",
              "</style>\n",
              "\n",
              "  <script>\n",
              "    async function quickchart(key) {\n",
              "      const quickchartButtonEl =\n",
              "        document.querySelector('#' + key + ' button');\n",
              "      quickchartButtonEl.disabled = true;  // To prevent multiple clicks.\n",
              "      quickchartButtonEl.classList.add('colab-df-spinner');\n",
              "      try {\n",
              "        const charts = await google.colab.kernel.invokeFunction(\n",
              "            'suggestCharts', [key], {});\n",
              "      } catch (error) {\n",
              "        console.error('Error during call to suggestCharts:', error);\n",
              "      }\n",
              "      quickchartButtonEl.classList.remove('colab-df-spinner');\n",
              "      quickchartButtonEl.classList.add('colab-df-quickchart-complete');\n",
              "    }\n",
              "    (() => {\n",
              "      let quickchartButtonEl =\n",
              "        document.querySelector('#df-3f8dbee7-f890-4cfd-be34-5ab52f8f856a button');\n",
              "      quickchartButtonEl.style.display =\n",
              "        google.colab.kernel.accessAllowed ? 'block' : 'none';\n",
              "    })();\n",
              "  </script>\n",
              "</div>\n",
              "    </div>\n",
              "  </div>\n"
            ]
          },
          "metadata": {},
          "execution_count": 65
        }
      ]
    },
    {
      "cell_type": "code",
      "source": [
        "# Visualizing the similarity of the first 10 documents in the corpus\n",
        "targetDocs = congress_df_normwords.loc[rand_indices, 'legislation number']\n",
        "\n",
        "heatmapMatrixD = []\n",
        "\n",
        "for tagOuter in targetDocs:\n",
        "    column = []\n",
        "    tagVec = congress_d2v.docvecs[tagOuter].reshape(1, -1)\n",
        "    for tagInner in targetDocs:\n",
        "        column.append(sklearn.metrics.pairwise.cosine_similarity(tagVec, congress_d2v.docvecs[tagInner].reshape(1, -1))[0][0])\n",
        "    heatmapMatrixD.append(column)\n",
        "heatmapMatrixD = np.array(heatmapMatrixD)"
      ],
      "metadata": {
        "id": "xEkrEObLmGSe"
      },
      "execution_count": null,
      "outputs": []
    },
    {
      "cell_type": "code",
      "source": [
        "fig, ax = plt.subplots()\n",
        "hmap = ax.pcolor(heatmapMatrixD, cmap='Blues')\n",
        "cbar = plt.colorbar(hmap)\n",
        "\n",
        "cbar.set_label('cosine similarity', rotation=270)\n",
        "a = ax.set_xticks(np.arange(heatmapMatrixD.shape[1]) + 0.5, minor=False)\n",
        "a = ax.set_yticks(np.arange(heatmapMatrixD.shape[0]) + 0.5, minor=False)\n",
        "\n",
        "a = ax.set_xticklabels(targetDocs, minor=False, rotation=270)\n",
        "a = ax.set_yticklabels(targetDocs, minor=False)"
      ],
      "metadata": {
        "colab": {
          "base_uri": "https://localhost:8080/",
          "height": 489
        },
        "id": "_SdgnozfmLev",
        "outputId": "8e58e35d-517d-4d39-e9a3-abd3acf0238c"
      },
      "execution_count": null,
      "outputs": [
        {
          "output_type": "display_data",
          "data": {
            "text/plain": [
              "<Figure size 640x480 with 2 Axes>"
            ],
            "image/png": "[encoded data removed]"
          },
          "metadata": {}
        }
      ]
    },
    {
      "cell_type": "markdown",
      "source": [
        "### Reflection\n",
        "- many of the documents in my corpus are denoted as similar or sharing similar contexts, maybe indicating a lack of extreme change over the years in how the abortion argument has been framed within legislation\n",
        "- there are multiple legislations about preventing abortion or protecting fetuses, but fewer that are overtly protecting the practice\n",
        "- based on the calculation of words closest to specific documents, doc2vec seems like an excellent method for determining what politicians were involved with what legislations\n"
      ],
      "metadata": {
        "id": "CqXu3Bq-ntzI"
      }
    },
    {
      "cell_type": "markdown",
      "metadata": {
        "id": "yFce08PLWUgb"
      },
      "source": [
        "### <font color=\"blue\">*Exercise 3*</font>\n",
        "\n",
        "<font color=\"blue\">Construct cells immediately below this that embed documents related to your final project, then generate meaningful semantic dimensions based on your theoretical understanding of the semantic space (i.e., by subtracting semantically opposite word vectors) and project another set of word vectors onto those dimensions. Interpret the meaning of these projections for your analysis. Which of the dimensions you analyze explain the most variation in the projection of your words and why?\n",
        "\n",
        "<font color=\"blue\">***Stretch***: Average together multiple antonym pairs to create robust semantic dimensions. How do word projections on these robust dimensions differ from single-pair dimensions?"
      ]
    },
    {
      "cell_type": "markdown",
      "source": [
        "#### Create Dimensions"
      ],
      "metadata": {
        "id": "_JuvW9FjG6qa"
      }
    },
    {
      "cell_type": "code",
      "execution_count": null,
      "metadata": {
        "id": "RXsSqDCLWUgb"
      },
      "outputs": [],
      "source": [
        "# creating political affiliation dimension\n",
        "gender = dimension(congress_w2v, ['man', 'male'], ['woman', 'female'])\n",
        "race = dimension(congress_w2v, ['black','blacks',], ['white', 'whites'])\n",
        "class_ = dimension(congress_w2v, ['rich', 'expensive', 'wealth'], ['poor', 'poverty', 'cheap', 'inexpensive'])\n"
      ]
    },
    {
      "cell_type": "code",
      "execution_count": null,
      "metadata": {
        "id": "AAkJwteyWUgb"
      },
      "outputs": [],
      "source": [
        "roles = ['person', 'mother', 'baby', 'fetus', 'child', 'doctor', 'midwife', 'nurse', 'physician', 'provider']"
      ]
    },
    {
      "cell_type": "code",
      "execution_count": null,
      "metadata": {
        "id": "nkzbGIFJWUgb"
      },
      "outputs": [],
      "source": [
        "actions = ['choose', 'kill', 'murder', 'save', 'protect', 'abort', 'birth']"
      ]
    },
    {
      "cell_type": "code",
      "execution_count": null,
      "metadata": {
        "id": "sPsyx6rtWUgb"
      },
      "outputs": [],
      "source": [
        "methods = ['procedure', 'operation', 'abortion', 'contraception', 'fertilization']"
      ]
    },
    {
      "cell_type": "markdown",
      "source": [
        "#### Embed classes on dimensions"
      ],
      "metadata": {
        "id": "pcho36NBG_b-"
      }
    },
    {
      "cell_type": "code",
      "execution_count": null,
      "metadata": {
        "id": "tqKgXyoUWUgc"
      },
      "outputs": [],
      "source": [
        "def makeDF(model, word_list, dimensions, dimension_names):\n",
        "    data = {}\n",
        "    for dimension, name in zip(dimensions, dimension_names):\n",
        "      data[name] = []\n",
        "      for word in word_list:\n",
        "          data[name].append(sklearn.metrics.pairwise.cosine_similarity(model.wv[word].reshape(1,-1), dimension.reshape(1,-1))[0][0])\n",
        "\n",
        "    df = pd.DataFrame(data, index = word_list)\n",
        "    return df"
      ]
    },
    {
      "cell_type": "code",
      "source": [
        "roles_df = makeDF(congress_w2v, roles, [race, gender, class_], ['race', 'gender', 'class'])"
      ],
      "metadata": {
        "id": "E_ekSfIQGiQ_"
      },
      "execution_count": null,
      "outputs": []
    },
    {
      "cell_type": "code",
      "source": [
        "actions_df = makeDF(congress_w2v, actions, [race, gender, class_], ['race', 'gender', 'class'])"
      ],
      "metadata": {
        "id": "j_Y6CPy8GiTU"
      },
      "execution_count": null,
      "outputs": []
    },
    {
      "cell_type": "code",
      "source": [
        "methods_df = makeDF(congress_w2v, methods, [race, gender, class_], ['race', 'gender', 'class'])"
      ],
      "metadata": {
        "id": "fS_MSFAIGiVq"
      },
      "execution_count": null,
      "outputs": []
    },
    {
      "cell_type": "markdown",
      "source": [
        "#### Visualize"
      ],
      "metadata": {
        "id": "UXkIUmIbHDob"
      }
    },
    {
      "cell_type": "code",
      "source": [
        "# roles\n",
        "fig = plt.figure(figsize = (12,4))\n",
        "ax1 = fig.add_subplot(131)\n",
        "PlotDimension(ax1, roles_df, 'gender')\n",
        "ax2 = fig.add_subplot(132)\n",
        "PlotDimension(ax2, roles_df, 'race')\n",
        "ax3 = fig.add_subplot(133)\n",
        "PlotDimension(ax3, roles_df, 'class')\n",
        "plt.show()"
      ],
      "metadata": {
        "colab": {
          "base_uri": "https://localhost:8080/",
          "height": 379
        },
        "id": "Iw9AnG-KHE9F",
        "outputId": "1d9adc6c-8656-48a4-d1df-e7c343f670aa"
      },
      "execution_count": null,
      "outputs": [
        {
          "output_type": "display_data",
          "data": {
            "text/plain": [
              "<Figure size 1200x400 with 3 Axes>"
            ],
            "image/png": "[encoded data removed]"
          },
          "metadata": {}
        }
      ]
    },
    {
      "cell_type": "code",
      "source": [
        "# actions\n",
        "fig = plt.figure(figsize = (12,4))\n",
        "ax1 = fig.add_subplot(131)\n",
        "PlotDimension(ax1, actions_df, 'gender')\n",
        "ax2 = fig.add_subplot(132)\n",
        "PlotDimension(ax2, actions_df, 'race')\n",
        "ax3 = fig.add_subplot(133)\n",
        "PlotDimension(ax3, actions_df, 'class')\n",
        "plt.show()"
      ],
      "metadata": {
        "colab": {
          "base_uri": "https://localhost:8080/",
          "height": 379
        },
        "id": "ebv-QldSLRHA",
        "outputId": "2d80213b-1cf8-4e75-9648-006c115479d5"
      },
      "execution_count": null,
      "outputs": [
        {
          "output_type": "display_data",
          "data": {
            "text/plain": [
              "<Figure size 1200x400 with 3 Axes>"
            ],
            "image/png": "[encoded data removed]"
          },
          "metadata": {}
        }
      ]
    },
    {
      "cell_type": "code",
      "source": [
        "# methods\n",
        "fig = plt.figure(figsize = (12,4))\n",
        "ax1 = fig.add_subplot(131)\n",
        "PlotDimension(ax1, methods_df, 'gender')\n",
        "ax2 = fig.add_subplot(132)\n",
        "PlotDimension(ax2, methods_df, 'race')\n",
        "ax3 = fig.add_subplot(133)\n",
        "PlotDimension(ax3, methods_df, 'class')\n",
        "plt.show()"
      ],
      "metadata": {
        "colab": {
          "base_uri": "https://localhost:8080/",
          "height": 379
        },
        "id": "0cZjI0o1LZiV",
        "outputId": "b1d7f082-f32b-406c-8069-53cc6899e6fb"
      },
      "execution_count": null,
      "outputs": [
        {
          "output_type": "display_data",
          "data": {
            "text/plain": [
              "<Figure size 1200x400 with 3 Axes>"
            ],
            "image/png": "[encoded data removed]"
          },
          "metadata": {}
        }
      ]
    },
    {
      "cell_type": "markdown",
      "source": [
        "#### Reflection\n",
        "Since legislation is so rigid in terms of the allowable language used, there are not obvious dimensions on which to project my vectors. Instead, I opted to include the dimensions from the example (race, gender, class), and even then, some of the simple word vectors used in the example ('he', 'she', etc.) were not present in my dataset. Regardless, I projected vectors corresponding to reproductive healthcare actions, roles, and procedures onto these dimensions, and found that they similarly described the variation in these vectors."
      ],
      "metadata": {
        "id": "bEhLvgn_Lh7V"
      }
    },
    {
      "cell_type": "markdown",
      "metadata": {
        "id": "nJcX8nnmWUgc"
      },
      "source": [
        "### <font color=\"blue\">*Exercise 4*</font>\n",
        "\n",
        "<font color=\"blue\">Construct cells immediately below this that align word embeddings over time or across domains/corpora. Interrogate the spaces that result and ask which words changed most and least over the entire period or between contexts/corpora. What does this reveal about the social game underlying your space?"
      ]
    },
    {
      "cell_type": "markdown",
      "source": [
        "#### Visualize Temporal Data"
      ],
      "metadata": {
        "id": "Dja_W9mQJoXA"
      }
    },
    {
      "cell_type": "code",
      "source": [
        "congress_count_df = congress_df.groupby('congress_num', as_index=False).agg({'legislation number': 'count'}).sort_values(by=['congress_num']).rename(columns={'legislation number': 'num_bills'})\n",
        "congress_count_df"
      ],
      "metadata": {
        "colab": {
          "base_uri": "https://localhost:8080/",
          "height": 614
        },
        "id": "Taa8SwVMJmja",
        "outputId": "379bd738-d614-4812-9991-a930494bdc02"
      },
      "execution_count": 26,
      "outputs": [
        {
          "output_type": "execute_result",
          "data": {
            "text/plain": [
              "    congress_num  num_bills\n",
              "0            101         49\n",
              "1            102         60\n",
              "2            103         38\n",
              "3            104         72\n",
              "4            105         53\n",
              "5            106         60\n",
              "6            107         47\n",
              "7            108         55\n",
              "8            109         45\n",
              "9            110         43\n",
              "10           111         57\n",
              "11           112         73\n",
              "12           113         75\n",
              "13           114         91\n",
              "14           115         66\n",
              "15           116         83\n",
              "16           117        158\n",
              "17           118        118"
            ],
            "text/html": [
              "\n",
              "  <div id=\"df-ddaefb1a-b1bf-4c13-a1e9-3380bd795aaf\" class=\"colab-df-container\">\n",
              "    <div>\n",
              "<style scoped>\n",
              "    .dataframe tbody tr th:only-of-type {\n",
              "        vertical-align: middle;\n",
              "    }\n",
              "\n",
              "    .dataframe tbody tr th {\n",
              "        vertical-align: top;\n",
              "    }\n",
              "\n",
              "    .dataframe thead th {\n",
              "        text-align: right;\n",
              "    }\n",
              "</style>\n",
              "<table border=\"1\" class=\"dataframe\">\n",
              "  <thead>\n",
              "    <tr style=\"text-align: right;\">\n",
              "      <th></th>\n",
              "      <th>congress_num</th>\n",
              "      <th>num_bills</th>\n",
              "    </tr>\n",
              "  </thead>\n",
              "  <tbody>\n",
              "    <tr>\n",
              "      <th>0</th>\n",
              "      <td>101</td>\n",
              "      <td>49</td>\n",
              "    </tr>\n",
              "    <tr>\n",
              "      <th>1</th>\n",
              "      <td>102</td>\n",
              "      <td>60</td>\n",
              "    </tr>\n",
              "    <tr>\n",
              "      <th>2</th>\n",
              "      <td>103</td>\n",
              "      <td>38</td>\n",
              "    </tr>\n",
              "    <tr>\n",
              "      <th>3</th>\n",
              "      <td>104</td>\n",
              "      <td>72</td>\n",
              "    </tr>\n",
              "    <tr>\n",
              "      <th>4</th>\n",
              "      <td>105</td>\n",
              "      <td>53</td>\n",
              "    </tr>\n",
              "    <tr>\n",
              "      <th>5</th>\n",
              "      <td>106</td>\n",
              "      <td>60</td>\n",
              "    </tr>\n",
              "    <tr>\n",
              "      <th>6</th>\n",
              "      <td>107</td>\n",
              "      <td>47</td>\n",
              "    </tr>\n",
              "    <tr>\n",
              "      <th>7</th>\n",
              "      <td>108</td>\n",
              "      <td>55</td>\n",
              "    </tr>\n",
              "    <tr>\n",
              "      <th>8</th>\n",
              "      <td>109</td>\n",
              "      <td>45</td>\n",
              "    </tr>\n",
              "    <tr>\n",
              "      <th>9</th>\n",
              "      <td>110</td>\n",
              "      <td>43</td>\n",
              "    </tr>\n",
              "    <tr>\n",
              "      <th>10</th>\n",
              "      <td>111</td>\n",
              "      <td>57</td>\n",
              "    </tr>\n",
              "    <tr>\n",
              "      <th>11</th>\n",
              "      <td>112</td>\n",
              "      <td>73</td>\n",
              "    </tr>\n",
              "    <tr>\n",
              "      <th>12</th>\n",
              "      <td>113</td>\n",
              "      <td>75</td>\n",
              "    </tr>\n",
              "    <tr>\n",
              "      <th>13</th>\n",
              "      <td>114</td>\n",
              "      <td>91</td>\n",
              "    </tr>\n",
              "    <tr>\n",
              "      <th>14</th>\n",
              "      <td>115</td>\n",
              "      <td>66</td>\n",
              "    </tr>\n",
              "    <tr>\n",
              "      <th>15</th>\n",
              "      <td>116</td>\n",
              "      <td>83</td>\n",
              "    </tr>\n",
              "    <tr>\n",
              "      <th>16</th>\n",
              "      <td>117</td>\n",
              "      <td>158</td>\n",
              "    </tr>\n",
              "    <tr>\n",
              "      <th>17</th>\n",
              "      <td>118</td>\n",
              "      <td>118</td>\n",
              "    </tr>\n",
              "  </tbody>\n",
              "</table>\n",
              "</div>\n",
              "    <div class=\"colab-df-buttons\">\n",
              "\n",
              "  <div class=\"colab-df-container\">\n",
              "    <button class=\"colab-df-convert\" onclick=\"convertToInteractive('df-ddaefb1a-b1bf-4c13-a1e9-3380bd795aaf')\"\n",
              "            title=\"Convert this dataframe to an interactive table.\"\n",
              "            style=\"display:none;\">\n",
              "\n",
              "  <svg xmlns=\"http://www.w3.org/2000/svg\" height=\"24px\" viewBox=\"0 -960 960 960\">\n",
              "    <path d=\"M120-120v-720h720v720H120Zm60-500h600v-160H180v160Zm220 220h160v-160H400v160Zm0 220h160v-160H400v160ZM180-400h160v-160H180v160Zm440 0h160v-160H620v160ZM180-180h160v-160H180v160Zm440 0h160v-160H620v160Z\"/>\n",
              "  </svg>\n",
              "    </button>\n",
              "\n",
              "  <style>\n",
              "    .colab-df-container {\n",
              "      display:flex;\n",
              "      gap: 12px;\n",
              "    }\n",
              "\n",
              "    .colab-df-convert {\n",
              "      background-color: #E8F0FE;\n",
              "      border: none;\n",
              "      border-radius: 50%;\n",
              "      cursor: pointer;\n",
              "      display: none;\n",
              "      fill: #1967D2;\n",
              "      height: 32px;\n",
              "      padding: 0 0 0 0;\n",
              "      width: 32px;\n",
              "    }\n",
              "\n",
              "    .colab-df-convert:hover {\n",
              "      background-color: #E2EBFA;\n",
              "      box-shadow: 0px 1px 2px rgba(60, 64, 67, 0.3), 0px 1px 3px 1px rgba(60, 64, 67, 0.15);\n",
              "      fill: #174EA6;\n",
              "    }\n",
              "\n",
              "    .colab-df-buttons div {\n",
              "      margin-bottom: 4px;\n",
              "    }\n",
              "\n",
              "    [theme=dark] .colab-df-convert {\n",
              "      background-color: #3B4455;\n",
              "      fill: #D2E3FC;\n",
              "    }\n",
              "\n",
              "    [theme=dark] .colab-df-convert:hover {\n",
              "      background-color: #434B5C;\n",
              "      box-shadow: 0px 1px 3px 1px rgba(0, 0, 0, 0.15);\n",
              "      filter: drop-shadow(0px 1px 2px rgba(0, 0, 0, 0.3));\n",
              "      fill: #FFFFFF;\n",
              "    }\n",
              "  </style>\n",
              "\n",
              "    <script>\n",
              "      const buttonEl =\n",
              "        document.querySelector('#df-ddaefb1a-b1bf-4c13-a1e9-3380bd795aaf button.colab-df-convert');\n",
              "      buttonEl.style.display =\n",
              "        google.colab.kernel.accessAllowed ? 'block' : 'none';\n",
              "\n",
              "      async function convertToInteractive(key) {\n",
              "        const element = document.querySelector('#df-ddaefb1a-b1bf-4c13-a1e9-3380bd795aaf');\n",
              "        const dataTable =\n",
              "          await google.colab.kernel.invokeFunction('convertToInteractive',\n",
              "                                                    [key], {});\n",
              "        if (!dataTable) return;\n",
              "\n",
              "        const docLinkHtml = 'Like what you see? Visit the ' +\n",
              "          '<a target=\"_blank\" href=https://colab.research.google.com/notebooks/data_table.ipynb>data table notebook</a>'\n",
              "          + ' to learn more about interactive tables.';\n",
              "        element.innerHTML = '';\n",
              "        dataTable['output_type'] = 'display_data';\n",
              "        await google.colab.output.renderOutput(dataTable, element);\n",
              "        const docLink = document.createElement('div');\n",
              "        docLink.innerHTML = docLinkHtml;\n",
              "        element.appendChild(docLink);\n",
              "      }\n",
              "    </script>\n",
              "  </div>\n",
              "\n",
              "\n",
              "<div id=\"df-f5fb7534-6575-41d2-83a1-6b78663331f7\">\n",
              "  <button class=\"colab-df-quickchart\" onclick=\"quickchart('df-f5fb7534-6575-41d2-83a1-6b78663331f7')\"\n",
              "            title=\"Suggest charts\"\n",
              "            style=\"display:none;\">\n",
              "\n",
              "<svg xmlns=\"http://www.w3.org/2000/svg\" height=\"24px\"viewBox=\"0 0 24 24\"\n",
              "     width=\"24px\">\n",
              "    <g>\n",
              "        <path d=\"M19 3H5c-1.1 0-2 .9-2 2v14c0 1.1.9 2 2 2h14c1.1 0 2-.9 2-2V5c0-1.1-.9-2-2-2zM9 17H7v-7h2v7zm4 0h-2V7h2v10zm4 0h-2v-4h2v4z\"/>\n",
              "    </g>\n",
              "</svg>\n",
              "  </button>\n",
              "\n",
              "<style>\n",
              "  .colab-df-quickchart {\n",
              "      --bg-color: #E8F0FE;\n",
              "      --fill-color: #1967D2;\n",
              "      --hover-bg-color: #E2EBFA;\n",
              "      --hover-fill-color: #174EA6;\n",
              "      --disabled-fill-color: #AAA;\n",
              "      --disabled-bg-color: #DDD;\n",
              "  }\n",
              "\n",
              "  [theme=dark] .colab-df-quickchart {\n",
              "      --bg-color: #3B4455;\n",
              "      --fill-color: #D2E3FC;\n",
              "      --hover-bg-color: #434B5C;\n",
              "      --hover-fill-color: #FFFFFF;\n",
              "      --disabled-bg-color: #3B4455;\n",
              "      --disabled-fill-color: #666;\n",
              "  }\n",
              "\n",
              "  .colab-df-quickchart {\n",
              "    background-color: var(--bg-color);\n",
              "    border: none;\n",
              "    border-radius: 50%;\n",
              "    cursor: pointer;\n",
              "    display: none;\n",
              "    fill: var(--fill-color);\n",
              "    height: 32px;\n",
              "    padding: 0;\n",
              "    width: 32px;\n",
              "  }\n",
              "\n",
              "  .colab-df-quickchart:hover {\n",
              "    background-color: var(--hover-bg-color);\n",
              "    box-shadow: 0 1px 2px rgba(60, 64, 67, 0.3), 0 1px 3px 1px rgba(60, 64, 67, 0.15);\n",
              "    fill: var(--button-hover-fill-color);\n",
              "  }\n",
              "\n",
              "  .colab-df-quickchart-complete:disabled,\n",
              "  .colab-df-quickchart-complete:disabled:hover {\n",
              "    background-color: var(--disabled-bg-color);\n",
              "    fill: var(--disabled-fill-color);\n",
              "    box-shadow: none;\n",
              "  }\n",
              "\n",
              "  .colab-df-spinner {\n",
              "    border: 2px solid var(--fill-color);\n",
              "    border-color: transparent;\n",
              "    border-bottom-color: var(--fill-color);\n",
              "    animation:\n",
              "      spin 1s steps(1) infinite;\n",
              "  }\n",
              "\n",
              "  @keyframes spin {\n",
              "    0% {\n",
              "      border-color: transparent;\n",
              "      border-bottom-color: var(--fill-color);\n",
              "      border-left-color: var(--fill-color);\n",
              "    }\n",
              "    20% {\n",
              "      border-color: transparent;\n",
              "      border-left-color: var(--fill-color);\n",
              "      border-top-color: var(--fill-color);\n",
              "    }\n",
              "    30% {\n",
              "      border-color: transparent;\n",
              "      border-left-color: var(--fill-color);\n",
              "      border-top-color: var(--fill-color);\n",
              "      border-right-color: var(--fill-color);\n",
              "    }\n",
              "    40% {\n",
              "      border-color: transparent;\n",
              "      border-right-color: var(--fill-color);\n",
              "      border-top-color: var(--fill-color);\n",
              "    }\n",
              "    60% {\n",
              "      border-color: transparent;\n",
              "      border-right-color: var(--fill-color);\n",
              "    }\n",
              "    80% {\n",
              "      border-color: transparent;\n",
              "      border-right-color: var(--fill-color);\n",
              "      border-bottom-color: var(--fill-color);\n",
              "    }\n",
              "    90% {\n",
              "      border-color: transparent;\n",
              "      border-bottom-color: var(--fill-color);\n",
              "    }\n",
              "  }\n",
              "</style>\n",
              "\n",
              "  <script>\n",
              "    async function quickchart(key) {\n",
              "      const quickchartButtonEl =\n",
              "        document.querySelector('#' + key + ' button');\n",
              "      quickchartButtonEl.disabled = true;  // To prevent multiple clicks.\n",
              "      quickchartButtonEl.classList.add('colab-df-spinner');\n",
              "      try {\n",
              "        const charts = await google.colab.kernel.invokeFunction(\n",
              "            'suggestCharts', [key], {});\n",
              "      } catch (error) {\n",
              "        console.error('Error during call to suggestCharts:', error);\n",
              "      }\n",
              "      quickchartButtonEl.classList.remove('colab-df-spinner');\n",
              "      quickchartButtonEl.classList.add('colab-df-quickchart-complete');\n",
              "    }\n",
              "    (() => {\n",
              "      let quickchartButtonEl =\n",
              "        document.querySelector('#df-f5fb7534-6575-41d2-83a1-6b78663331f7 button');\n",
              "      quickchartButtonEl.style.display =\n",
              "        google.colab.kernel.accessAllowed ? 'block' : 'none';\n",
              "    })();\n",
              "  </script>\n",
              "</div>\n",
              "    </div>\n",
              "  </div>\n"
            ]
          },
          "metadata": {},
          "execution_count": 26
        }
      ]
    },
    {
      "cell_type": "code",
      "source": [
        "plt.plot(congress_count_df['congress_num'], congress_count_df['num_bills'])"
      ],
      "metadata": {
        "colab": {
          "base_uri": "https://localhost:8080/",
          "height": 448
        },
        "id": "_w81ax59KN1t",
        "outputId": "363f5518-73a2-4f8a-9124-6dff50075b2a"
      },
      "execution_count": 28,
      "outputs": [
        {
          "output_type": "execute_result",
          "data": {
            "text/plain": [
              "[<matplotlib.lines.Line2D at 0x7c4dfa7c7610>]"
            ]
          },
          "metadata": {},
          "execution_count": 28
        },
        {
          "output_type": "display_data",
          "data": {
            "text/plain": [
              "<Figure size 640x480 with 1 Axes>"
            ],
            "image/png": "[encoded data removed]"
          },
          "metadata": {}
        }
      ]
    },
    {
      "cell_type": "markdown",
      "source": [
        "#### Create Embeddings"
      ],
      "metadata": {
        "id": "rQT8nFVyI3l-"
      }
    },
    {
      "cell_type": "code",
      "execution_count": 67,
      "metadata": {
        "id": "WFQ_sRnqWUgc",
        "colab": {
          "base_uri": "https://localhost:8080/"
        },
        "outputId": "c066ef33-cd98-42bd-dd25-4f82993ebdc6"
      },
      "outputs": [
        {
          "output_type": "stream",
          "name": "stdout",
          "text": []
        }
      ],
      "source": [
        "# generate embeddings\n",
        "rawEmbeddings, comparedEmbeddings = compareModels(congress_df, 'congress_num')"
      ]
    },
    {
      "cell_type": "code",
      "source": [
        "rawEmbeddings.keys()"
      ],
      "metadata": {
        "colab": {
          "base_uri": "https://localhost:8080/"
        },
        "id": "P4eIhFx4IjCU",
        "outputId": "72f4e6b4-436d-47ed-bf3e-e5e4c93c27fb"
      },
      "execution_count": 68,
      "outputs": [
        {
          "output_type": "execute_result",
          "data": {
            "text/plain": [
              "dict_keys([101, 102, 103, 104, 105, 106, 107, 108, 109, 110, 111, 112, 113, 114, 115, 116, 117, 118])"
            ]
          },
          "metadata": {},
          "execution_count": 68
        }
      ]
    },
    {
      "cell_type": "markdown",
      "source": [
        "#### Compare Embeddings across Permutations"
      ],
      "metadata": {
        "id": "v3-OrZ8GJAWF"
      }
    },
    {
      "cell_type": "code",
      "execution_count": 83,
      "metadata": {
        "id": "XwYOERfeWUgc",
        "colab": {
          "base_uri": "https://localhost:8080/",
          "height": 641
        },
        "outputId": "d69cbde3-ade1-4bc9-ed6c-6c5f10bb4be0"
      },
      "outputs": [
        {
          "output_type": "display_data",
          "data": {
            "text/plain": [
              "<Figure size 1000x700 with 2 Axes>"
            ],
            "image/png": "[encoded data removed]"
          },
          "metadata": {}
        }
      ],
      "source": [
        "# compare across permutations\n",
        "targetWord = 'privacy'\n",
        "\n",
        "pltDF = getDivergenceDF(targetWord, comparedEmbeddings)\n",
        "fig, ax = plt.subplots(figsize = (10, 7))\n",
        "seaborn.heatmap(pltDF, ax = ax, annot = False) #set annot True for a lot more information\n",
        "ax.set_xlabel(\"Starting year\")\n",
        "ax.set_ylabel(\"Final year\")\n",
        "ax.set_ylabel(\"Final year\")\n",
        "ax.set_title(\"Yearly linguistic change for: '{}'\".format(targetWord))\n",
        "plt.show()"
      ]
    },
    {
      "cell_type": "code",
      "execution_count": 84,
      "metadata": {
        "id": "Kte9Ip5TWUgc",
        "colab": {
          "base_uri": "https://localhost:8080/",
          "height": 641
        },
        "outputId": "2d0b80b6-6151-46c4-804f-fab53e790a35"
      },
      "outputs": [
        {
          "output_type": "display_data",
          "data": {
            "text/plain": [
              "<Figure size 1000x700 with 2 Axes>"
            ],
            "image/png": "[encoded data removed]"
          },
          "metadata": {}
        }
      ],
      "source": [
        "targetWord = 'abortion'\n",
        "\n",
        "pltDF = getDivergenceDF(targetWord, comparedEmbeddings)\n",
        "fig, ax = plt.subplots(figsize = (10, 7))\n",
        "seaborn.heatmap(pltDF, ax = ax, annot = False) #set annot True for a lot more information\n",
        "ax.set_xlabel(\"Starting year\")\n",
        "ax.set_ylabel(\"Final year\")\n",
        "ax.set_ylabel(\"Final year\")\n",
        "ax.set_title(\"Yearly linguistic change for: '{}'\".format(targetWord))\n",
        "plt.show()"
      ]
    },
    {
      "cell_type": "code",
      "source": [
        "targetWord = 'reproductive'\n",
        "\n",
        "pltDF = getDivergenceDF(targetWord, comparedEmbeddings)\n",
        "fig, ax = plt.subplots(figsize = (10, 7))\n",
        "seaborn.heatmap(pltDF, ax = ax, annot = False) #set annot True for a lot more information\n",
        "ax.set_xlabel(\"Starting year\")\n",
        "ax.set_ylabel(\"Final year\")\n",
        "ax.set_ylabel(\"Final year\")\n",
        "ax.set_title(\"Yearly linguistic change for: '{}'\".format(targetWord))\n",
        "plt.show()"
      ],
      "metadata": {
        "colab": {
          "base_uri": "https://localhost:8080/",
          "height": 641
        },
        "id": "KYpNCOglVxSK",
        "outputId": "20c23e5f-c6a7-47eb-9063-f1a1af838a8c"
      },
      "execution_count": 89,
      "outputs": [
        {
          "output_type": "display_data",
          "data": {
            "text/plain": [
              "<Figure size 1000x700 with 2 Axes>"
            ],
            "image/png": "[encoded data removed]"
          },
          "metadata": {}
        }
      ]
    },
    {
      "cell_type": "code",
      "source": [
        "targetWord = 'unlawful'\n",
        "\n",
        "pltDF = getDivergenceDF(targetWord, comparedEmbeddings)\n",
        "fig, ax = plt.subplots(figsize = (10, 7))\n",
        "seaborn.heatmap(pltDF, ax = ax, annot = False) #set annot True for a lot more information\n",
        "ax.set_xlabel(\"Starting year\")\n",
        "ax.set_ylabel(\"Final year\")\n",
        "ax.set_ylabel(\"Final year\")\n",
        "ax.set_title(\"Yearly linguistic change for: '{}'\".format(targetWord))\n",
        "plt.show()"
      ],
      "metadata": {
        "colab": {
          "base_uri": "https://localhost:8080/",
          "height": 641
        },
        "id": "kBbJdFo3V54j",
        "outputId": "c8b567ba-3c9c-436d-80f8-bc12bc87142c"
      },
      "execution_count": 91,
      "outputs": [
        {
          "output_type": "display_data",
          "data": {
            "text/plain": [
              "<Figure size 1000x700 with 2 Axes>"
            ],
            "image/png": "[encoded data removed]"
          },
          "metadata": {}
        }
      ]
    },
    {
      "cell_type": "code",
      "source": [
        "targetWord = 'fetus'\n",
        "\n",
        "pltDF = getDivergenceDF(targetWord, comparedEmbeddings)\n",
        "fig, ax = plt.subplots(figsize = (10, 7))\n",
        "seaborn.heatmap(pltDF, ax = ax, annot = False) #set annot True for a lot more information\n",
        "ax.set_xlabel(\"Starting year\")\n",
        "ax.set_ylabel(\"Final year\")\n",
        "ax.set_ylabel(\"Final year\")\n",
        "ax.set_title(\"Yearly linguistic change for: '{}'\".format(targetWord))\n",
        "plt.show()"
      ],
      "metadata": {
        "colab": {
          "base_uri": "https://localhost:8080/",
          "height": 641
        },
        "id": "HpX21VFXV-4H",
        "outputId": "f182dd24-794d-44b3-d30f-0ce8cd8168bf"
      },
      "execution_count": 92,
      "outputs": [
        {
          "output_type": "display_data",
          "data": {
            "text/plain": [
              "<Figure size 1000x700 with 2 Axes>"
            ],
            "image/png": "[encoded data removed]"
          },
          "metadata": {}
        }
      ]
    },
    {
      "cell_type": "markdown",
      "source": [
        "#### Find Text Divergences"
      ],
      "metadata": {
        "id": "Sga2iX52JBps"
      }
    },
    {
      "cell_type": "code",
      "execution_count": 112,
      "metadata": {
        "id": "oMoW3x6xWUgc",
        "colab": {
          "base_uri": "https://localhost:8080/"
        },
        "outputId": "516030f7-cad8-4913-a2d2-a07d623ae23a"
      },
      "outputs": [
        {
          "output_type": "stream",
          "name": "stdout",
          "text": [
            "Found 1915 words to compare\n"
          ]
        }
      ],
      "source": [
        "wordDivergences = findMostDivergent(comparedEmbeddings, 101)"
      ]
    },
    {
      "cell_type": "code",
      "execution_count": 119,
      "metadata": {
        "id": "YCqOaxhwWUgc",
        "colab": {
          "base_uri": "https://localhost:8080/"
        },
        "outputId": "612c6ac8-9b35-4f3e-d5e8-3a642ac43032"
      },
      "outputs": [
        {
          "output_type": "execute_result",
          "data": {
            "text/plain": [
              "[('app', 1.083611911162734),\n",
              " ('reorganization', 1.066710193436045),\n",
              " ('report', 0.9999999999999993),\n",
              " ('b', 0.9999999999999991),\n",
              " ('ii', 0.9999999999999991),\n",
              " ('health', 0.999999999999999),\n",
              " ('u.s.c', 0.999999999999999),\n",
              " ('title', 0.999999999999999),\n",
              " ('services', 0.9999999999999986),\n",
              " ('authorized', 0.9999999999999977),\n",
              " ('defense', 0.9999999999999974),\n",
              " ('paragraph', 0.9999999999999973),\n",
              " ('act', 0.9999999999999967),\n",
              " ('purposes', 0.9999999999999967),\n",
              " ('respect', 0.9999999999999962),\n",
              " ('state', 0.9999999999999962),\n",
              " ('funds', 0.999999999999996),\n",
              " ('foreign', 0.999999999999996),\n",
              " ('assistance', 0.999999999999996),\n",
              " ('government', 0.9999999999999958)]"
            ]
          },
          "metadata": {},
          "execution_count": 119
        }
      ],
      "source": [
        "# most divergent words\n",
        "wordDivergences[:20]"
      ]
    },
    {
      "cell_type": "code",
      "source": [
        "# least divergent words\n",
        "wordDivergences[-20:]"
      ],
      "metadata": {
        "colab": {
          "base_uri": "https://localhost:8080/"
        },
        "id": "F6wTmSitMqNr",
        "outputId": "84e8a38c-32b6-4644-ba16-1bdb497bc91c"
      },
      "execution_count": 114,
      "outputs": [
        {
          "output_type": "execute_result",
          "data": {
            "text/plain": [
              "[('requests', 0.3355655214365791),\n",
              " ('offer', 0.3341055021566503),\n",
              " ('west', 0.3326301714953254),\n",
              " ('litigation', 0.3276900410213891),\n",
              " ('printed', 0.3251125768703573),\n",
              " ('arising', 0.323292076587677),\n",
              " ('targeted', 0.32014355216832724),\n",
              " ('placed', 0.31991154481382933),\n",
              " ('contractors', 0.31665796479758096),\n",
              " ('giving', 0.3165128783268087),\n",
              " ('penalties', 0.3161293888081084),\n",
              " ('accept', 0.3146778345108032),\n",
              " ('characteristics', 0.31252479553222656),\n",
              " ('birth', 0.30760008447310505),\n",
              " ('past', 0.3039509706637439),\n",
              " ('informed', 0.30162330059444203),\n",
              " ('open', 0.3005976771168849),\n",
              " ('elimination', 0.29121125971569733),\n",
              " ('n', 0.29036756867871566),\n",
              " ('significantly', 0.27255846121731925)]"
            ]
          },
          "metadata": {},
          "execution_count": 114
        }
      ]
    },
    {
      "cell_type": "markdown",
      "source": [
        "#### Visualizations"
      ],
      "metadata": {
        "id": "Osz-p6K5Mw9M"
      }
    },
    {
      "cell_type": "code",
      "source": [
        "targetWord = wordDivergences[-200][0]\n",
        "\n",
        "pltDF = getDivergenceDF(targetWord, comparedEmbeddings)\n",
        "fig, ax = plt.subplots(figsize = (10, 7))\n",
        "seaborn.heatmap(pltDF, ax = ax, annot = False) #set annot True for a lot more information\n",
        "ax.set_xlabel(\"Starting year\")\n",
        "ax.set_ylabel(\"Final year\")\n",
        "ax.set_ylabel(\"Final year\")\n",
        "ax.set_title(\"Yearly linguistic change for: '{}'\".format(targetWord))\n",
        "plt.show()"
      ],
      "metadata": {
        "colab": {
          "base_uri": "https://localhost:8080/",
          "height": 641
        },
        "id": "kzjfisZBM8YO",
        "outputId": "1e9f23c6-c088-404b-ce0d-17228f76b631"
      },
      "execution_count": 115,
      "outputs": [
        {
          "output_type": "display_data",
          "data": {
            "text/plain": [
              "<Figure size 1000x700 with 2 Axes>"
            ],
            "image/png": "[encoded data removed]"
          },
          "metadata": {}
        }
      ]
    },
    {
      "cell_type": "code",
      "source": [
        "targetWord = wordDivergences[-1][0]\n",
        "\n",
        "pltDF = getDivergenceDF(targetWord, comparedEmbeddings)\n",
        "fig, ax = plt.subplots(figsize = (10, 7))\n",
        "seaborn.heatmap(pltDF, ax = ax, annot = False) #set annot True for a lot more information\n",
        "ax.set_xlabel(\"Starting year\")\n",
        "ax.set_ylabel(\"Final year\")\n",
        "ax.set_ylabel(\"Final year\")\n",
        "ax.set_title(\"Yearly linguistic change for: '{}'\".format(targetWord))\n",
        "plt.show()"
      ],
      "metadata": {
        "colab": {
          "base_uri": "https://localhost:8080/",
          "height": 641
        },
        "id": "CloB8u89M9_G",
        "outputId": "0b1db224-d2ca-4f9a-aa65-230a77670234"
      },
      "execution_count": 116,
      "outputs": [
        {
          "output_type": "display_data",
          "data": {
            "text/plain": [
              "<Figure size 1000x700 with 2 Axes>"
            ],
            "image/png": "[encoded data removed]"
          },
          "metadata": {}
        }
      ]
    },
    {
      "cell_type": "markdown",
      "source": [
        "#### Reflection\n",
        "- in terms of word divergences, even the least significant divergences had a divergence rate of at least 30%, showing how rapidly language used in legislation changes over time.\n",
        "- the most divergent words in part have to do with technological changes over time (app), and others instead seem to reflect changes in broad U.S. conversations (foreign, defense, health, etc.).\n",
        "- these findings seem to indicate that although the legislation is abortion specific, it still reflects broad trends in the U.S."
      ],
      "metadata": {
        "id": "w6g3H50wYjmI"
      }
    }
  ],
  "metadata": {
    "kernelspec": {
      "display_name": "Python 3",
      "name": "python3"
    },
    "language_info": {
      "codemirror_mode": {
        "name": "ipython",
        "version": 3
      },
      "file_extension": ".py",
      "mimetype": "text/x-python",
      "name": "python",
      "nbconvert_exporter": "python",
      "pygments_lexer": "ipython3",
      "version": "3.11.5"
    },
    "colab": {
      "provenance": [],
      "gpuType": "T4",
      "toc_visible": true
    },
    "accelerator": "GPU"
  },
  "nbformat": 4,
  "nbformat_minor": 0
}